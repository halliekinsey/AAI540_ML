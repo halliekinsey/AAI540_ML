{
 "cells": [
  {
   "cell_type": "code",
   "execution_count": 9,
   "metadata": {
    "execution": {
     "iopub.execute_input": "2025-03-01T20:07:08.225239Z",
     "iopub.status.busy": "2025-03-01T20:07:08.224860Z",
     "iopub.status.idle": "2025-03-01T20:07:10.123148Z",
     "shell.execute_reply": "2025-03-01T20:07:10.122438Z",
     "shell.execute_reply.started": "2025-03-01T20:07:08.225210Z"
    }
   },
   "outputs": [],
   "source": [
    "import requests\n",
    "from urllib.parse import urljoin\n",
    "from bs4 import BeautifulSoup\n",
    "from io import BytesIO\n",
    "\n",
    "import os\n",
    "from langchain.text_splitter import RecursiveCharacterTextSplitter\n",
    "import pinecone\n",
    "from sentence_transformers import SentenceTransformer\n",
    "import pandas as pd\n",
    "import torch\n",
    "import shutil"
   ]
  },
  {
   "cell_type": "code",
   "execution_count": 3,
   "metadata": {
    "execution": {
     "iopub.execute_input": "2025-03-01T20:55:22.217932Z",
     "iopub.status.busy": "2025-03-01T20:55:22.217562Z",
     "iopub.status.idle": "2025-03-01T20:55:22.220721Z",
     "shell.execute_reply": "2025-03-01T20:55:22.220235Z",
     "shell.execute_reply.started": "2025-03-01T20:55:22.217907Z"
    }
   },
   "outputs": [],
   "source": [
    "import warnings\n",
    "warnings.filterwarnings('ignore')"
   ]
  },
  {
   "cell_type": "code",
   "execution_count": 3,
   "metadata": {
    "execution": {
     "iopub.execute_input": "2025-03-01T19:45:17.242978Z",
     "iopub.status.busy": "2025-03-01T19:45:17.242630Z",
     "iopub.status.idle": "2025-03-01T19:45:17.245744Z",
     "shell.execute_reply": "2025-03-01T19:45:17.245181Z",
     "shell.execute_reply.started": "2025-03-01T19:45:17.242952Z"
    }
   },
   "outputs": [],
   "source": [
    "DATA_DIR = \"data\""
   ]
  },
  {
   "cell_type": "markdown",
   "metadata": {},
   "source": [
    "## Data Collection"
   ]
  },
  {
   "cell_type": "markdown",
   "metadata": {},
   "source": [
    "### Initial Realization\n",
    "\n",
    "Our initial strategy was to locate an existing dataset that addressed our specific use case. However, after an extensive search, we found that no suitable dataset was available. We then considered web scraping as an alternative. After a detailed review of both the technical challenges and legal implications, we decided against scraping third-party websites due to explicit restrictions. For example:\n",
    "\n",
    "- **Intuit (TurboTax):**  \n",
    "  Intuit’s TurboTax terms explicitly prohibit any “unauthorized access” to their platform, including scraping or downloading content that isn’t owned by the user. This means using bots or scripts to extract data without proper permission is not allowed (https://www.intuit.com/legal/terms/en-us/turbotax/online-license/).\n",
    "\n",
    "- **H&R Block:**  \n",
    "  H&R Block’s online services agreement similarly bans any automated data extraction. Users are not permitted to harvest, scrape, or use any automated means (such as bots or spiders) to access their software and services or extract data, especially personal information, without consent (https://assist.hrblockonline.ca/TermsAndConditions.html#:~:text=If%20you%20breach%20any%20of,may%20be%20available%20to%20Block).\n",
    "\n",
    "- **TaxAct:**  \n",
    "  TaxAct’s Terms of Service include clear restrictions against using data mining, robots, artificial intelligence, or similar methods to extract data from their website. Their services are intended solely for personal tax preparation, and automated extraction of content such as Q&A is considered a breach of these terms (https://www.taxact.com/terms-of-service).\n",
    "\n",
    "### Synthetic Data vs. RAG Approach\n",
    "\n",
    "Another option we explored was generating synthetic data. Although synthetic data creation could have provided the necessary material, we encountered significant challenges—such as bias, hallucinations, and data quality concerns—which made this approach less attractive.\n",
    "\n",
    "Ultimately, we determined that a Retrieval-Augmented Generation (RAG) approach would be the best course of action. Rather than fine-tuning on potentially limited or noisy data, the RAG framework allows us to map final answers directly to verified reference materials. This method not only saves valuable development time—since fine-tuning requires hand-creating and curating datasets—but also ensures that our model’s outputs are traceable to reliable sources.\n",
    "\n",
    "### Model Integration and Architecture\n",
    "\n",
    "Since most of the models we can run are relatively small or quantized, incorporating a larger model into our workflow allows us to add significant value. Our approach involves using multiple architectures to extract tax-related questions and verify their answers. This ensemble method helps counteract individual model biases and provides a more robust foundation for the final expert-level tax advisor model that we plan to fine-tune.\n",
    "\n",
    "### Tuning for Context and Bias Reduction\n",
    "\n",
    "For tuning, we are planning to focus on improving contextual awareness and removing bias by extracting information from a variety of sources. As part of our quality assurance process, we reviewed a random sample of 32 tax-related questions to check for any immediate and major hallucinations—and found none.\n"
   ]
  },
  {
   "cell_type": "markdown",
   "metadata": {},
   "source": [
    "\n",
    "### Data Collection Responses\n",
    "\n",
    "Below is an organized summary of the responses received from various models during our evaluation process. Each model’s output has been annotated with a placeholder to indicate where the detailed responses will be integrated:\n",
    "\n",
    "#### GPT4o (Online Search Feature):\n",
    "\n",
    "Prompt to GPT4o using online scraping feature: Research online and give me the top 20 tax questions that most people ask, along with the answers to those questions. \n",
    "\n",
    "##### Response:\n",
    "\n",
    "```\n",
    "\n",
    "Navigating the complexities of the U.S. tax system can be challenging. Below are 20 common tax questions along with concise answers to help clarify these topics:\n",
    "\n",
    "1. **How can I reduce my tax bill?**\n",
    "   - To lower your tax liability, consider maximizing deductions and credits, contributing to retirement accounts, and utilizing tax-efficient investments. Consult a tax professional for personalized strategies. citeturn0search8\n",
    "\n",
    "2. **What deductions am I eligible for?**\n",
    "   - Eligibility for deductions varies based on individual circumstances. Common deductions include mortgage interest, state and local taxes, charitable contributions, and medical expenses exceeding a certain threshold. citeturn0search8\n",
    "\n",
    "3. **What's the difference between marginal and effective tax rates?**\n",
    "   - The marginal tax rate is the rate applied to your next dollar of income, while the effective tax rate is the average rate you pay on your total taxable income. citeturn0search8\n",
    "\n",
    "4. **Which is better: a tax credit or a tax deduction?**\n",
    "   - A tax credit directly reduces your tax liability dollar-for-dollar, whereas a deduction lowers your taxable income. Generally, credits are more beneficial. citeturn0search8\n",
    "\n",
    "5. **Can I deduct medical expenses?**\n",
    "   - Yes, you can deduct unreimbursed medical expenses that exceed 7.5% of your adjusted gross income, provided you itemize your deductions. citeturn0search8\n",
    "\n",
    "6. **Should I itemize deductions or take the standard deduction?**\n",
    "   - You should itemize if your allowable deductions exceed the standard deduction for your filing status. Otherwise, the standard deduction may be more beneficial. citeturn0search8\n",
    "\n",
    "7. **How do tax brackets work?**\n",
    "   - The U.S. tax system is progressive; income is taxed at increasing rates as it moves into higher brackets. Each bracket applies to a specific range of income. citeturn0search5\n",
    "\n",
    "8. **What is the Earned Income Tax Credit (EITC) and how do I claim it?**\n",
    "   - The EITC is a refundable credit for low to moderate-income earners. Eligibility depends on income and number of qualifying children. To claim, file a tax return even if you owe no tax. citeturn0search1\n",
    "\n",
    "9. **Are unemployment benefits taxable?**\n",
    "   - Yes, unemployment benefits are generally considered taxable income at the federal level and may also be taxable at the state level. citeturn0search1\n",
    "\n",
    "10. **How are my investment gains taxed?**\n",
    "    - Short-term capital gains (on assets held less than a year) are taxed as ordinary income, while long-term gains benefit from lower tax rates. citeturn0search0\n",
    "\n",
    "11. **Do I pay taxes on investments if I don't sell them?**\n",
    "    - Generally, you pay taxes on dividends and interest earned, even if you don't sell the investment. Capital gains taxes apply only upon sale. citeturn0search0\n",
    "\n",
    "12. **What income is taxable?**\n",
    "    - Taxable income includes wages, salaries, bonuses, interest, dividends, rental income, and other earnings. Some income, like certain Social Security benefits, may be partially taxable. citeturn0search0\n",
    "\n",
    "13. **When are taxes due?**\n",
    "    - Federal income tax returns are typically due on April 15. If this date falls on a weekend or holiday, the deadline is the next business day. citeturn0search2\n",
    "\n",
    "14. **What happens if I don't file my taxes?**\n",
    "    - Failure to file can result in penalties, interest on unpaid taxes, and potential legal action. It's advisable to file even if you can't pay immediately. citeturn0search2\n",
    "\n",
    "15. **How do I notify the IRS of an address change?**\n",
    "    - You can inform the IRS by filing Form 8822, using your new address on your tax return, or sending a signed written statement to the address where you filed your last return. citeturn0search7\n",
    "\n",
    "16. **Can I claim my boyfriend/girlfriend as a dependent?**\n",
    "    - Possibly, if they meet the criteria for a qualifying relative, including residency, income limits, and you providing over half of their support. citeturn0search1\n",
    "\n",
    "17. **Are moving expenses tax-deductible?**\n",
    "    - As of the Tax Cuts and Jobs Act of 2017, moving expenses are generally not deductible, except for active-duty military members moving due to a military order. citeturn0search1\n",
    "\n",
    "18. **How do I check the status of my tax refund?**\n",
    "    - You can check your refund status using the \"Where's My Refund?\" tool on the IRS website or via the IRS2Go mobile app. citeturn0news9\n",
    "\n",
    "19. **What is the Alternative Minimum Tax (AMT)?**\n",
    "    - The AMT is a parallel tax system ensuring that high-income individuals pay a minimum amount of tax, disallowing certain deductions and credits. citeturn0search10\n",
    "\n",
    "20. **How long should I keep tax records?**\n",
    "    - It's recommended to keep tax records for at least three years from the date you filed your return or two years from the date you paid the tax, whichever is later. citeturn0search10\n",
    "```\n",
    "\n",
    "#### ChatGPT o3-mini-high:  \n",
    "\n",
    "Prompt to ChatGPT o3-mini-high: give me 20 more of the tax question. Some deep ones. search online or just if you know them\n",
    "\n",
    "##### Response:\n",
    "\n",
    "```\n",
    "| Question | Answer |\n",
    "|----------|--------|\n",
    "| **What is the difference between tax avoidance and tax evasion?** | Tax avoidance is the legal use of tax laws, deductions, credits, and strategies to minimize tax liability. Tax evasion, on the other hand, is the illegal act of misrepresenting or concealing information to reduce taxes owed. |\n",
    "| **How does the Alternative Minimum Tax (AMT) work for high-income taxpayers?** | The AMT is a parallel tax system designed to ensure that high-income taxpayers pay a minimum tax. It limits or disallows many deductions and credits available under the regular tax system, requiring taxpayers to calculate their liability under both methods and pay the higher amount. |\n",
    "| **How do tax treaties mitigate double taxation on international income?** | Tax treaties are agreements between countries that allocate taxing rights on cross-border income. They help prevent the same income from being taxed twice by providing methods such as tax credits, exemptions, or reduced withholding rates on dividends, interest, and royalties. |\n",
    "| **How is cost basis determined for capital gains, and what adjustments are commonly made?** | The cost basis is generally the original purchase price plus any associated acquisition costs. Adjustments may include depreciation, stock splits, reinvested dividends, or return of capital. The adjusted basis is used to compute the gain or loss when the asset is sold. |\n",
    "| **What are the implications of the passive activity loss rules for rental real estate investments?** | Passive activity loss rules restrict the deduction of losses from rental and other passive activities against non-passive income. Losses that exceed the limit cannot be deducted in the current year but may be carried forward to offset future passive income or become deductible when the activity is sold. |\n",
    "| **How are self-employment taxes calculated, and what strategies can reduce their impact?** | Self-employment taxes are calculated on net earnings at a combined rate of 15.3% (12.4% for Social Security and 2.9% for Medicare). Taxpayers can reduce the impact by deducting half of the self-employment tax as an adjustment to income and contributing to retirement plans that lower taxable income. |\n",
    "| **What is the Qualified Business Income (QBI) deduction and what limitations apply?** | The QBI deduction allows eligible owners of pass-through entities to deduct up to 20% of their qualified business income. Limitations include income thresholds, restrictions for specified service trades or businesses, and additional requirements involving W-2 wages and the basis of qualified property. |\n",
    "| **How does the tax treatment of cryptocurrency transactions differ from traditional investments?** | Cryptocurrencies are treated as property for tax purposes. This means that transactions such as sales or exchanges trigger capital gains or losses calculated based on the difference between the cost basis and the sale price. Taxpayers must keep detailed records, and special rules may apply for frequent trading or mining activities. |\n",
    "| **What are the tax implications of stock options, and how do ISOs differ from NSOs?** | Incentive Stock Options (ISOs) can qualify for favorable tax treatment if holding requirements are met, potentially resulting in capital gains on sale. However, exercising ISOs may trigger the AMT. Non-Qualified Stock Options (NSOs) are taxed as ordinary income at the time of exercise, based on the difference between the exercise price and the fair market value. |\n",
    "| **How does depreciation recapture affect the sale of depreciated property?** | When selling depreciated property, the portion of the gain attributable to depreciation deductions previously taken is \"recaptured\" and taxed as ordinary income rather than at the lower capital gains rate. This rule applies mainly to business or rental property and ensures that depreciation benefits are partially reversed. |\n",
    "| **How does a Section 1031 like-kind exchange work and what are its limitations post-TCJA?** | A Section 1031 exchange allows taxpayers to defer capital gains tax on the sale of certain investment properties by reinvesting the proceeds in similar (like-kind) property. Post-TCJA, the exchange is limited to real property and must adhere to strict identification and timing rules to qualify for deferral. |\n",
    "| **What are the tax implications of receiving foreign income and using the Foreign Tax Credit?** | U.S. taxpayers must report their worldwide income, including foreign income. The Foreign Tax Credit helps prevent double taxation by allowing a credit for taxes paid to a foreign government. The credit is limited to the proportion of U.S. tax attributable to foreign income, and any excess foreign taxes may be carried back or forward. |\n",
    "| **How does the cancellation of debt (COD) income work and what is the insolvency exception?** | Generally, canceled debt is considered taxable income. However, if a taxpayer is insolvent—meaning their liabilities exceed their assets—they may exclude canceled debt from income up to the amount of insolvency. Proper documentation and filing of Form 982 are required to claim this exception. |\n",
    "| **How do installment sales work for deferring gain on property sales?** | An installment sale allows the seller to spread the recognition of gain over the period in which the payments are received. Each installment includes a portion of the gain based on the gross profit ratio. This method can help spread out tax liability over several years, potentially lowering overall tax rates. |\n",
    "| **What is the doctrine of economic substance and how does it affect tax planning?** | The economic substance doctrine requires that transactions have a substantial non-tax purpose beyond merely generating tax benefits. If a transaction is found to lack economic substance, the IRS may disregard it for tax purposes, which can lead to disallowed deductions or credits and potential penalties. |\n",
    "| **How do tax loss carryforwards and carrybacks work, and what limitations exist?** | Tax loss carryforwards allow a taxpayer to apply a net operating loss (NOL) to offset taxable income in future years. Some losses may also be carried back to prior years for a refund. Limitations include percentage caps on how much of a loss can be used in a given year and expiration periods for carrying losses forward. |\n",
    "| **What are the tax implications of converting a business entity, such as from an LLC to an S corporation?** | Converting a business entity can trigger tax consequences such as recognition of gain on appreciated assets, changes in self-employment tax treatment, and adjustments in the allocation of income and losses among owners. The conversion process must be planned carefully to minimize unintended tax liabilities. |\n",
    "| **How does the treatment of charitable contributions differ when itemizing deductions versus taking the standard deduction?** | When itemizing, taxpayers can deduct qualified charitable contributions subject to AGI limits and documentation requirements. Those taking the standard deduction cannot separately deduct charitable contributions unless there is a special above-the-line provision available. |\n",
    "| **How are fringe benefits taxed, and what exceptions exist?** | Fringe benefits are generally taxable to employees unless specifically excluded by law. Common exceptions include employer-provided health insurance, certain transportation benefits, and de minimis benefits (small perks with minimal value). The IRS provides specific valuation rules for various benefits. |\n",
    "| **How does the tax treatment differ for nonresident aliens compared to U.S. residents?** | Nonresident aliens are typically taxed only on income that is effectively connected with a U.S. trade or business and on certain fixed, determinable, annual, or periodic (FDAP) U.S.-source income, often at a flat withholding rate. U.S. residents are taxed on their worldwide income and face different filing requirements and deductions. |\n",
    "```\n",
    "\n",
    "\n",
    "\n",
    "#### Claude 3.7 Sonnet: \n",
    "\n",
    "\n",
    "Prompt to Claude 3.7 Sonnet: give me 40 questions related to tax, not too unique ones and the answers to it in detail in a table\n",
    "\n",
    "\n",
    "##### Response:\n",
    "\n",
    "```\n",
    "# 40 Common Tax Questions and Detailed Answers\n",
    "\n",
    "| Question | Detailed Answer |\n",
    "|----------|----------------|\n",
    "| 1. What is the difference between a tax credit and a tax deduction? | A tax credit directly reduces your tax liability dollar-for-dollar. If you owe $1,000 in taxes and receive a $200 tax credit, your tax bill becomes $800. A tax deduction, on the other hand, reduces your taxable income. If you have a $1,000 deduction in the 22% tax bracket, it reduces your taxes by $220 (22% of $1,000). Credits are generally more valuable than deductions of the same amount. |\n",
    "| 2. What is the standard deduction for 2024? | For the 2024 tax year (filing in 2025), the standard deduction is $14,600 for single filers and married filing separately, $29,200 for married filing jointly, and $21,900 for heads of household. These amounts are adjusted annually for inflation. |\n",
    "| 3. What is the difference between itemized deductions and the standard deduction? | The standard deduction is a fixed amount that reduces your taxable income based on your filing status. Itemized deductions are specific expenses you can deduct, such as mortgage interest, charitable donations, medical expenses, and state and local taxes (up to certain limits). You should choose whichever method gives you the larger deduction. |\n",
    "| 4. How long should I keep tax records? | The IRS recommends keeping tax returns and supporting documents for at least 3 years after filing, as this is generally the statute of limitations for audits. However, if you underreport income by more than 25%, the IRS has 6 years to audit you. For employment tax records, keep them for at least 4 years. For property records, keep them until you dispose of the property plus 3-7 years. |\n",
    "| 5. What is the capital gains tax rate? | For 2024, long-term capital gains (assets held over one year) are taxed at 0% for incomes up to $47,025 (single) or $94,050 (married filing jointly), 15% for incomes up to $518,900 (single) or $583,750 (married filing jointly), and 20% for incomes above those thresholds. Short-term capital gains (assets held one year or less) are taxed as ordinary income. |\n",
    "| 6. How do I calculate my tax bracket? | Tax brackets are based on your taxable income (after deductions and adjustments). For 2024, there are seven federal income tax brackets: 10%, 12%, 22%, 24%, 32%, 35%, and 37%. Your taxable income falls into specific brackets, with higher rates applying only to the portion of income that exceeds each threshold, creating a progressive tax system. |\n",
    "| 7. What is the deadline for filing taxes? | For most individuals, federal income tax returns are due by April 15th each year. If April 15th falls on a weekend or holiday, the deadline shifts to the next business day. You can request a six-month extension using Form 4868, but this only extends the filing deadline—not the deadline for paying any taxes owed. |\n",
    "| 8. What is the penalty for filing taxes late? | The penalty for filing late is typically 5% of the unpaid taxes for each month or part of a month that the return is late, up to 25%. If you file more than 60 days late, the minimum penalty is $485 (for returns due in 2024) or 100% of your unpaid tax, whichever is smaller. There's also a separate penalty for paying late: 0.5% of unpaid taxes per month, up to 25%. |\n",
    "| 9. What tax forms do I need to file? | Most individuals use Form 1040 for federal income taxes. Additional schedules may be required depending on your situation: Schedule A for itemized deductions, Schedule B for interest and dividends, Schedule C for self-employment income, Schedule D for capital gains and losses, Schedule E for rental income, and Schedule SE for self-employment tax calculation. |\n",
    "| 10. How do I check my tax refund status? | You can check your federal tax refund status using the \"Where's My Refund?\" tool on the IRS website or the IRS2Go mobile app. You'll need your Social Security number, filing status, and exact refund amount. Most refunds are issued within 21 days of electronic filing, though some may take longer due to errors, identity verification, or certain tax credits claimed. |\n",
    "| 11. What is the Earned Income Tax Credit (EITC)? | The EITC is a refundable tax credit for low to moderate-income working individuals and couples, particularly those with children. For 2024, the maximum credit ranges from $600 (no qualifying children) to $7,430 (three or more qualifying children). Eligibility and credit amount depend on filing status, income, and number of qualifying children. |\n",
    "| 12. Are unemployment benefits taxable? | Yes, unemployment benefits are generally considered taxable income at the federal level. You should receive Form 1099-G showing the amount of unemployment compensation you received during the tax year. However, state taxation of unemployment benefits varies by state. |\n",
    "| 13. How do I report cryptocurrency transactions on my taxes? | Cryptocurrency transactions are reported on Schedule D and Form 8949. You must report any capital gains or losses from buying, selling, or exchanging cryptocurrency. Mining rewards and receiving crypto as payment for goods or services are typically reported as ordinary income. The IRS considers crypto as property for tax purposes, not currency. |\n",
    "| 14. What is the Child Tax Credit? | The Child Tax Credit for 2024 is worth up to $2,000 per qualifying child under age 17, with up to $1,600 being refundable (as the Additional Child Tax Credit). The credit begins to phase out for single filers with modified AGI above $200,000 and married filing jointly above $400,000. |\n",
    "| 15. What is the tax treatment for Health Savings Accounts (HSAs)? | HSAs offer triple tax advantages: contributions are tax-deductible, growth is tax-free, and withdrawals for qualified medical expenses are tax-free. For 2024, the contribution limit is $4,150 for individual coverage and $8,300 for family coverage, with an additional $1,000 catch-up contribution allowed for those 55 or older. |\n",
    "| 16. How do 401(k) contributions affect my taxes? | Traditional 401(k) contributions are made pre-tax, reducing your taxable income for the year. For example, if you earn $60,000 and contribute $6,000 to your 401(k), your taxable income becomes $54,000. The 2024 contribution limit is $23,000, with an additional $7,500 catch-up contribution allowed for those 50 or older. Roth 401(k) contributions are made after-tax but grow tax-free. |\n",
    "| 17. What home expenses are tax deductible? | For most homeowners, mortgage interest on up to $750,000 of acquisition debt (for homes purchased after Dec. 15, 2017) and property taxes (up to $10,000 combined with state and local income taxes) are deductible if you itemize. Home office expenses may be deductible for self-employed individuals using the exclusive area regularly for business. |\n",
    "| 18. How are Social Security benefits taxed? | Social Security benefits may be partially taxable depending on your \"combined income\" (adjusted gross income + nontaxable interest + half of your Social Security benefits). For individuals with combined income between $25,000 and $34,000, up to 50% of benefits may be taxable. Above $34,000, up to 85% may be taxable. For married filing jointly, the thresholds are $32,000 and $44,000. |\n",
    "| 19. What is the Gift Tax exclusion amount? | For 2024, you can give up to $18,000 per recipient per year without filing a gift tax return or counting against your lifetime estate and gift tax exemption. Married couples can split gifts, allowing up to $36,000 per recipient annually. Payments made directly to educational institutions or medical providers are exempt from gift tax regardless of amount. |\n",
    "| 20. How do I handle taxes for a side gig or freelance work? | Income from side gigs or freelance work is reported on Schedule C. You're responsible for paying self-employment tax (15.3% for Social Security and Medicare) on net earnings over $400, reported on Schedule SE. You may need to make quarterly estimated tax payments using Form 1040-ES if you expect to owe $1,000 or more in taxes. Keep detailed records of business expenses for potential deductions. |\n",
    "| 21. What education expenses are tax deductible or eligible for credits? | The American Opportunity Credit provides up to $2,500 per eligible student for the first four years of higher education. The Lifetime Learning Credit offers up to $2,000 per tax return for undergraduate, graduate, or professional courses. Student loan interest (up to $2,500) may be deductible. Qualified tuition and related expenses may be deductible under the Tuition and Fees Deduction. |\n",
    "| 22. How does marriage affect taxes? | Marriage can create a \"marriage bonus\" or \"marriage penalty\" depending on your incomes. When spouses have similar incomes, especially if both are high earners, they may pay more tax filing jointly than they would as singles (\"marriage penalty\"). When incomes are disparate, joint filing often results in lower taxes (\"marriage bonus\"). Marriage affects tax brackets, standard deduction, and various credits and deductions. |\n",
    "| 23. What is the Alternative Minimum Tax (AMT)? | The AMT is a parallel tax system designed to ensure that taxpayers with substantial income don't avoid paying taxes through deductions and credits. It has its own set of rules for calculating taxable income with fewer available deductions. You calculate tax under both regular and AMT systems and pay the higher amount. The AMT exemption for 2024 is $85,700 for singles and $133,300 for married filing jointly. |\n",
    "| 24. How are dividends taxed? | Qualified dividends are taxed at the same preferential rates as long-term capital gains (0%, 15%, or 20%, depending on your income). Non-qualified dividends are taxed as ordinary income. Dividends from most U.S. corporations and certain foreign corporations are generally qualified if you've held the stock for more than 60 days during the 121-day period beginning 60 days before the ex-dividend date. |\n",
    "| 25. What are the tax implications of working remotely in a different state? | Working remotely across state lines can create multi-state tax obligations. You may owe income tax to both your state of residence and the state where your employer is located, though tax credits typically prevent double taxation. Some states have \"convenience of employer\" rules that tax nonresident telecommuters. During COVID-19, some states implemented temporary relief provisions. |\n",
    "| 26. What charitable donations are tax deductible? | Donations to qualified tax-exempt organizations (churches, nonprofit educational organizations, etc.) are deductible if you itemize. For cash donations, you can deduct up to 60% of your adjusted gross income (AGI). For property donations, the limit is typically 30% of AGI. Always get a receipt for donations of $250 or more, and special forms may be required for donations over $500. |\n",
    "| 27. How do I claim a home office deduction? | Self-employed individuals can claim home office deductions using either the regular method (calculating actual expenses) or simplified method ($5 per square foot, up to 300 square feet). The space must be used regularly and exclusively for business. W-2 employees generally cannot claim home office deductions for tax years 2018-2025 due to the suspension of the miscellaneous itemized deductions. |\n",
    "| 28. What is depreciation recapture? | Depreciation recapture occurs when you sell a depreciable asset (like rental property) for more than its depreciated value. The portion of your gain attributable to depreciation is taxed as ordinary income, up to 25%, rather than at capital gains rates. This prevents taxpayers from claiming ordinary deductions while receiving the benefit of lower capital gains rates on sale. |\n",
    "| 29. How do I report rental income and expenses? | Rental income and expenses are reported on Schedule E. Deductible expenses include mortgage interest, property taxes, insurance, maintenance, utilities, management fees, and depreciation of the property. Rental losses may be deductible up to $25,000 against other income if your modified AGI is less than $100,000 and you actively participate in the rental activity. |\n",
    "| 30. What is the Net Investment Income Tax (NIIT)? | The NIIT is a 3.8% tax on net investment income (interest, dividends, capital gains, rental income, royalties, etc.) that applies to individuals with modified adjusted gross income exceeding $200,000 (single) or $250,000 (married filing jointly). It's calculated on the lesser of your net investment income or the amount by which your MAGI exceeds the threshold. |\n",
    "| 31. How are retirement account withdrawals taxed? | Traditional IRA and 401(k) withdrawals are generally taxed as ordinary income. Roth IRA qualified distributions (after age 59½ and account open for 5+ years) are tax-free. Early withdrawals (before age 59½) may incur a 10% penalty in addition to regular income tax, though exceptions exist. Required Minimum Distributions (RMDs) must begin at age 73 (as of 2024) for traditional accounts. |\n",
    "| 32. What is the tax treatment for stock options? | For Non-Qualified Stock Options (NQSOs), you pay ordinary income tax on the difference between the grant price and exercise price when you exercise the option. For Incentive Stock Options (ISOs), you generally don't pay tax upon exercise, but the difference may trigger Alternative Minimum Tax. When you sell the stock, you'll pay capital gains tax on any additional appreciation. |\n",
    "| 33. How do I deduct medical expenses? | Medical expenses exceeding 7.5% of your adjusted gross income are deductible if you itemize. Eligible expenses include costs for diagnosis, treatment, prevention, insurance premiums (if not pre-tax), prescription drugs, and certain long-term care expenses. Cosmetic procedures, non-prescription drugs, and general health products typically don't qualify. |\n",
    "| 34. What is the Saver's Credit? | The Saver's Credit (officially the Retirement Savings Contributions Credit) provides a tax credit of up to $1,000 ($2,000 for married filing jointly) for low and moderate-income taxpayers who contribute to retirement accounts. For 2024, the credit phases out for single filers with AGI above $24,000 and married filing jointly above $48,000. The credit amount is 10%, 20%, or 50% of contributions, depending on income. |\n",
    "| 35. How do I report stock sales on my tax return? | Stock sales are reported on Schedule D and Form 8949. Your broker should provide Form 1099-B with details of your transactions. You'll need to report the sale date, purchase date, cost basis, sale proceeds, and gain or loss. Holding periods determine whether gains are short-term (ordinary income rates) or long-term (preferential capital gains rates). |\n",
    "| 36. What is the Foreign Tax Credit? | The Foreign Tax Credit helps U.S. taxpayers avoid double taxation on foreign-source income by providing a credit for foreign taxes paid. You can either take a deduction for foreign taxes paid (on Schedule A) or a credit (using Form 1116, though Form 1040 filers with only passive foreign income may qualify for a simplified procedure). The credit is generally more beneficial than the deduction. |\n",
    "| 37. What are the tax implications of cancellation of debt? | Cancelled debt is generally considered taxable income. If a creditor forgives or cancels $600 or more of debt, they'll issue Form 1099-C. However, exceptions exist for certain bankruptcy cases, insolvency, qualified principal residence indebtedness, qualified farm debt, and certain student loans. The tax treatment depends on your specific circumstances and the type of debt. |\n",
    "| 38. How do I report gambling winnings and losses? | All gambling winnings are reportable as \"Other Income\" on Form 1040. Casinos and other payers may provide Form W-2G for certain winnings. Gambling losses are deductible only if you itemize deductions and only up to the amount of your winnings. Keep detailed records of both winnings and losses, including dates, locations, types of gambling, and amounts won or lost. |\n",
    "| 39. What is the tax treatment for Health Flexible Spending Arrangements (FSAs)? | Health FSA contributions are made pre-tax through employer plans, reducing your taxable income. For 2024, the contribution limit is $3,200. Unlike HSAs, FSAs generally follow a \"use it or lose it\" rule, though employers may offer either a grace period of up to 2.5 months or allow carrying over up to $640 to the next year. Withdrawals for qualified medical expenses are tax-free. |\n",
    "| 40. How are inherited assets taxed? | Inherited assets generally receive a \"step-up\" in basis to their fair market value on the date of the original owner's death, eliminating capital gains tax on appreciation that occurred during the deceased's lifetime. When you eventually sell the asset, you'll only pay capital gains tax on appreciation since inheritance. Some inherited retirement accounts have specific required distribution rules that affect taxation. |\n",
    "```\n",
    "\n",
    "\n",
    "#### Llama 3.1-405B:\n",
    "\n",
    "\n",
    "Prompt to  Llama 3.1-405B: give me 40 questions related to tax, not too unique ones and the answers to it in detail in a table, be detailed\n",
    "\n",
    "##### Response:\n",
    "\n",
    "```\n",
    "Here are the 40 tax-related questions with detailed answers:\n",
    "Tax-Related Questions and Answers\n",
    "\n",
    "Question #\tQuestion\tAnswer\n",
    "1\tWhat is the deadline for filing individual tax returns?\tThe deadline for filing individual tax returns is April 15th of each year, unless an extension is filed using Form 4868, which grants an automatic six-month extension to October 15th.\n",
    "| 2 | What is the standard deduction for single filers? | The standard deduction for single filers is $13,850 for tax year 2023. This amount is adjusted annually for inflation. |\n",
    "| 3 | What is the standard deduction for married couples filing jointly? | The standard deduction for married couples filing jointly is $27,700 for tax year 2023. This amount is also adjusted annually for inflation. |\n",
    "| 4 | What is the tax rate for long-term capital gains? | Long-term capital gains are taxed at 0%, 15%, or 20% depending on income level. For tax year 2023, the 0% rate applies to taxable income up to $44,625 for single filers and $89,250 for joint filers. The 15% rate applies to taxable income between $44,626 and $492,300 for single filers and $89,251 and $553,850 for joint filers. The 20% rate applies to taxable income above $492,300 for single filers and $553,850 for joint filers. |\n",
    "| 5 | Can I deduct mortgage interest on my tax return? | Yes, you can deduct mortgage interest on your primary residence and/or second home, up to a total of $750,000 ($375,000 for married filing separately). You must itemize deductions on Schedule A to claim this deduction. |\n",
    "| 6 | What is the earned income tax credit (EITC)? | The EITC is a refundable tax credit for low-income working individuals and families. For tax year 2023, the credit ranges from $538 to $6,728 depending on income level, filing status, and number of qualifying children. |\n",
    "| 7 | Can I claim a dependent on my tax return? | Yes, you can claim a dependent on your tax return if they meet certain tests, such as the qualifying child or qualifying relative test. You may be eligible for the dependent exemption, child tax credit, or other benefits. |\n",
    "| 8 | What is the child tax credit? | The child tax credit is a non-refundable tax credit of up to $2,000 per child under age 17. The credit begins to phase out at $400,000 for joint filers and $200,000 for single filers. |\n",
    "| 9 | Do I need to file a tax return if I'm self-employed? | Yes, you need to file a tax return if your net earnings from self-employment are $400 or more. You'll report your business income and expenses on Schedule C and pay self-employment tax on your net earnings. |\n",
    "| 10 | What is the self-employment tax rate? | The self-employment tax rate is 15.3% of net earnings from self-employment. This includes 12.4% for Social Security and 2.9% for Medicare. You'll report self-employment tax on Schedule SE. |\n",
    "| 11 | Can I deduct business expenses on my tax return? | Yes, you can deduct business expenses on your tax return if you're self-employed or have a side hustle. You'll report business expenses on Schedule C and may need to complete additional forms, such as Form 8829 for the home office deduction. |\n",
    "| 12 | What is the home office deduction? | The home office deduction allows you to deduct a portion of your rent or mortgage interest and utilities if you use a dedicated space for business. You can use the simplified option, which allows a deduction of $5 per square foot of home office space, up to a maximum of $1,500. |\n",
    "| 13 | Can I deduct charitable donations on my tax return? | Yes, you can deduct charitable donations on your tax return if you itemize deductions on Schedule A. You'll need to keep receipts or bank records to substantiate your donations. |\n",
    "| 14 | What is the limit on state and local tax (SALT) deductions? | The limit on SALT deductions is $10,000 ($5,000 for married filing separately). This includes state income taxes, local property taxes, and other taxes. |\n",
    "| 15 | Can I deduct medical expenses on my tax return? | Yes, you can deduct medical expenses on your tax return if you itemize deductions on Schedule A. You can deduct expenses that exceed 10% of your adjusted gross income (AGI). |\n",
    "| 16 | What is the alternative minimum tax (AMT)? | The AMT is a separate tax calculation that ensures a minimum amount of tax is paid. You'll complete Form 6251 to determine if you owe AMT. |\n",
    "| 17 | Can I claim a deduction for education expenses? | Yes, you can claim a deduction for education expenses if you're pursuing higher education and meet certain requirements. You may be eligible for the American Opportunity Tax Credit or the Lifetime Learning Credit. |\n",
    "| 18 | What is the student loan interest deduction? | The student loan interest deduction allows you to deduct up to $2,500 of interest paid on student loans. This deduction is subject to income limits and is claimed on Form 1040. |\n",
    "| 19 | Can I deduct moving expenses on my tax return? | Yes, you can deduct moving expenses on your tax return if you're moving for a job or business and meet certain requirements. You'll complete Form 3903 to claim this deduction. |\n",
    "| 20 | What is the tax rate for short-term capital gains? | Short-term capital gains are taxed as ordinary income, using the same tax rates as your regular income. |\n",
    "| 21 | Can I deduct property taxes on my tax return? | Yes, you can deduct property taxes on your primary residence and/or second home, up to a total of $10,000 ($5,000 for married filing separately). You must itemize deductions on Schedule A to claim this deduction. |\n",
    "| 22 | What is the qualified business income (QBI) deduction? | The QBI deduction allows you to deduct up to 20% of qualified business income from a partnership, S corporation, or sole proprietorship. This deduction is subject to income limits and is claimed on Form 1040. |\n",
    "| 23 | Can I deduct retirement contributions on my tax return? | Yes, you can deduct contributions to a traditional IRA or 401(k) on your tax return. These contributions may be subject to income limits and are claimed on Form 1040. |\n",
    "| 24 | What is the required minimum distribution (RMD) age? | The RMD age is 72 years old, unless you're still working for an employer sponsoring a retirement plan. You'll need to take RMDs from traditional IRAs and 401(k)s. |\n",
    "| 25 | Can I deduct alimony payments on my tax return? | Yes, you can deduct alimony payments on your tax return if you're the payer and meet certain requirements. This deduction is claimed on Form 1040. |\n",
    "| 26 | What is the tax rate for dividends? | Dividends are taxed at 0%, 15%, or 20% depending on income level. For tax year 2023, the 0% rate applies to taxable income up to $44,625 for single filers and $89,250 for joint filers. The 15% rate applies to taxable income between $44,626 and $492,300 for single filers and $89,251 and $553,850 for joint filers. The 20% rate applies to taxable income above $492,300 for single filers and $553,850 for joint filers. |\n",
    "| 27 | Can I deduct business use of my car on my tax return? | Yes, you can deduct business use of your car on your tax return if you're self-employed or have a side hustle. You can use the standard mileage rate or actual expenses. |\n",
    "| 28 | What is the standard mileage rate for business use? | The standard mileage rate for business use is 58.5 cents per mile for tax year 2023. You can also deduct tolls and parking fees. |\n",
    "| 29 | Can I deduct home improvements on my tax return? | Yes, you can deduct home improvements on your tax return if they're medically necessary or increase the value of your home. You'll need to keep receipts and records to substantiate your expenses. |\n",
    "| 30 | What is the tax credit for child and dependent care? | The tax credit for child and dependent care is a non-refundable tax credit of up to $3,000 for one child or $6,000 for two or more. This credit is claimed on Form 2441. |\n",
    "| 31 | Can I deduct state taxes on my tax return? | Yes, you can deduct state taxes on your tax return if you itemize deductions on Schedule A. This includes state income taxes, local property taxes, and other taxes. |\n",
    "| 32 | What is the tax rate for interest income? | Interest income is taxed as ordinary income, using the same tax rates as your regular income. |\n",
    "| 33 | Can I deduct investment expenses on my tax return? | Yes, you can deduct investment expenses on your tax return if you itemize deductions on Schedule A. This includes fees for investment advice, management, and other expenses. |\n",
    "| 34 | What is the tax credit for education expenses? | The tax credit for education expenses is a non-refundable credit of up to $2,500 for qualified expenses. It includes the American Opportunity Tax Credit (AOTC), which covers 100% of the first $2,000 and 25% of the next $2,000, and the Lifetime Learning Credit (LLC), which covers 20% of up to $10,000. Income limits apply, and you can claim only one credit per student per year. To claim the credit, complete Form 8863.\n",
    "35\tCan I deduct business travel expenses on my tax return?\tYes, you can deduct business travel expenses on your tax return if you're self-employed or have a side hustle. You'll need to keep receipts and records to substantiate your expenses.\n",
    "| 36 | What is the per diem rate for business travel? | The per diem rate for business travel varies by location, but $60 per day for meals and incidentals is a common rate. You can use the IRS's per diem rates or actual expenses. |\n",
    "| 37 | Can I deduct business entertainment expenses on my tax return? | Yes, you can deduct business entertainment expenses on your tax return if you're self-employed or have a side hustle. However, only 50% of these expenses are deductible. |\n",
    "| 38 | What is the tax rate for capital gains on collectibles? | Capital gains on collectibles, such as art, coins, or stamps, are taxed at a rate of 28%. |\n",
    "| 39 | Can I deduct business liability insurance premiums on my tax return? | Yes, you can deduct business liability insurance premiums on your tax return if you're self-employed or have a side hustle. This includes premiums for professional liability, business liability, and other types of insurance. |\n",
    "| 40 | What is the tax credit for retirement savings contributions? | The tax credit for retirement savings contributions is a non-refundable tax credit of up to $2,000 for single filers and $4,000 for joint filers. This credit is claimed on Form 8880. |\n",
    "\n",
    "\n",
    "Important Notes\n",
    "These answers are based on federal tax laws and regulations for the 2023 tax year.\n",
    "Tax laws and regulations are subject to change, so it's always best to consult with a tax professional or the IRS for the most up-to-date information.\n",
    "These questions and answers are meant to provide general guidance and may not apply to your specific situation.\n",
    "Always consult with a tax professional or financial advisor to ensure you're in compliance with tax laws and regulations.\n",
    "Additional Resources\n",
    "IRS Website: (link unavailable)\n",
    "IRS Taxpayer Assistance Centers: (link unavailable)\n",
    "Tax Professionals: Find a certified public accountant (CPA) or enrolled agent (EA) in your area.\n",
    "Tax Software: Utilize tax software, such as TurboTax or H&R Block, to prepare and file your tax return.\n",
    "```\n",
    "\n"
   ]
  },
  {
   "cell_type": "markdown",
   "metadata": {},
   "source": [
    "\n",
    "All of this is then cleaned and compilled into a Google Docs, which then converts into a csv, the csv is called `tax-questions-answers.csv`. \n"
   ]
  },
  {
   "cell_type": "code",
   "execution_count": null,
   "metadata": {},
   "outputs": [
    {
     "data": {
      "text/html": [
       "<div>\n",
       "<style scoped>\n",
       "    .dataframe tbody tr th:only-of-type {\n",
       "        vertical-align: middle;\n",
       "    }\n",
       "\n",
       "    .dataframe tbody tr th {\n",
       "        vertical-align: top;\n",
       "    }\n",
       "\n",
       "    .dataframe thead th {\n",
       "        text-align: right;\n",
       "    }\n",
       "</style>\n",
       "<table border=\"1\" class=\"dataframe\">\n",
       "  <thead>\n",
       "    <tr style=\"text-align: right;\">\n",
       "      <th></th>\n",
       "      <th>Source</th>\n",
       "      <th>ID</th>\n",
       "      <th>Question</th>\n",
       "      <th>Answer</th>\n",
       "    </tr>\n",
       "  </thead>\n",
       "  <tbody>\n",
       "    <tr>\n",
       "      <th>0</th>\n",
       "      <td>ChatGPT GPT4o</td>\n",
       "      <td>1</td>\n",
       "      <td>How can I reduce my tax bill?</td>\n",
       "      <td>To lower your tax liability, consider maximizi...</td>\n",
       "    </tr>\n",
       "    <tr>\n",
       "      <th>1</th>\n",
       "      <td>ChatGPT GPT4o</td>\n",
       "      <td>2</td>\n",
       "      <td>What deductions am I eligible for?</td>\n",
       "      <td>Eligibility for deductions varies based on ind...</td>\n",
       "    </tr>\n",
       "    <tr>\n",
       "      <th>2</th>\n",
       "      <td>ChatGPT GPT4o</td>\n",
       "      <td>3</td>\n",
       "      <td>What's the difference between marginal and eff...</td>\n",
       "      <td>The marginal tax rate is the rate applied to y...</td>\n",
       "    </tr>\n",
       "    <tr>\n",
       "      <th>3</th>\n",
       "      <td>ChatGPT GPT4o</td>\n",
       "      <td>4</td>\n",
       "      <td>Which is better: a tax credit or a tax deduction?</td>\n",
       "      <td>A tax credit directly reduces your tax liabili...</td>\n",
       "    </tr>\n",
       "    <tr>\n",
       "      <th>4</th>\n",
       "      <td>ChatGPT GPT4o</td>\n",
       "      <td>5</td>\n",
       "      <td>Can I deduct medical expenses?</td>\n",
       "      <td>Yes, you can deduct unreimbursed medical expen...</td>\n",
       "    </tr>\n",
       "  </tbody>\n",
       "</table>\n",
       "</div>"
      ],
      "text/plain": [
       "          Source  ID                                           Question  \\\n",
       "0  ChatGPT GPT4o   1                      How can I reduce my tax bill?   \n",
       "1  ChatGPT GPT4o   2                 What deductions am I eligible for?   \n",
       "2  ChatGPT GPT4o   3  What's the difference between marginal and eff...   \n",
       "3  ChatGPT GPT4o   4  Which is better: a tax credit or a tax deduction?   \n",
       "4  ChatGPT GPT4o   5                     Can I deduct medical expenses?   \n",
       "\n",
       "                                              Answer  \n",
       "0  To lower your tax liability, consider maximizi...  \n",
       "1  Eligibility for deductions varies based on ind...  \n",
       "2  The marginal tax rate is the rate applied to y...  \n",
       "3  A tax credit directly reduces your tax liabili...  \n",
       "4  Yes, you can deduct unreimbursed medical expen...  "
      ]
     },
     "execution_count": 14,
     "metadata": {},
     "output_type": "execute_result"
    }
   ],
   "source": [
    "import pandas as pd\n",
    "\n",
    "q_and_a = pd.read_csv(os.path.join(DATA_DIR,'tax-questions-answers.csv'))\n",
    "q_and_a.head()"
   ]
  },
  {
   "cell_type": "code",
   "execution_count": 15,
   "metadata": {},
   "outputs": [
    {
     "data": {
      "text/plain": [
       "array(['ChatGPT GPT4o', 'ChatGPT o3-mini-high', 'Claude 3.7 Sonnet ',\n",
       "       'Llama 3.1-405B'], dtype=object)"
      ]
     },
     "execution_count": 15,
     "metadata": {},
     "output_type": "execute_result"
    }
   ],
   "source": [
    "q_and_a['Source'].unique()"
   ]
  },
  {
   "cell_type": "markdown",
   "metadata": {},
   "source": [
    "Since we will be using RAG with the tax documentation, we will pull the PDFs directly and process them."
   ]
  },
  {
   "cell_type": "markdown",
   "metadata": {},
   "source": [
    "### RAG"
   ]
  },
  {
   "cell_type": "markdown",
   "metadata": {},
   "source": [
    "#### Reading PDFs from IRS"
   ]
  },
  {
   "cell_type": "code",
   "execution_count": null,
   "metadata": {
    "collapsed": true,
    "jupyter": {
     "outputs_hidden": true
    }
   },
   "outputs": [
    {
     "name": "stdout",
     "output_type": "stream",
     "text": [
      "Processing PDF: https://www.irs.gov/pub/irs-pdf/i1040gi.pdf\n",
      "Processing PDF: https://www.irs.gov/pub/irs-pdf/pcir230.pdf\n",
      "Processing PDF: https://www.irs.gov/pub/irs-pdf/i1040gi.pdf\n",
      "Processing PDF: https://www.irs.gov/pub/irs-pdf/pcir230.pdf\n",
      "Processing PDF: https://www.irs.gov/pub/irs-pdf/i56.pdf\n",
      "Processing PDF: https://www.irs.gov/pub/irs-pdf/i172.pdf\n",
      "Processing PDF: https://www.irs.gov/pub/irs-pdf/i461.pdf\n",
      "Processing PDF: https://www.irs.gov/pub/irs-pdf/i706.pdf\n",
      "Processing PDF: https://www.irs.gov/pub/irs-pdf/i706a.pdf\n",
      "Processing PDF: https://www.irs.gov/pub/irs-pdf/i706d.pdf\n",
      "Processing PDF: https://www.irs.gov/pub/irs-pdf/i706gsd.pdf\n",
      "Processing PDF: https://www.irs.gov/pub/irs-pdf/i706gsd1.pdf\n",
      "Processing PDF: https://www.irs.gov/pub/irs-pdf/i706gst.pdf\n",
      "Processing PDF: https://www.irs.gov/pub/irs-pdf/i706na.pdf\n",
      "Processing PDF: https://www.irs.gov/pub/irs-pdf/i706qdt.pdf\n",
      "Processing PDF: https://www.irs.gov/pub/irs-pdf/i709.pdf\n",
      "Processing PDF: https://www.irs.gov/pub/irs-pdf/i720.pdf\n",
      "Processing PDF: https://www.irs.gov/pub/irs-pdf/i720cs.pdf\n",
      "Processing PDF: https://www.irs.gov/pub/irs-pdf/i720to.pdf\n",
      "Processing PDF: https://www.irs.gov/pub/irs-pdf/i843.pdf\n",
      "Processing PDF: https://www.irs.gov/pub/irs-pdf/i926.pdf\n",
      "Processing PDF: https://www.irs.gov/pub/irs-pdf/i940.pdf\n",
      "Processing PDF: https://www.irs.gov/pub/irs-pdf/i940pr.pdf\n",
      "❌ Failed to fetch https://www.irs.gov/pub/irs-pdf/i940pr.pdf: 404 Client Error: Not Found for url: https://www.irs.gov/pub/irs-pdf/i940pr.pdf\n",
      "Processing PDF: https://www.irs.gov/pub/irs-pdf/i940sp.pdf\n",
      "Processing PDF: https://www.irs.gov/pub/irs-pdf/i941.pdf\n",
      "Processing PDF: https://www.irs.gov/pub/irs-pdf/i941pr.pdf\n",
      "❌ Failed to fetch https://www.irs.gov/pub/irs-pdf/i941pr.pdf: 404 Client Error: Not Found for url: https://www.irs.gov/pub/irs-pdf/i941pr.pdf\n",
      "Processing PDF: https://www.irs.gov/pub/irs-pdf/i941prb.pdf\n",
      "❌ Failed to fetch https://www.irs.gov/pub/irs-pdf/i941prb.pdf: 404 Client Error: Not Found for url: https://www.irs.gov/pub/irs-pdf/i941prb.pdf\n",
      "Processing PDF: https://www.irs.gov/pub/irs-pdf/i941sb.pdf\n",
      "Processing PDF: https://www.irs.gov/pub/irs-pdf/i941sd.pdf\n",
      "Processing PDF: https://www.irs.gov/pub/irs-pdf/i941sp.pdf\n",
      "Processing PDF: https://www.irs.gov/pub/irs-pdf/i941sr.pdf\n",
      "Processing PDF: https://www.irs.gov/pub/irs-pdf/i941ss.pdf\n",
      "❌ Failed to fetch https://www.irs.gov/pub/irs-pdf/i941ss.pdf: 404 Client Error: Not Found for url: https://www.irs.gov/pub/irs-pdf/i941ss.pdf\n",
      "Processing PDF: https://www.irs.gov/pub/irs-pdf/i941x.pdf\n",
      "Processing PDF: https://www.irs.gov/pub/irs-pdf/i941xpr.pdf\n",
      "❌ Failed to fetch https://www.irs.gov/pub/irs-pdf/i941xpr.pdf: 404 Client Error: Not Found for url: https://www.irs.gov/pub/irs-pdf/i941xpr.pdf\n",
      "Processing PDF: https://www.irs.gov/pub/irs-pdf/i941xsp.pdf\n",
      "Processing PDF: https://www.irs.gov/pub/irs-pdf/i943.pdf\n",
      "Processing PDF: https://www.irs.gov/pub/irs-pdf/i943a.pdf\n",
      "Processing PDF: https://www.irs.gov/pub/irs-pdf/i943apr.pdf\n",
      "❌ Failed to fetch https://www.irs.gov/pub/irs-pdf/i943apr.pdf: 404 Client Error: Not Found for url: https://www.irs.gov/pub/irs-pdf/i943apr.pdf\n",
      "Processing PDF: https://www.irs.gov/pub/irs-pdf/i943asp.pdf\n",
      "Processing PDF: https://www.irs.gov/pub/irs-pdf/i943pr.pdf\n",
      "❌ Failed to fetch https://www.irs.gov/pub/irs-pdf/i943pr.pdf: 404 Client Error: Not Found for url: https://www.irs.gov/pub/irs-pdf/i943pr.pdf\n",
      "Processing PDF: https://www.irs.gov/pub/irs-pdf/i943sp.pdf\n",
      "Processing PDF: https://www.irs.gov/pub/irs-pdf/i943sr.pdf\n",
      "Processing PDF: https://www.irs.gov/pub/irs-pdf/i943x.pdf\n",
      "Processing PDF: https://www.irs.gov/pub/irs-pdf/i943xpr.pdf\n",
      "❌ Failed to fetch https://www.irs.gov/pub/irs-pdf/i943xpr.pdf: 404 Client Error: Not Found for url: https://www.irs.gov/pub/irs-pdf/i943xpr.pdf\n",
      "Processing PDF: https://www.irs.gov/pub/irs-pdf/i943xsp.pdf\n",
      "Processing PDF: https://www.irs.gov/pub/irs-pdf/i944.pdf\n",
      "Processing PDF: https://www.irs.gov/pub/irs-pdf/i944sp.pdf\n",
      "Processing PDF: https://www.irs.gov/pub/irs-pdf/i944ss.pdf\n",
      "❌ Failed to fetch https://www.irs.gov/pub/irs-pdf/i944ss.pdf: 404 Client Error: Not Found for url: https://www.irs.gov/pub/irs-pdf/i944ss.pdf\n",
      "Processing PDF: https://www.irs.gov/pub/irs-pdf/i944x.pdf\n",
      "Processing PDF: https://www.irs.gov/pub/irs-pdf/i944xsp.pdf\n",
      "Processing PDF: https://www.irs.gov/pub/irs-pdf/i945.pdf\n",
      "Processing PDF: https://www.irs.gov/pub/irs-pdf/i945a.pdf\n",
      "Processing PDF: https://www.irs.gov/pub/irs-pdf/i945x.pdf\n",
      "Processing PDF: https://www.irs.gov/pub/irs-pdf/i965a.pdf\n",
      "Processing PDF: https://www.irs.gov/pub/irs-pdf/i965b.pdf\n",
      "Processing PDF: https://www.irs.gov/pub/irs-pdf/i965c.pdf\n",
      "Processing PDF: https://www.irs.gov/pub/irs-pdf/i965d.pdf\n",
      "Processing PDF: https://www.irs.gov/pub/irs-pdf/i965e.pdf\n",
      "Processing PDF: https://www.irs.gov/pub/irs-pdf/i982.pdf\n",
      "Processing PDF: https://www.irs.gov/pub/irs-pdf/i990.pdf\n",
      "Processing PDF: https://www.irs.gov/pub/irs-pdf/i990_or_990-ez_schedule_g.pdf\n",
      "❌ Failed to fetch https://www.irs.gov/pub/irs-pdf/i990_or_990-ez_schedule_g.pdf: 404 Client Error: Not Found for url: https://www.irs.gov/pub/irs-pdf/i990_or_990-ez_schedule_g.pdf\n",
      "Processing PDF: https://www.irs.gov/pub/irs-pdf/i990bl.pdf\n",
      "Processing PDF: https://www.irs.gov/pub/irs-pdf/i990ez.pdf\n",
      "Processing PDF: https://www.irs.gov/pub/irs-pdf/i990pf.pdf\n",
      "Processing PDF: https://www.irs.gov/pub/irs-pdf/i990sa.pdf\n",
      "Processing PDF: https://www.irs.gov/pub/irs-pdf/i990sb.pdf\n",
      "Processing PDF: https://www.irs.gov/pub/irs-pdf/i990sc.pdf\n",
      "Processing PDF: https://www.irs.gov/pub/irs-pdf/i990sd.pdf\n",
      "Processing PDF: https://www.irs.gov/pub/irs-pdf/i990se.pdf\n",
      "Processing PDF: https://www.irs.gov/pub/irs-pdf/i990sf.pdf\n",
      "Processing PDF: https://www.irs.gov/pub/irs-pdf/i990sg.pdf\n",
      "Processing PDF: https://www.irs.gov/pub/irs-pdf/i990sh.pdf\n",
      "Processing PDF: https://www.irs.gov/pub/irs-pdf/i990si.pdf\n",
      "Processing PDF: https://www.irs.gov/pub/irs-pdf/i990sj.pdf\n",
      "Processing PDF: https://www.irs.gov/pub/irs-pdf/i990sk.pdf\n",
      "Processing PDF: https://www.irs.gov/pub/irs-pdf/i990sl.pdf\n",
      "Processing PDF: https://www.irs.gov/pub/irs-pdf/i990so.pdf\n",
      "Processing PDF: https://www.irs.gov/pub/irs-pdf/i990sr.pdf\n",
      "Processing PDF: https://www.irs.gov/pub/irs-pdf/i990t.pdf\n",
      "Processing PDF: https://www.irs.gov/pub/irs-pdf/i1023.pdf\n",
      "Processing PDF: https://www.irs.gov/pub/irs-pdf/i1023ez.pdf\n",
      "Processing PDF: https://www.irs.gov/pub/irs-pdf/i1024.pdf\n",
      "Processing PDF: https://www.irs.gov/pub/irs-pdf/i1024a.pdf\n",
      "Processing PDF: https://www.irs.gov/pub/irs-pdf/i1028.pdf\n",
      "Processing PDF: https://www.irs.gov/pub/irs-pdf/i1040c.pdf\n",
      "Processing PDF: https://www.irs.gov/pub/irs-pdf/i1040gi.pdf\n",
      "Processing PDF: https://www.irs.gov/pub/irs-pdf/i1040gi.pdf\n",
      "Processing PDF: https://www.irs.gov/pub/irs-pdf/i1040lep.pdf\n",
      "Processing PDF: https://www.irs.gov/pub/irs-pdf/i1040nr.pdf\n",
      "Processing PDF: https://www.irs.gov/pub/irs-pdf/i1040nrs.pdf\n",
      "Processing PDF: https://www.irs.gov/pub/irs-pdf/i1040pr.pdf\n",
      "❌ Failed to fetch https://www.irs.gov/pub/irs-pdf/i1040pr.pdf: 404 Client Error: Not Found for url: https://www.irs.gov/pub/irs-pdf/i1040pr.pdf\n",
      "Processing PDF: https://www.irs.gov/pub/irs-pdf/i1040prh.pdf\n",
      "❌ Failed to fetch https://www.irs.gov/pub/irs-pdf/i1040prh.pdf: 404 Client Error: Not Found for url: https://www.irs.gov/pub/irs-pdf/i1040prh.pdf\n",
      "Processing PDF: https://www.irs.gov/pub/irs-pdf/i1040s8.pdf\n",
      "Processing PDF: https://www.irs.gov/pub/irs-pdf/i1040s8s.pdf\n",
      "Processing PDF: https://www.irs.gov/pub/irs-pdf/i1040sb.pdf\n",
      "Processing PDF: https://www.irs.gov/pub/irs-pdf/i1040sc.pdf\n",
      "Processing PDF: https://www.irs.gov/pub/irs-pdf/i1040sca.pdf\n",
      "Processing PDF: https://www.irs.gov/pub/irs-pdf/i1040scs.pdf\n",
      "Processing PDF: https://www.irs.gov/pub/irs-pdf/i1040sd.pdf\n",
      "Processing PDF: https://www.irs.gov/pub/irs-pdf/i1040se.pdf\n",
      "Processing PDF: https://www.irs.gov/pub/irs-pdf/i1040sf.pdf\n",
      "Processing PDF: https://www.irs.gov/pub/irs-pdf/i1040sfs.pdf\n",
      "Processing PDF: https://www.irs.gov/pub/irs-pdf/i1040sh.pdf\n",
      "Processing PDF: https://www.irs.gov/pub/irs-pdf/i1040shs.pdf\n",
      "Processing PDF: https://www.irs.gov/pub/irs-pdf/i1040sj.pdf\n",
      "Processing PDF: https://www.irs.gov/pub/irs-pdf/i1040sr.pdf\n",
      "Processing PDF: https://www.irs.gov/pub/irs-pdf/i1040ss.pdf\n",
      "Processing PDF: https://www.irs.gov/pub/irs-pdf/i1040sse.pdf\n",
      "Processing PDF: https://www.irs.gov/pub/irs-pdf/i1040ssp.pdf\n",
      "Processing PDF: https://www.irs.gov/pub/irs-pdf/i1040sss.pdf\n",
      "Processing PDF: https://www.irs.gov/pub/irs-pdf/i1040tt.pdf\n",
      "Processing PDF: https://www.irs.gov/pub/irs-pdf/i1040x.pdf\n",
      "Processing PDF: https://www.irs.gov/pub/irs-pdf/i1041.pdf\n",
      "Processing PDF: https://www.irs.gov/pub/irs-pdf/i1041n.pdf\n",
      "Processing PDF: https://www.irs.gov/pub/irs-pdf/i1041qft.pdf\n",
      "Processing PDF: https://www.irs.gov/pub/irs-pdf/i1041sd.pdf\n",
      "Processing PDF: https://www.irs.gov/pub/irs-pdf/i1041si.pdf\n",
      "Processing PDF: https://www.irs.gov/pub/irs-pdf/i1041sk1.pdf\n",
      "Processing PDF: https://www.irs.gov/pub/irs-pdf/i1042.pdf\n",
      "Processing PDF: https://www.irs.gov/pub/irs-pdf/i1042s.pdf\n",
      "Processing PDF: https://www.irs.gov/pub/irs-pdf/i1045.pdf\n",
      "Processing PDF: https://www.irs.gov/pub/irs-pdf/i1065.pdf\n",
      "Processing PDF: https://www.irs.gov/pub/irs-pdf/i1065s23.pdf\n",
      "Processing PDF: https://www.irs.gov/pub/irs-pdf/i1065sb2.pdf\n",
      "Processing PDF: https://www.irs.gov/pub/irs-pdf/i1065sc.pdf\n",
      "Processing PDF: https://www.irs.gov/pub/irs-pdf/i1065sd.pdf\n",
      "Processing PDF: https://www.irs.gov/pub/irs-pdf/i1065sk1.pdf\n",
      "Processing PDF: https://www.irs.gov/pub/irs-pdf/i1065sk3.pdf\n",
      "Processing PDF: https://www.irs.gov/pub/irs-pdf/i1065sm3.pdf\n",
      "Processing PDF: https://www.irs.gov/pub/irs-pdf/i1065x.pdf\n",
      "Processing PDF: https://www.irs.gov/pub/irs-pdf/i1066.pdf\n",
      "Processing PDF: https://www.irs.gov/pub/irs-pdf/i1094-b_and_1095_b.pdf\n",
      "❌ Failed to fetch https://www.irs.gov/pub/irs-pdf/i1094-b_and_1095_b.pdf: 404 Client Error: Not Found for url: https://www.irs.gov/pub/irs-pdf/i1094-b_and_1095_b.pdf\n",
      "Processing PDF: https://www.irs.gov/pub/irs-pdf/i1094-c_and_1095_c.pdf\n",
      "❌ Failed to fetch https://www.irs.gov/pub/irs-pdf/i1094-c_and_1095_c.pdf: 404 Client Error: Not Found for url: https://www.irs.gov/pub/irs-pdf/i1094-c_and_1095_c.pdf\n",
      "Processing PDF: https://www.irs.gov/pub/irs-pdf/i1095a.pdf\n",
      "Processing PDF: https://www.irs.gov/pub/irs-pdf/i1097btc.pdf\n",
      "Processing PDF: https://www.irs.gov/pub/irs-pdf/i1098.pdf\n",
      "Processing PDF: https://www.irs.gov/pub/irs-pdf/i1098c.pdf\n",
      "Processing PDF: https://www.irs.gov/pub/irs-pdf/i1098et.pdf\n",
      "Processing PDF: https://www.irs.gov/pub/irs-pdf/i1098f.pdf\n",
      "Processing PDF: https://www.irs.gov/pub/irs-pdf/i1098q.pdf\n",
      "Processing PDF: https://www.irs.gov/pub/irs-pdf/i1099ac.pdf\n",
      "Processing PDF: https://www.irs.gov/pub/irs-pdf/i1099b.pdf\n",
      "Processing PDF: https://www.irs.gov/pub/irs-pdf/i1099cap.pdf\n",
      "Processing PDF: https://www.irs.gov/pub/irs-pdf/i1099da.pdf\n",
      "Processing PDF: https://www.irs.gov/pub/irs-pdf/i1099div.pdf\n",
      "Processing PDF: https://www.irs.gov/pub/irs-pdf/i1099g.pdf\n",
      "Processing PDF: https://www.irs.gov/pub/irs-pdf/i1099gi.pdf\n",
      "Processing PDF: https://www.irs.gov/pub/irs-pdf/i1099h.pdf\n",
      "Processing PDF: https://www.irs.gov/pub/irs-pdf/i1099int.pdf\n",
      "Processing PDF: https://www.irs.gov/pub/irs-pdf/i1099k.pdf\n",
      "Processing PDF: https://www.irs.gov/pub/irs-pdf/i1099ls.pdf\n",
      "Processing PDF: https://www.irs.gov/pub/irs-pdf/i1099ltc.pdf\n",
      "Processing PDF: https://www.irs.gov/pub/irs-pdf/i1099mec.pdf\n",
      "Processing PDF: https://www.irs.gov/pub/irs-pdf/i1099ptr.pdf\n",
      "Processing PDF: https://www.irs.gov/pub/irs-pdf/i1099q.pdf\n",
      "Processing PDF: https://www.irs.gov/pub/irs-pdf/i1099qa.pdf\n",
      "Processing PDF: https://www.irs.gov/pub/irs-pdf/i1099r.pdf\n",
      "Processing PDF: https://www.irs.gov/pub/irs-pdf/i1099s.pdf\n",
      "Processing PDF: https://www.irs.gov/pub/irs-pdf/i1099sa.pdf\n",
      "Processing PDF: https://www.irs.gov/pub/irs-pdf/i1099sb.pdf\n",
      "Processing PDF: https://www.irs.gov/pub/irs-pdf/i1116.pdf\n",
      "Processing PDF: https://www.irs.gov/pub/irs-pdf/i1116sb.pdf\n",
      "Processing PDF: https://www.irs.gov/pub/irs-pdf/i1116sc.pdf\n",
      "Processing PDF: https://www.irs.gov/pub/irs-pdf/i1118.pdf\n",
      "Processing PDF: https://www.irs.gov/pub/irs-pdf/i1118sj.pdf\n",
      "Processing PDF: https://www.irs.gov/pub/irs-pdf/i1118sk.pdf\n",
      "Processing PDF: https://www.irs.gov/pub/irs-pdf/i1118sl.pdf\n",
      "Processing PDF: https://www.irs.gov/pub/irs-pdf/i1120.pdf\n",
      "Processing PDF: https://www.irs.gov/pub/irs-pdf/i1120c.pdf\n",
      "Processing PDF: https://www.irs.gov/pub/irs-pdf/i1120f.pdf\n",
      "Processing PDF: https://www.irs.gov/pub/irs-pdf/i1120fh.pdf\n",
      "Processing PDF: https://www.irs.gov/pub/irs-pdf/i1120fi.pdf\n",
      "Processing PDF: https://www.irs.gov/pub/irs-pdf/i1120fm3.pdf\n",
      "Processing PDF: https://www.irs.gov/pub/irs-pdf/i1120fp.pdf\n",
      "Processing PDF: https://www.irs.gov/pub/irs-pdf/i1120fs.pdf\n",
      "Processing PDF: https://www.irs.gov/pub/irs-pdf/i1120fsc.pdf\n",
      "Processing PDF: https://www.irs.gov/pub/irs-pdf/i1120fv.pdf\n",
      "Processing PDF: https://www.irs.gov/pub/irs-pdf/i1120h.pdf\n",
      "Processing PDF: https://www.irs.gov/pub/irs-pdf/i1120icd.pdf\n",
      "Processing PDF: https://www.irs.gov/pub/irs-pdf/i1120l.pdf\n",
      "Processing PDF: https://www.irs.gov/pub/irs-pdf/i1120lm3.pdf\n",
      "Processing PDF: https://www.irs.gov/pub/irs-pdf/i1120nd.pdf\n",
      "Processing PDF: https://www.irs.gov/pub/irs-pdf/i1120pc.pdf\n",
      "Processing PDF: https://www.irs.gov/pub/irs-pdf/i1120pm3.pdf\n",
      "Processing PDF: https://www.irs.gov/pub/irs-pdf/i1120pol.pdf\n",
      "Processing PDF: https://www.irs.gov/pub/irs-pdf/i1120rei.pdf\n",
      "Processing PDF: https://www.irs.gov/pub/irs-pdf/i1120ric.pdf\n",
      "Processing PDF: https://www.irs.gov/pub/irs-pdf/i1120s.pdf\n",
      "Processing PDF: https://www.irs.gov/pub/irs-pdf/i1120s23.pdf\n",
      "Processing PDF: https://www.irs.gov/pub/irs-pdf/i1120sd.pdf\n",
      "Processing PDF: https://www.irs.gov/pub/irs-pdf/i1120sf.pdf\n",
      "Processing PDF: https://www.irs.gov/pub/irs-pdf/i1120sk3.pdf\n",
      "Processing PDF: https://www.irs.gov/pub/irs-pdf/i1120sm3.pdf\n",
      "Processing PDF: https://www.irs.gov/pub/irs-pdf/i1120so.pdf\n",
      "Processing PDF: https://www.irs.gov/pub/irs-pdf/i1120sph.pdf\n",
      "Processing PDF: https://www.irs.gov/pub/irs-pdf/i1120ss3.pdf\n",
      "Processing PDF: https://www.irs.gov/pub/irs-pdf/i1120ssd.pdf\n",
      "Processing PDF: https://www.irs.gov/pub/irs-pdf/i1120ssk.pdf\n",
      "Processing PDF: https://www.irs.gov/pub/irs-pdf/i1120utp.pdf\n",
      "Processing PDF: https://www.irs.gov/pub/irs-pdf/i1125e.pdf\n",
      "Processing PDF: https://www.irs.gov/pub/irs-pdf/i1128.pdf\n",
      "Processing PDF: https://www.irs.gov/pub/irs-pdf/i1139.pdf\n",
      "Processing PDF: https://www.irs.gov/pub/irs-pdf/i2106.pdf\n",
      "Processing PDF: https://www.irs.gov/pub/irs-pdf/i2210.pdf\n",
      "Processing PDF: https://www.irs.gov/pub/irs-pdf/i2210f.pdf\n",
      "Processing PDF: https://www.irs.gov/pub/irs-pdf/i2220.pdf\n",
      "Processing PDF: https://www.irs.gov/pub/irs-pdf/i2290.pdf\n",
      "Processing PDF: https://www.irs.gov/pub/irs-pdf/i2290sp.pdf\n",
      "Processing PDF: https://www.irs.gov/pub/irs-pdf/i2441.pdf\n",
      "Processing PDF: https://www.irs.gov/pub/irs-pdf/i2553.pdf\n",
      "Processing PDF: https://www.irs.gov/pub/irs-pdf/i2555.pdf\n",
      "Processing PDF: https://www.irs.gov/pub/irs-pdf/i2678.pdf\n",
      "Processing PDF: https://www.irs.gov/pub/irs-pdf/i2848.pdf\n",
      "Processing PDF: https://www.irs.gov/pub/irs-pdf/i2848sp.pdf\n",
      "Processing PDF: https://www.irs.gov/pub/irs-pdf/i3115.pdf\n",
      "Processing PDF: https://www.irs.gov/pub/irs-pdf/i3468.pdf\n",
      "Processing PDF: https://www.irs.gov/pub/irs-pdf/i3520.pdf\n",
      "Processing PDF: https://www.irs.gov/pub/irs-pdf/i3520a.pdf\n",
      "Processing PDF: https://www.irs.gov/pub/irs-pdf/i3800.pdf\n",
      "Processing PDF: https://www.irs.gov/pub/irs-pdf/i3903.pdf\n",
      "Processing PDF: https://www.irs.gov/pub/irs-pdf/i3921.pdf\n",
      "Processing PDF: https://www.irs.gov/pub/irs-pdf/i4136.pdf\n",
      "Processing PDF: https://www.irs.gov/pub/irs-pdf/i4255.pdf\n",
      "Processing PDF: https://www.irs.gov/pub/irs-pdf/i4461.pdf\n",
      "Processing PDF: https://www.irs.gov/pub/irs-pdf/i4461a.pdf\n",
      "Processing PDF: https://www.irs.gov/pub/irs-pdf/i4461b.pdf\n",
      "Processing PDF: https://www.irs.gov/pub/irs-pdf/i4562.pdf\n",
      "Processing PDF: https://www.irs.gov/pub/irs-pdf/i4626.pdf\n",
      "Processing PDF: https://www.irs.gov/pub/irs-pdf/i4684.pdf\n",
      "Processing PDF: https://www.irs.gov/pub/irs-pdf/i4720.pdf\n",
      "Processing PDF: https://www.irs.gov/pub/irs-pdf/i4768.pdf\n",
      "Processing PDF: https://www.irs.gov/pub/irs-pdf/i4797.pdf\n",
      "Processing PDF: https://www.irs.gov/pub/irs-pdf/i5227.pdf\n",
      "Processing PDF: https://www.irs.gov/pub/irs-pdf/i5300.pdf\n",
      "Processing PDF: https://www.irs.gov/pub/irs-pdf/i5300q.pdf\n",
      "❌ Failed to fetch https://www.irs.gov/pub/irs-pdf/i5300q.pdf: 404 Client Error: Not Found for url: https://www.irs.gov/pub/irs-pdf/i5300q.pdf\n",
      "Processing PDF: https://www.irs.gov/pub/irs-pdf/i5307.pdf\n",
      "Processing PDF: https://www.irs.gov/pub/irs-pdf/i5310.pdf\n",
      "Processing PDF: https://www.irs.gov/pub/irs-pdf/i5310a.pdf\n",
      "Processing PDF: https://www.irs.gov/pub/irs-pdf/i5316.pdf\n",
      "Processing PDF: https://www.irs.gov/pub/irs-pdf/i5329.pdf\n",
      "Processing PDF: https://www.irs.gov/pub/irs-pdf/i5330.pdf\n",
      "Processing PDF: https://www.irs.gov/pub/irs-pdf/i5405.pdf\n",
      "Processing PDF: https://www.irs.gov/pub/irs-pdf/i5471.pdf\n",
      "Processing PDF: https://www.irs.gov/pub/irs-pdf/i5472.pdf\n",
      "Processing PDF: https://www.irs.gov/pub/irs-pdf/i5498e.pdf\n",
      "Processing PDF: https://www.irs.gov/pub/irs-pdf/i5500sf.pdf\n",
      "❌ Failed to fetch https://www.irs.gov/pub/irs-pdf/i5500sf.pdf: 404 Client Error: Not Found for url: https://www.irs.gov/pub/irs-pdf/i5500sf.pdf\n",
      "Processing PDF: https://www.irs.gov/pub/irs-pdf/i5695.pdf\n",
      "Processing PDF: https://www.irs.gov/pub/irs-pdf/i5713.pdf\n",
      "Processing PDF: https://www.irs.gov/pub/irs-pdf/i5735.pdf\n",
      "Processing PDF: https://www.irs.gov/pub/irs-pdf/i5884.pdf\n",
      "Processing PDF: https://www.irs.gov/pub/irs-pdf/i5884a.pdf\n",
      "Processing PDF: https://www.irs.gov/pub/irs-pdf/i5884d.pdf\n",
      "Processing PDF: https://www.irs.gov/pub/irs-pdf/i6069.pdf\n",
      "Processing PDF: https://www.irs.gov/pub/irs-pdf/i6198.pdf\n",
      "Processing PDF: https://www.irs.gov/pub/irs-pdf/i6251.pdf\n",
      "Processing PDF: https://www.irs.gov/pub/irs-pdf/i6478.pdf\n",
      "Processing PDF: https://www.irs.gov/pub/irs-pdf/i6627.pdf\n",
      "Processing PDF: https://www.irs.gov/pub/irs-pdf/i6765.pdf\n",
      "Processing PDF: https://www.irs.gov/pub/irs-pdf/i7004.pdf\n",
      "Processing PDF: https://www.irs.gov/pub/irs-pdf/i7200.pdf\n",
      "Processing PDF: https://www.irs.gov/pub/irs-pdf/i7200sp.pdf\n",
      "Processing PDF: https://www.irs.gov/pub/irs-pdf/i7203.pdf\n",
      "Processing PDF: https://www.irs.gov/pub/irs-pdf/i7204.pdf\n",
      "Processing PDF: https://www.irs.gov/pub/irs-pdf/i7205.pdf\n",
      "Processing PDF: https://www.irs.gov/pub/irs-pdf/i7206.pdf\n",
      "Processing PDF: https://www.irs.gov/pub/irs-pdf/i7207.pdf\n",
      "Processing PDF: https://www.irs.gov/pub/irs-pdf/i7208.pdf\n",
      "Processing PDF: https://www.irs.gov/pub/irs-pdf/i7210.pdf\n",
      "Processing PDF: https://www.irs.gov/pub/irs-pdf/i7211.pdf\n",
      "Processing PDF: https://www.irs.gov/pub/irs-pdf/i7213.pdf\n",
      "Processing PDF: https://www.irs.gov/pub/irs-pdf/i7217.pdf\n",
      "Processing PDF: https://www.irs.gov/pub/irs-pdf/i7218.pdf\n",
      "Processing PDF: https://www.irs.gov/pub/irs-pdf/i8023.pdf\n",
      "Processing PDF: https://www.irs.gov/pub/irs-pdf/i8027.pdf\n",
      "Processing PDF: https://www.irs.gov/pub/irs-pdf/i8027--2023-00-00.pdf\n",
      "❌ Failed to fetch https://www.irs.gov/pub/irs-pdf/i8027--2023-00-00.pdf: 404 Client Error: Not Found for url: https://www.irs.gov/pub/irs-pdf/i8027--2023-00-00.pdf\n",
      "Processing PDF: https://www.irs.gov/pub/irs-pdf/i8038.pdf\n",
      "Processing PDF: https://www.irs.gov/pub/irs-pdf/i8038b.pdf\n",
      "Processing PDF: https://www.irs.gov/pub/irs-pdf/i8038cp.pdf\n",
      "Processing PDF: https://www.irs.gov/pub/irs-pdf/i8038g.pdf\n",
      "Processing PDF: https://www.irs.gov/pub/irs-pdf/i8038t.pdf\n",
      "Processing PDF: https://www.irs.gov/pub/irs-pdf/i8038tc.pdf\n",
      "Processing PDF: https://www.irs.gov/pub/irs-pdf/i8082.pdf\n",
      "Processing PDF: https://www.irs.gov/pub/irs-pdf/i8233.pdf\n",
      "Processing PDF: https://www.irs.gov/pub/irs-pdf/i8275.pdf\n",
      "Processing PDF: https://www.irs.gov/pub/irs-pdf/i8275r.pdf\n",
      "Processing PDF: https://www.irs.gov/pub/irs-pdf/i8283.pdf\n",
      "Processing PDF: https://www.irs.gov/pub/irs-pdf/i8288.pdf\n",
      "Processing PDF: https://www.irs.gov/pub/irs-pdf/i8300.pdf\n",
      "Processing PDF: https://www.irs.gov/pub/irs-pdf/i8300sp.pdf\n",
      "Processing PDF: https://www.irs.gov/pub/irs-pdf/i8308.pdf\n",
      "Processing PDF: https://www.irs.gov/pub/irs-pdf/i8379.pdf\n",
      "Processing PDF: https://www.irs.gov/pub/irs-pdf/i8582.pdf\n",
      "Processing PDF: https://www.irs.gov/pub/irs-pdf/i8582cr.pdf\n",
      "Processing PDF: https://www.irs.gov/pub/irs-pdf/i8594.pdf\n",
      "Processing PDF: https://www.irs.gov/pub/irs-pdf/i8606.pdf\n",
      "Processing PDF: https://www.irs.gov/pub/irs-pdf/i8609.pdf\n",
      "Processing PDF: https://www.irs.gov/pub/irs-pdf/i8609a.pdf\n",
      "Processing PDF: https://www.irs.gov/pub/irs-pdf/i8615.pdf\n",
      "Processing PDF: https://www.irs.gov/pub/irs-pdf/i8621.pdf\n",
      "Processing PDF: https://www.irs.gov/pub/irs-pdf/i8621a.pdf\n",
      "Processing PDF: https://www.irs.gov/pub/irs-pdf/i8697.pdf\n",
      "Processing PDF: https://www.irs.gov/pub/irs-pdf/i8801.pdf\n",
      "Processing PDF: https://www.irs.gov/pub/irs-pdf/i8802.pdf\n",
      "Processing PDF: https://www.irs.gov/pub/irs-pdf/i8804.pdf\n",
      "Processing PDF: https://www.irs.gov/pub/irs-pdf/i8804c.pdf\n",
      "Processing PDF: https://www.irs.gov/pub/irs-pdf/i8804sa.pdf\n",
      "Processing PDF: https://www.irs.gov/pub/irs-pdf/i8804w.pdf\n",
      "Processing PDF: https://www.irs.gov/pub/irs-pdf/i8809i.pdf\n",
      "Processing PDF: https://www.irs.gov/pub/irs-pdf/i8810.pdf\n",
      "Processing PDF: https://www.irs.gov/pub/irs-pdf/i8814.pdf\n",
      "Processing PDF: https://www.irs.gov/pub/irs-pdf/i8821.pdf\n",
      "Processing PDF: https://www.irs.gov/pub/irs-pdf/i8821sp.pdf\n",
      "Processing PDF: https://www.irs.gov/pub/irs-pdf/i8821zht.pdf\n",
      "Processing PDF: https://www.irs.gov/pub/irs-pdf/i8824.pdf\n",
      "Processing PDF: https://www.irs.gov/pub/irs-pdf/i8828.pdf\n",
      "Processing PDF: https://www.irs.gov/pub/irs-pdf/i8829.pdf\n",
      "Processing PDF: https://www.irs.gov/pub/irs-pdf/i8835.pdf\n",
      "Processing PDF: https://www.irs.gov/pub/irs-pdf/i8839.pdf\n",
      "Processing PDF: https://www.irs.gov/pub/irs-pdf/i8844.pdf\n",
      "Processing PDF: https://www.irs.gov/pub/irs-pdf/i8845.pdf\n",
      "Processing PDF: https://www.irs.gov/pub/irs-pdf/i8849s6.pdf\n",
      "Processing PDF: https://www.irs.gov/pub/irs-pdf/i8850.pdf\n",
      "Processing PDF: https://www.irs.gov/pub/irs-pdf/i8853.pdf\n",
      "Processing PDF: https://www.irs.gov/pub/irs-pdf/i8854.pdf\n",
      "Processing PDF: https://www.irs.gov/pub/irs-pdf/i8857.pdf\n",
      "Processing PDF: https://www.irs.gov/pub/irs-pdf/i8857sp.pdf\n",
      "Processing PDF: https://www.irs.gov/pub/irs-pdf/i8858.pdf\n",
      "Processing PDF: https://www.irs.gov/pub/irs-pdf/i8862.pdf\n",
      "Processing PDF: https://www.irs.gov/pub/irs-pdf/i8862sp.pdf\n",
      "Processing PDF: https://www.irs.gov/pub/irs-pdf/i8862zhs.pdf\n",
      "Processing PDF: https://www.irs.gov/pub/irs-pdf/i8862zht.pdf\n",
      "Processing PDF: https://www.irs.gov/pub/irs-pdf/i8863.pdf\n",
      "Processing PDF: https://www.irs.gov/pub/irs-pdf/i8864.pdf\n",
      "Processing PDF: https://www.irs.gov/pub/irs-pdf/i8865.pdf\n",
      "Processing PDF: https://www.irs.gov/pub/irs-pdf/i8865k23.pdf\n",
      "Processing PDF: https://www.irs.gov/pub/irs-pdf/i8866.pdf\n",
      "Processing PDF: https://www.irs.gov/pub/irs-pdf/i8867.pdf\n",
      "Processing PDF: https://www.irs.gov/pub/irs-pdf/i8868.pdf\n",
      "Processing PDF: https://www.irs.gov/pub/irs-pdf/i8869.pdf\n",
      "Processing PDF: https://www.irs.gov/pub/irs-pdf/i8871.pdf\n",
      "Processing PDF: https://www.irs.gov/pub/irs-pdf/i8872.pdf\n",
      "Processing PDF: https://www.irs.gov/pub/irs-pdf/i8873.pdf\n",
      "Processing PDF: https://www.irs.gov/pub/irs-pdf/i8881.pdf\n",
      "Processing PDF: https://www.irs.gov/pub/irs-pdf/i8883.pdf\n",
      "Processing PDF: https://www.irs.gov/pub/irs-pdf/i8885.pdf\n",
      "Processing PDF: https://www.irs.gov/pub/irs-pdf/i8886.pdf\n",
      "Processing PDF: https://www.irs.gov/pub/irs-pdf/i8886t.pdf\n",
      "Processing PDF: https://www.irs.gov/pub/irs-pdf/i8889.pdf\n",
      "Processing PDF: https://www.irs.gov/pub/irs-pdf/i8898.pdf\n",
      "Processing PDF: https://www.irs.gov/pub/irs-pdf/i8900.pdf\n",
      "Processing PDF: https://www.irs.gov/pub/irs-pdf/i8902.pdf\n",
      "Processing PDF: https://www.irs.gov/pub/irs-pdf/i8903.pdf\n",
      "Processing PDF: https://www.irs.gov/pub/irs-pdf/i8904.pdf\n",
      "Processing PDF: https://www.irs.gov/pub/irs-pdf/i8908.pdf\n",
      "Processing PDF: https://www.irs.gov/pub/irs-pdf/i8910.pdf\n",
      "Processing PDF: https://www.irs.gov/pub/irs-pdf/i8911.pdf\n",
      "Processing PDF: https://www.irs.gov/pub/irs-pdf/i8912.pdf\n",
      "Processing PDF: https://www.irs.gov/pub/irs-pdf/i8913.pdf\n",
      "❌ Failed to fetch https://www.irs.gov/pub/irs-pdf/i8913.pdf: 404 Client Error: Not Found for url: https://www.irs.gov/pub/irs-pdf/i8913.pdf\n",
      "Processing PDF: https://www.irs.gov/pub/irs-pdf/i8915.pdf\n",
      "❌ Failed to fetch https://www.irs.gov/pub/irs-pdf/i8915.pdf: 404 Client Error: Not Found for url: https://www.irs.gov/pub/irs-pdf/i8915.pdf\n",
      "Processing PDF: https://www.irs.gov/pub/irs-pdf/i8915b.pdf\n",
      "Processing PDF: https://www.irs.gov/pub/irs-pdf/i8915c.pdf\n",
      "Processing PDF: https://www.irs.gov/pub/irs-pdf/i8915d.pdf\n",
      "Processing PDF: https://www.irs.gov/pub/irs-pdf/i8915f.pdf\n",
      "Processing PDF: https://www.irs.gov/pub/irs-pdf/i8918.pdf\n",
      "Processing PDF: https://www.irs.gov/pub/irs-pdf/i8921.pdf\n",
      "Processing PDF: https://www.irs.gov/pub/irs-pdf/i8928.pdf\n",
      "Processing PDF: https://www.irs.gov/pub/irs-pdf/i8933.pdf\n",
      "Processing PDF: https://www.irs.gov/pub/irs-pdf/i8935.pdf\n",
      "Processing PDF: https://www.irs.gov/pub/irs-pdf/i8936.pdf\n",
      "Processing PDF: https://www.irs.gov/pub/irs-pdf/i8936a.pdf\n",
      "❌ Failed to fetch https://www.irs.gov/pub/irs-pdf/i8936a.pdf: 404 Client Error: Not Found for url: https://www.irs.gov/pub/irs-pdf/i8936a.pdf\n",
      "Processing PDF: https://www.irs.gov/pub/irs-pdf/i8937.pdf\n",
      "Processing PDF: https://www.irs.gov/pub/irs-pdf/i8938.pdf\n",
      "Processing PDF: https://www.irs.gov/pub/irs-pdf/i8940.pdf\n",
      "Processing PDF: https://www.irs.gov/pub/irs-pdf/i8941.pdf\n",
      "Processing PDF: https://www.irs.gov/pub/irs-pdf/i8942.pdf\n",
      "❌ Failed to fetch https://www.irs.gov/pub/irs-pdf/i8942.pdf: 404 Client Error: Not Found for url: https://www.irs.gov/pub/irs-pdf/i8942.pdf\n",
      "Processing PDF: https://www.irs.gov/pub/irs-pdf/i8949.pdf\n",
      "Processing PDF: https://www.irs.gov/pub/irs-pdf/i8950.pdf\n",
      "Processing PDF: https://www.irs.gov/pub/irs-pdf/i8952.pdf\n",
      "Processing PDF: https://www.irs.gov/pub/irs-pdf/i8955ssa.pdf\n",
      "Processing PDF: https://www.irs.gov/pub/irs-pdf/i8957.pdf\n",
      "Processing PDF: https://www.irs.gov/pub/irs-pdf/i8959.pdf\n",
      "Processing PDF: https://www.irs.gov/pub/irs-pdf/i8960.pdf\n",
      "Processing PDF: https://www.irs.gov/pub/irs-pdf/i8962.pdf\n",
      "Processing PDF: https://www.irs.gov/pub/irs-pdf/i8963.pdf\n",
      "Processing PDF: https://www.irs.gov/pub/irs-pdf/i8966.pdf\n",
      "Processing PDF: https://www.irs.gov/pub/irs-pdf/i8971.pdf\n",
      "Processing PDF: https://www.irs.gov/pub/irs-pdf/i8973.pdf\n",
      "Processing PDF: https://www.irs.gov/pub/irs-pdf/i8974.pdf\n",
      "Processing PDF: https://www.irs.gov/pub/irs-pdf/i8975.pdf\n",
      "Processing PDF: https://www.irs.gov/pub/irs-pdf/i8978.pdf\n",
      "Processing PDF: https://www.irs.gov/pub/irs-pdf/i8979.pdf\n",
      "Processing PDF: https://www.irs.gov/pub/irs-pdf/i8985.pdf\n",
      "Processing PDF: https://www.irs.gov/pub/irs-pdf/i8986.pdf\n",
      "Processing PDF: https://www.irs.gov/pub/irs-pdf/i8990.pdf\n",
      "Processing PDF: https://www.irs.gov/pub/irs-pdf/i8991.pdf\n",
      "Processing PDF: https://www.irs.gov/pub/irs-pdf/i8992.pdf\n",
      "Processing PDF: https://www.irs.gov/pub/irs-pdf/i8993.pdf\n",
      "Processing PDF: https://www.irs.gov/pub/irs-pdf/i8994.pdf\n",
      "Processing PDF: https://www.irs.gov/pub/irs-pdf/i8995.pdf\n",
      "Processing PDF: https://www.irs.gov/pub/irs-pdf/i8995a.pdf\n",
      "Processing PDF: https://www.irs.gov/pub/irs-pdf/i8996.pdf\n",
      "Processing PDF: https://www.irs.gov/pub/irs-pdf/i9465.pdf\n",
      "Processing PDF: https://www.irs.gov/pub/irs-pdf/i9465--2023-11-00.pdf\n",
      "❌ Failed to fetch https://www.irs.gov/pub/irs-pdf/i9465--2023-11-00.pdf: 404 Client Error: Not Found for url: https://www.irs.gov/pub/irs-pdf/i9465--2023-11-00.pdf\n",
      "Processing PDF: https://www.irs.gov/pub/irs-pdf/i9465sp.pdf\n",
      "Processing PDF: https://www.irs.gov/pub/irs-pdf/i9465zhs.pdf\n",
      "Processing PDF: https://www.irs.gov/pub/irs-pdf/i9465zht.pdf\n",
      "Processing PDF: https://www.irs.gov/pub/irs-pdf/i109495b.pdf\n",
      "Processing PDF: https://www.irs.gov/pub/irs-pdf/i109495c.pdf\n",
      "Processing PDF: https://www.irs.gov/pub/irs-pdf/ict1.pdf\n",
      "Processing PDF: https://www.irs.gov/pub/irs-pdf/ict1x.pdf\n",
      "Processing PDF: https://www.irs.gov/pub/irs-pdf/iss4.pdf\n",
      "Processing PDF: https://www.irs.gov/pub/irs-pdf/iss4sp.pdf\n",
      "Processing PDF: https://www.irs.gov/pub/irs-pdf/iss8.pdf\n",
      "Processing PDF: https://www.irs.gov/pub/irs-pdf/iss8pr.pdf\n",
      "❌ Failed to fetch https://www.irs.gov/pub/irs-pdf/iss8pr.pdf: 404 Client Error: Not Found for url: https://www.irs.gov/pub/irs-pdf/iss8pr.pdf\n",
      "Processing PDF: https://www.irs.gov/pub/irs-pdf/iss8sp.pdf\n",
      "Processing PDF: https://www.irs.gov/pub/irs-pdf/it.pdf\n",
      "Processing PDF: https://www.irs.gov/pub/irs-pdf/iw-8imy_docbook.pdf\n",
      "❌ Failed to fetch https://www.irs.gov/pub/irs-pdf/iw-8imy_docbook.pdf: 404 Client Error: Not Found for url: https://www.irs.gov/pub/irs-pdf/iw-8imy_docbook.pdf\n",
      "Processing PDF: https://www.irs.gov/pub/irs-pdf/iw2g.pdf\n",
      "Processing PDF: https://www.irs.gov/pub/irs-pdf/iw2w3.pdf\n",
      "Processing PDF: https://www.irs.gov/pub/irs-pdf/iw3pr.pdf\n",
      "Processing PDF: https://www.irs.gov/pub/irs-pdf/iw3ss.pdf\n",
      "Processing PDF: https://www.irs.gov/pub/irs-pdf/iw7.pdf\n",
      "Processing PDF: https://www.irs.gov/pub/irs-pdf/iw7a.pdf\n",
      "Processing PDF: https://www.irs.gov/pub/irs-pdf/iw7sp.pdf\n",
      "Processing PDF: https://www.irs.gov/pub/irs-pdf/iw8.pdf\n",
      "Processing PDF: https://www.irs.gov/pub/irs-pdf/iw8ben.pdf\n",
      "Processing PDF: https://www.irs.gov/pub/irs-pdf/iw8bene.pdf\n",
      "Processing PDF: https://www.irs.gov/pub/irs-pdf/iw8eci.pdf\n",
      "Processing PDF: https://www.irs.gov/pub/irs-pdf/iw8exp.pdf\n",
      "Processing PDF: https://www.irs.gov/pub/irs-pdf/iw8imy.pdf\n",
      "Processing PDF: https://www.irs.gov/pub/irs-pdf/iw9.pdf\n",
      "Processing PDF: https://www.irs.gov/pub/irs-pdf/iw9sp.pdf\n",
      "Processing PDF: https://www.irs.gov/pub/irs-pdf/iw14.pdf\n",
      "✅ Processed 409 PDFs\n"
     ]
    }
   ],
   "source": [
    "\n",
    "\n",
    "IRS_URL = \"https://www.irs.gov/instructions\"\n",
    "\n",
    "try:\n",
    "    response = requests.get(IRS_URL, timeout=10)\n",
    "    response.raise_for_status() \n",
    "except requests.RequestException as e:\n",
    "    raise Exception(f\"Failed to fetch IRS instructions page: {e}\")\n",
    "\n",
    "soup = BeautifulSoup(response.text, \"html.parser\")\n",
    "pdf_texts = []\n",
    "\n",
    "for link in soup.find_all(\"a\", href=True):\n",
    "    href = link[\"href\"]\n",
    "    if href.lower().endswith(\".pdf\"):\n",
    "        pdf_url = urljoin(IRS_URL, href)\n",
    "        print(f\"Processing PDF: {pdf_url}\")\n",
    "\n",
    "        try:\n",
    "            pdf_response = requests.get(pdf_url, timeout=10)\n",
    "            pdf_response.raise_for_status()\n",
    "        except requests.RequestException as e:\n",
    "            print(f\"❌ Failed to fetch {pdf_url}: {e}\")\n",
    "            continue\n",
    "\n",
    "        pdf_bytes = BytesIO(pdf_response.content)\n",
    "        try:\n",
    "            # Using PyMuPDF (fitz) to extract text as an alternative to pdfminer\n",
    "            doc = fitz.open(stream=pdf_bytes, filetype=\"pdf\")\n",
    "            text = \"\"\n",
    "            for page in doc:\n",
    "                text += page.get_text()\n",
    "            pdf_texts.append({\"file_name\": pdf_url.split(\"/\")[-1], \"content\": text})\n",
    "        except Exception as e:\n",
    "            print(f\"❌ Failed to process {pdf_url}: {e}\")\n",
    "\n",
    "print(f\"✅ Processed {len(pdf_texts)} PDFs\")\n"
   ]
  },
  {
   "cell_type": "markdown",
   "metadata": {},
   "source": [
    "### Converting to MD"
   ]
  },
  {
   "cell_type": "code",
   "execution_count": null,
   "metadata": {},
   "outputs": [
    {
     "name": "stdout",
     "output_type": "stream",
     "text": [
      "✅ Converted 409 PDFs to Markdown format\n"
     ]
    }
   ],
   "source": [
    "pdf_markdown = [\n",
    "    {\"file_name\": doc[\"file_name\"].replace(\".pdf\", \".md\"), \"content\": md(doc[\"content\"])}\n",
    "    for doc in pdf_texts\n",
    "]\n",
    "\n",
    "print(f\"✅ Converted {len(pdf_markdown)} PDFs to Markdown format\")"
   ]
  },
  {
   "cell_type": "markdown",
   "metadata": {},
   "source": [
    "### Chunking & Storing Vectors"
   ]
  },
  {
   "cell_type": "code",
   "execution_count": null,
   "metadata": {},
   "outputs": [
    {
     "name": "stdout",
     "output_type": "stream",
     "text": [
      "✅ Created 68418 text chunks\n"
     ]
    }
   ],
   "source": [
    "\n",
    "# Initialize chunking\n",
    "text_splitter = RecursiveCharacterTextSplitter(chunk_size=500, chunk_overlap=100)\n",
    "\n",
    "# Chunk the Markdown documents\n",
    "chunks = []\n",
    "for doc in pdf_markdown:\n",
    "    split_texts = text_splitter.split_text(doc[\"content\"])\n",
    "    for i, text in enumerate(split_texts):\n",
    "        chunks.append({\"file_name\": doc[\"file_name\"], \"chunk_id\": i, \"content\": text})\n",
    "\n",
    "print(f\"✅ Created {len(chunks)} text chunks\")"
   ]
  },
  {
   "cell_type": "markdown",
   "metadata": {},
   "source": [
    "### Pushing to Pinecone"
   ]
  },
  {
   "cell_type": "code",
   "execution_count": null,
   "metadata": {},
   "outputs": [
    {
     "name": "stdout",
     "output_type": "stream",
     "text": [
      "Creating new Pinecone index: tax-rag\n",
      "✅ Connected to Pinecone index: tax-rag\n"
     ]
    }
   ],
   "source": [
    "\n",
    "# Initialize Pinecone\n",
    "pc = pinecone.Pinecone(api_key=os.getenv(\"PINECONE_API_KEY\"))\n",
    "\n",
    "# Set index name\n",
    "index_name = \"tax-rag\"\n",
    "\n",
    "# Check if the index already exists\n",
    "existing_indexes = [index.name for index in pc.list_indexes()]\n",
    "if index_name not in existing_indexes:\n",
    "    print(f\"Creating new Pinecone index: {index_name}\")\n",
    "    pc.create_index(\n",
    "        name=index_name,\n",
    "        spec=pinecone.ServerlessSpec(\n",
    "            cloud=\"aws\",\n",
    "            region=\"us-east-1\"\n",
    "        ),\n",
    "        dimension=384,\n",
    "        metric=\"cosine\"\n",
    "    )\n",
    "\n",
    "# Connect to the existing index\n",
    "index = pc.Index(index_name)\n",
    "print(f\"✅ Connected to Pinecone index: {index_name}\")"
   ]
  },
  {
   "cell_type": "code",
   "execution_count": 10,
   "metadata": {},
   "outputs": [],
   "source": [
    "embedding_model = SentenceTransformer(\"all-MiniLM-L6-v2\")"
   ]
  },
  {
   "cell_type": "code",
   "execution_count": null,
   "metadata": {},
   "outputs": [],
   "source": [
    "\n",
    "# Convert each chunk into an embedding\n",
    "chunk_embeddings = [\n",
    "    {\n",
    "        \"file_name\": chunk[\"file_name\"],\n",
    "        \"chunk_id\": chunk[\"chunk_id\"],\n",
    "        \"content\": chunk[\"content\"],\n",
    "        \"embedding\": embedding_model.encode(chunk[\"content\"]).tolist()\n",
    "    }\n",
    "    for chunk in chunks\n",
    "]\n",
    "\n",
    "# Store in Pinecone with batching\n",
    "def batch_upsert(index, vectors, batch_size=100):\n",
    "    \"\"\"Uploads embeddings in batches to avoid Pinecone's request size limit.\"\"\"\n",
    "    for i in range(0, len(vectors), batch_size):\n",
    "        batch = vectors[i : i + batch_size]  # Get batch slice\n",
    "        index.upsert(batch)\n",
    "        print(f\"✅ Uploaded batch {i // batch_size + 1}/{(len(vectors) // batch_size) + 1}\")\n",
    "\n",
    "# Prepare vectors for Pinecone\n",
    "vectors = [\n",
    "    (f\"{chunk['file_name']}_{chunk['chunk_id']}\", chunk[\"embedding\"], {\"text\": chunk[\"content\"]})\n",
    "    for chunk in chunk_embeddings\n",
    "]\n",
    "\n",
    "# Upload in batches\n",
    "batch_upsert(index, vectors)\n",
    "\n",
    "print(\"✅ All embeddings successfully stored in Pinecone!\")"
   ]
  },
  {
   "cell_type": "markdown",
   "metadata": {},
   "source": [
    "The cell executed successfully, but we accidentally deleted the output during the cleanup process. The complete successful run took two hours."
   ]
  },
  {
   "cell_type": "markdown",
   "metadata": {},
   "source": [
    "### Testing Embedding"
   ]
  },
  {
   "cell_type": "code",
   "execution_count": 20,
   "metadata": {},
   "outputs": [],
   "source": [
    "def query_and_get_top_two(query, embedding_model, index):\n",
    "    query_embedding = embedding_model.encode(query).tolist()\n",
    "    results = index.query(vector=query_embedding, top_k=2, include_metadata=True)\n",
    "    matches = results.get(\"matches\", [])\n",
    "    if len(matches) == 0:\n",
    "        return (\"\", None, \"\", None)\n",
    "    elif len(matches) == 1:\n",
    "        return (matches[0]['metadata']['text'], matches[0]['score'], \"\", None)\n",
    "    else:\n",
    "        return (matches[0]['metadata']['text'], matches[0]['score'], \n",
    "                matches[1]['metadata']['text'], matches[1]['score'])"
   ]
  },
  {
   "cell_type": "code",
   "execution_count": 26,
   "metadata": {},
   "outputs": [
    {
     "name": "stdout",
     "output_type": "stream",
     "text": [
      "Top 1 Result:\n",
      "Text : self-employment income from separate nonfarm or farm\n",
      "businesses, each of you must complete and file a\n",
      "separate Schedule C (Form 1040) or Schedule F (Form\n",
      "1040). Be sure to enter at the top of each Schedule C\n",
      "(Form 1040) or Schedule F (Form 1040) the name and\n",
      "SSN of the spouse who owns the business. Each of you\n",
      "must also complete a separate Schedule SE (Form 1040).\n",
      "Attach these pages to a single Form 1040-SS.\n",
      "Business Owned and Operated by\n",
      "Spouses\n",
      "Score: 0.604735672\n",
      "\n",
      "Top 2 Result:\n",
      "Text : Schedule SE (Form 1040), Self-Employment Tax, to complete your return.\n",
      "You may only need to file Form 1040-SS and none of the schedules. However, if your return is more complicated (for\n",
      "example, you claim certain deductions or credits or owe additional taxes), you will need to complete one or more of the\n",
      "schedules. Below is a general guide to which schedule(s) you will need to file based on your circumstances. See the\n",
      "Score: 0.598732054\n"
     ]
    }
   ],
   "source": [
    "context1, score1, context2, score2 = query_and_get_top_two(\"Which forms do I need for self-employment?\", embedding_model, index)\n",
    "\n",
    "\n",
    "print(\"Top 1 Result:\")\n",
    "print(\"Text :\", context1)\n",
    "print(\"Score:\", score1)\n",
    "\n",
    "if context2:\n",
    "    print(\"\\nTop 2 Result:\")\n",
    "    print(\"Text :\", context2)\n",
    "    print(\"Score:\", score2)\n"
   ]
  },
  {
   "cell_type": "markdown",
   "metadata": {},
   "source": [
    "### Updating the Fine-tunning Data"
   ]
  },
  {
   "cell_type": "code",
   "execution_count": 27,
   "metadata": {},
   "outputs": [],
   "source": [
    "q_and_a[['Context1', 'Score1', 'Context2', 'Score2']] = q_and_a['Question'].apply(\n",
    "    lambda q: pd.Series(query_and_get_top_two(q, embedding_model, index))\n",
    ")"
   ]
  },
  {
   "cell_type": "code",
   "execution_count": null,
   "metadata": {},
   "outputs": [
    {
     "data": {
      "text/html": [
       "<div>\n",
       "<style scoped>\n",
       "    .dataframe tbody tr th:only-of-type {\n",
       "        vertical-align: middle;\n",
       "    }\n",
       "\n",
       "    .dataframe tbody tr th {\n",
       "        vertical-align: top;\n",
       "    }\n",
       "\n",
       "    .dataframe thead th {\n",
       "        text-align: right;\n",
       "    }\n",
       "</style>\n",
       "<table border=\"1\" class=\"dataframe\">\n",
       "  <thead>\n",
       "    <tr style=\"text-align: right;\">\n",
       "      <th></th>\n",
       "      <th>Source</th>\n",
       "      <th>ID</th>\n",
       "      <th>Question</th>\n",
       "      <th>Answer</th>\n",
       "      <th>Context1</th>\n",
       "      <th>Score1</th>\n",
       "      <th>Context2</th>\n",
       "      <th>Score2</th>\n",
       "    </tr>\n",
       "  </thead>\n",
       "  <tbody>\n",
       "    <tr>\n",
       "      <th>0</th>\n",
       "      <td>ChatGPT GPT4o</td>\n",
       "      <td>1</td>\n",
       "      <td>How can I reduce my tax bill?</td>\n",
       "      <td>To lower your tax liability, consider maximizi...</td>\n",
       "      <td>System at IRS.gov/SAMS.\\nFor more information,...</td>\n",
       "      <td>0.566803</td>\n",
       "      <td>WV 26106-2188. Or you can enclose\\nthe check w...</td>\n",
       "      <td>0.563434</td>\n",
       "    </tr>\n",
       "    <tr>\n",
       "      <th>1</th>\n",
       "      <td>ChatGPT GPT4o</td>\n",
       "      <td>2</td>\n",
       "      <td>What deductions am I eligible for?</td>\n",
       "      <td>Eligibility for deductions varies based on ind...</td>\n",
       "      <td>Standard Deduction (Group I Only)\\nIf you do n...</td>\n",
       "      <td>0.668105</td>\n",
       "      <td>33\\nStandard Deduction Worksheet for Dependent...</td>\n",
       "      <td>0.662116</td>\n",
       "    </tr>\n",
       "    <tr>\n",
       "      <th>2</th>\n",
       "      <td>ChatGPT GPT4o</td>\n",
       "      <td>3</td>\n",
       "      <td>What's the difference between marginal and eff...</td>\n",
       "      <td>The marginal tax rate is the rate applied to y...</td>\n",
       "      <td>a rate for branch profits, the rate of tax is ...</td>\n",
       "      <td>0.553689</td>\n",
       "      <td>Taxable amount over\\nColumn B\\nTaxable amount ...</td>\n",
       "      <td>0.487213</td>\n",
       "    </tr>\n",
       "    <tr>\n",
       "      <th>3</th>\n",
       "      <td>ChatGPT GPT4o</td>\n",
       "      <td>4</td>\n",
       "      <td>Which is better: a tax credit or a tax deduction?</td>\n",
       "      <td>A tax credit directly reduces your tax liabili...</td>\n",
       "      <td>deduction, or both. However, a practice that d...</td>\n",
       "      <td>0.579091</td>\n",
       "      <td>tax deduction recognized for U.S. taxable inco...</td>\n",
       "      <td>0.547606</td>\n",
       "    </tr>\n",
       "    <tr>\n",
       "      <th>4</th>\n",
       "      <td>ChatGPT GPT4o</td>\n",
       "      <td>5</td>\n",
       "      <td>Can I deduct medical expenses?</td>\n",
       "      <td>Yes, you can deduct unreimbursed medical expen...</td>\n",
       "      <td>If you itemize, you can deduct a part of your ...</td>\n",
       "      <td>0.688144</td>\n",
       "      <td>Don't include on Schedule A items deducted els...</td>\n",
       "      <td>0.681987</td>\n",
       "    </tr>\n",
       "  </tbody>\n",
       "</table>\n",
       "</div>"
      ],
      "text/plain": [
       "          Source  ID                                           Question  \\\n",
       "0  ChatGPT GPT4o   1                      How can I reduce my tax bill?   \n",
       "1  ChatGPT GPT4o   2                 What deductions am I eligible for?   \n",
       "2  ChatGPT GPT4o   3  What's the difference between marginal and eff...   \n",
       "3  ChatGPT GPT4o   4  Which is better: a tax credit or a tax deduction?   \n",
       "4  ChatGPT GPT4o   5                     Can I deduct medical expenses?   \n",
       "\n",
       "                                              Answer  \\\n",
       "0  To lower your tax liability, consider maximizi...   \n",
       "1  Eligibility for deductions varies based on ind...   \n",
       "2  The marginal tax rate is the rate applied to y...   \n",
       "3  A tax credit directly reduces your tax liabili...   \n",
       "4  Yes, you can deduct unreimbursed medical expen...   \n",
       "\n",
       "                                            Context1    Score1  \\\n",
       "0  System at IRS.gov/SAMS.\\nFor more information,...  0.566803   \n",
       "1  Standard Deduction (Group I Only)\\nIf you do n...  0.668105   \n",
       "2  a rate for branch profits, the rate of tax is ...  0.553689   \n",
       "3  deduction, or both. However, a practice that d...  0.579091   \n",
       "4  If you itemize, you can deduct a part of your ...  0.688144   \n",
       "\n",
       "                                            Context2    Score2  \n",
       "0  WV 26106-2188. Or you can enclose\\nthe check w...  0.563434  \n",
       "1  33\\nStandard Deduction Worksheet for Dependent...  0.662116  \n",
       "2  Taxable amount over\\nColumn B\\nTaxable amount ...  0.487213  \n",
       "3  tax deduction recognized for U.S. taxable inco...  0.547606  \n",
       "4  Don't include on Schedule A items deducted els...  0.681987  "
      ]
     },
     "execution_count": 28,
     "metadata": {},
     "output_type": "execute_result"
    }
   ],
   "source": [
    "q_and_a.to_csv"
   ]
  },
  {
   "cell_type": "markdown",
   "metadata": {},
   "source": [
    "`Breakpoint`\n",
    "\n",
    "Run following cells to either save or load data at this point.\n"
   ]
  },
  {
   "cell_type": "code",
   "execution_count": 3,
   "metadata": {
    "execution": {
     "iopub.execute_input": "2025-03-01T20:05:42.564646Z",
     "iopub.status.busy": "2025-03-01T20:05:42.564282Z",
     "iopub.status.idle": "2025-03-01T20:05:42.567595Z",
     "shell.execute_reply": "2025-03-01T20:05:42.567102Z",
     "shell.execute_reply.started": "2025-03-01T20:05:42.564618Z"
    }
   },
   "outputs": [],
   "source": [
    "import os\n",
    "import pandas as pd\n",
    "DATA_DIR = \"data\"\n",
    "q_and_a_path = os.path.join(DATA_DIR, \"tax-questions-answers-with-context.csv\")"
   ]
  },
  {
   "cell_type": "code",
   "execution_count": 32,
   "metadata": {},
   "outputs": [],
   "source": [
    "q_and_a.to_csv(q_and_a_path, index=False)"
   ]
  },
  {
   "cell_type": "code",
   "execution_count": 4,
   "metadata": {
    "execution": {
     "iopub.execute_input": "2025-03-01T20:05:44.099845Z",
     "iopub.status.busy": "2025-03-01T20:05:44.099241Z",
     "iopub.status.idle": "2025-03-01T20:05:44.111485Z",
     "shell.execute_reply": "2025-03-01T20:05:44.110950Z",
     "shell.execute_reply.started": "2025-03-01T20:05:44.099819Z"
    }
   },
   "outputs": [],
   "source": [
    "q_and_a = pd.read_csv(q_and_a_path)"
   ]
  },
  {
   "cell_type": "markdown",
   "metadata": {},
   "source": [
    "## Model Finetunning\n",
    "\n",
    "Our initial discovery was to find a model that was close to our needs, so an extensive finetunning will not be required. \n",
    "\n",
    "We found two main candidates:\n",
    "\n",
    "- Lawma \n",
    "- saul_7b_instruct\n",
    "\n",
    "\n",
    "Lawma had a 8b and also 70b.  TODO:\n"
   ]
  },
  {
   "cell_type": "markdown",
   "metadata": {},
   "source": [
    "After unable to run these to best of our capabiities, we decided to find alternative, this is also when deepseek just recently came out. We started tested with multiple different iterations of deep seek. We found the best one to be \"DeepSeek-V2-Lite\", which was light and instructut and worked very well with our capabilities. \n",
    "\n",
    "\n",
    "We got a server with two a100s.\n"
   ]
  },
  {
   "cell_type": "markdown",
   "metadata": {},
   "source": [
    "the problems of other models were not solved by even fine tunning, and overall pipeline would not work very well. \n",
    "\n",
    "\n",
    "So we decided to with deepseek fine tunning using the data I had\n"
   ]
  },
  {
   "cell_type": "markdown",
   "metadata": {},
   "source": []
  },
  {
   "cell_type": "code",
   "execution_count": 7,
   "metadata": {
    "collapsed": true,
    "execution": {
     "iopub.execute_input": "2025-03-01T12:44:12.586170Z",
     "iopub.status.busy": "2025-03-01T12:44:12.585832Z",
     "iopub.status.idle": "2025-03-01T12:44:32.884764Z",
     "shell.execute_reply": "2025-03-01T12:44:32.884040Z",
     "shell.execute_reply.started": "2025-03-01T12:44:12.586148Z"
    },
    "jupyter": {
     "outputs_hidden": true
    }
   },
   "outputs": [
    {
     "name": "stdout",
     "output_type": "stream",
     "text": [
      "Looking in indexes: https://pypi.netflix.net/simple\n",
      "Collecting bitsandbytes\n",
      "  Using cached https://pypi.netflix.net/packages/18487298685/bitsandbytes-0.45.3-py3-none-manylinux_2_24_x86_64.whl.metadata (5.0 kB)\n",
      "Requirement already satisfied: transformers in /apps/bdi-venv-310-0.1.0-h170.2e95ba8~jammy/lib/python3.10/site-packages (4.45.1)\n",
      "Collecting transformers\n",
      "  Using cached https://pypi.netflix.net/packages/18469686031/transformers-4.49.0-py3-none-any.whl (10.0 MB)\n",
      "Collecting peft\n",
      "  Using cached https://pypi.netflix.net/packages/17715809385/peft-0.14.0-py3-none-any.whl.metadata (13 kB)\n",
      "Requirement already satisfied: accelerate in /apps/bdi-venv-310-0.1.0-h170.2e95ba8~jammy/lib/python3.10/site-packages (1.0.0)\n",
      "Collecting accelerate\n",
      "  Using cached https://pypi.netflix.net/packages/18469816810/accelerate-1.4.0-py3-none-any.whl (342 kB)\n",
      "Collecting datasets\n",
      "  Using cached https://pypi.netflix.net/packages/18478228733/datasets-3.3.2-py3-none-any.whl.metadata (19 kB)\n",
      "Collecting trl\n",
      "  Using cached https://pypi.netflix.net/packages/18490342842/trl-0.15.2-py3-none-any.whl.metadata (11 kB)\n",
      "Requirement already satisfied: torch<3,>=2.0 in /apps/bdi-venv-310-0.1.0-h170.2e95ba8~jammy/lib/python3.10/site-packages (from bitsandbytes) (2.5.1+cu118)\n",
      "Requirement already satisfied: numpy>=1.17 in /apps/bdi-venv-310-0.1.0-h170.2e95ba8~jammy/lib/python3.10/site-packages (from bitsandbytes) (1.26.4)\n",
      "Requirement already satisfied: filelock in /apps/bdi-venv-310-0.1.0-h170.2e95ba8~jammy/lib/python3.10/site-packages (from transformers) (3.16.1)\n",
      "Collecting huggingface-hub<1.0,>=0.26.0 (from transformers)\n",
      "  Using cached https://pypi.netflix.net/packages/18477366081/huggingface_hub-0.29.1-py3-none-any.whl.metadata (13 kB)\n",
      "Requirement already satisfied: packaging>=20.0 in /apps/bdi-venv-310-0.1.0-h170.2e95ba8~jammy/lib/python3.10/site-packages (from transformers) (24.1)\n",
      "Requirement already satisfied: pyyaml>=5.1 in /apps/bdi-venv-310-0.1.0-h170.2e95ba8~jammy/lib/python3.10/site-packages (from transformers) (6.0.2)\n",
      "Requirement already satisfied: regex!=2019.12.17 in /apps/bdi-venv-310-0.1.0-h170.2e95ba8~jammy/lib/python3.10/site-packages (from transformers) (2024.7.24)\n",
      "Requirement already satisfied: requests in /apps/bdi-venv-310-0.1.0-h170.2e95ba8~jammy/lib/python3.10/site-packages (from transformers) (2.32.3)\n",
      "Collecting tokenizers<0.22,>=0.21 (from transformers)\n",
      "  Using cached https://pypi.netflix.net/packages/17602872867/tokenizers-0.21.0-cp39-abi3-manylinux_2_17_x86_64.manylinux2014_x86_64.whl.metadata (6.7 kB)\n",
      "Requirement already satisfied: safetensors>=0.4.1 in /apps/bdi-venv-310-0.1.0-h170.2e95ba8~jammy/lib/python3.10/site-packages (from transformers) (0.4.5)\n",
      "Requirement already satisfied: tqdm>=4.27 in /apps/bdi-venv-310-0.1.0-h170.2e95ba8~jammy/lib/python3.10/site-packages (from transformers) (4.66.5)\n",
      "Requirement already satisfied: psutil in /apps/bdi-venv-310-0.1.0-h170.2e95ba8~jammy/lib/python3.10/site-packages (from peft) (6.0.0)\n",
      "Requirement already satisfied: pyarrow>=15.0.0 in /apps/bdi-venv-310-0.1.0-h170.2e95ba8~jammy/lib/python3.10/site-packages (from datasets) (19.0.1)\n",
      "Requirement already satisfied: dill<0.3.9,>=0.3.0 in /apps/bdi-venv-310-0.1.0-h170.2e95ba8~jammy/lib/python3.10/site-packages (from datasets) (0.3.8)\n",
      "Requirement already satisfied: pandas in /apps/bdi-venv-310-0.1.0-h170.2e95ba8~jammy/lib/python3.10/site-packages (from datasets) (2.2.2)\n",
      "Collecting xxhash (from datasets)\n",
      "  Using cached https://pypi.netflix.net/packages/16227016774/xxhash-3.5.0-cp310-cp310-manylinux_2_17_x86_64.manylinux2014_x86_64.whl.metadata (12 kB)\n",
      "Collecting multiprocess<0.70.17 (from datasets)\n",
      "  Using cached https://pypi.netflix.net/packages/7065972918/multiprocess-0.70.16-py310-none-any.whl.metadata (7.2 kB)\n",
      "Requirement already satisfied: fsspec<=2024.12.0,>=2023.1.0 in /apps/bdi-venv-310-0.1.0-h170.2e95ba8~jammy/lib/python3.10/site-packages (from fsspec[http]<=2024.12.0,>=2023.1.0->datasets) (2024.9.0)\n",
      "Requirement already satisfied: aiohttp in /apps/bdi-venv-310-0.1.0-h170.2e95ba8~jammy/lib/python3.10/site-packages (from datasets) (3.11.11)\n",
      "Requirement already satisfied: rich in /apps/bdi-venv-310-0.1.0-h170.2e95ba8~jammy/lib/python3.10/site-packages (from trl) (13.8.0)\n",
      "Requirement already satisfied: aiohappyeyeballs>=2.3.0 in /apps/bdi-venv-310-0.1.0-h170.2e95ba8~jammy/lib/python3.10/site-packages (from aiohttp->datasets) (2.4.4)\n",
      "Requirement already satisfied: aiosignal>=1.1.2 in /apps/bdi-venv-310-0.1.0-h170.2e95ba8~jammy/lib/python3.10/site-packages (from aiohttp->datasets) (1.3.2)\n",
      "Requirement already satisfied: async-timeout<6.0,>=4.0 in /apps/bdi-venv-310-0.1.0-h170.2e95ba8~jammy/lib/python3.10/site-packages (from aiohttp->datasets) (4.0.3)\n",
      "Requirement already satisfied: attrs>=17.3.0 in /apps/bdi-venv-310-0.1.0-h170.2e95ba8~jammy/lib/python3.10/site-packages (from aiohttp->datasets) (25.1.0)\n",
      "Requirement already satisfied: frozenlist>=1.1.1 in /apps/bdi-venv-310-0.1.0-h170.2e95ba8~jammy/lib/python3.10/site-packages (from aiohttp->datasets) (1.5.0)\n",
      "Requirement already satisfied: multidict<7.0,>=4.5 in /apps/bdi-venv-310-0.1.0-h170.2e95ba8~jammy/lib/python3.10/site-packages (from aiohttp->datasets) (6.1.0)\n",
      "Requirement already satisfied: propcache>=0.2.0 in /apps/bdi-venv-310-0.1.0-h170.2e95ba8~jammy/lib/python3.10/site-packages (from aiohttp->datasets) (0.2.1)\n",
      "Requirement already satisfied: yarl<2.0,>=1.17.0 in /apps/bdi-venv-310-0.1.0-h170.2e95ba8~jammy/lib/python3.10/site-packages (from aiohttp->datasets) (1.18.3)\n",
      "Requirement already satisfied: typing-extensions>=3.7.4.3 in /apps/bdi-venv-310-0.1.0-h170.2e95ba8~jammy/lib/python3.10/site-packages (from huggingface-hub<1.0,>=0.26.0->transformers) (4.12.2)\n",
      "Requirement already satisfied: charset-normalizer<4,>=2 in /apps/bdi-venv-310-0.1.0-h170.2e95ba8~jammy/lib/python3.10/site-packages (from requests->transformers) (3.3.2)\n",
      "Requirement already satisfied: idna<4,>=2.5 in /apps/bdi-venv-310-0.1.0-h170.2e95ba8~jammy/lib/python3.10/site-packages (from requests->transformers) (3.8)\n",
      "Requirement already satisfied: urllib3<3,>=1.21.1 in /apps/bdi-venv-310-0.1.0-h170.2e95ba8~jammy/lib/python3.10/site-packages (from requests->transformers) (2.2.2)\n",
      "Requirement already satisfied: certifi>=2017.4.17 in /apps/bdi-venv-310-0.1.0-h170.2e95ba8~jammy/lib/python3.10/site-packages (from requests->transformers) (2024.8.30)\n",
      "Requirement already satisfied: networkx in /apps/bdi-venv-310-0.1.0-h170.2e95ba8~jammy/lib/python3.10/site-packages (from torch<3,>=2.0->bitsandbytes) (3.3)\n",
      "Requirement already satisfied: jinja2 in /apps/bdi-venv-310-0.1.0-h170.2e95ba8~jammy/lib/python3.10/site-packages (from torch<3,>=2.0->bitsandbytes) (3.1.4)\n",
      "Requirement already satisfied: nvidia-cuda-nvrtc-cu11==11.8.89 in /apps/bdi-venv-310-0.1.0-h170.2e95ba8~jammy/lib/python3.10/site-packages (from torch<3,>=2.0->bitsandbytes) (11.8.89)\n",
      "Requirement already satisfied: nvidia-cuda-runtime-cu11==11.8.89 in /apps/bdi-venv-310-0.1.0-h170.2e95ba8~jammy/lib/python3.10/site-packages (from torch<3,>=2.0->bitsandbytes) (11.8.89)\n",
      "Requirement already satisfied: nvidia-cuda-cupti-cu11==11.8.87 in /apps/bdi-venv-310-0.1.0-h170.2e95ba8~jammy/lib/python3.10/site-packages (from torch<3,>=2.0->bitsandbytes) (11.8.87)\n",
      "Requirement already satisfied: nvidia-cudnn-cu11==9.1.0.70 in /apps/bdi-venv-310-0.1.0-h170.2e95ba8~jammy/lib/python3.10/site-packages (from torch<3,>=2.0->bitsandbytes) (9.1.0.70)\n",
      "Requirement already satisfied: nvidia-cublas-cu11==11.11.3.6 in /apps/bdi-venv-310-0.1.0-h170.2e95ba8~jammy/lib/python3.10/site-packages (from torch<3,>=2.0->bitsandbytes) (11.11.3.6)\n",
      "Requirement already satisfied: nvidia-cufft-cu11==10.9.0.58 in /apps/bdi-venv-310-0.1.0-h170.2e95ba8~jammy/lib/python3.10/site-packages (from torch<3,>=2.0->bitsandbytes) (10.9.0.58)\n",
      "Requirement already satisfied: nvidia-curand-cu11==10.3.0.86 in /apps/bdi-venv-310-0.1.0-h170.2e95ba8~jammy/lib/python3.10/site-packages (from torch<3,>=2.0->bitsandbytes) (10.3.0.86)\n",
      "Requirement already satisfied: nvidia-cusolver-cu11==11.4.1.48 in /apps/bdi-venv-310-0.1.0-h170.2e95ba8~jammy/lib/python3.10/site-packages (from torch<3,>=2.0->bitsandbytes) (11.4.1.48)\n",
      "Requirement already satisfied: nvidia-cusparse-cu11==11.7.5.86 in /apps/bdi-venv-310-0.1.0-h170.2e95ba8~jammy/lib/python3.10/site-packages (from torch<3,>=2.0->bitsandbytes) (11.7.5.86)\n",
      "Requirement already satisfied: nvidia-nccl-cu11==2.21.5 in /apps/bdi-venv-310-0.1.0-h170.2e95ba8~jammy/lib/python3.10/site-packages (from torch<3,>=2.0->bitsandbytes) (2.21.5)\n",
      "Requirement already satisfied: nvidia-nvtx-cu11==11.8.86 in /apps/bdi-venv-310-0.1.0-h170.2e95ba8~jammy/lib/python3.10/site-packages (from torch<3,>=2.0->bitsandbytes) (11.8.86)\n",
      "Requirement already satisfied: triton==3.1.0 in /apps/bdi-venv-310-0.1.0-h170.2e95ba8~jammy/lib/python3.10/site-packages (from torch<3,>=2.0->bitsandbytes) (3.1.0)\n",
      "Requirement already satisfied: sympy==1.13.1 in /apps/bdi-venv-310-0.1.0-h170.2e95ba8~jammy/lib/python3.10/site-packages (from torch<3,>=2.0->bitsandbytes) (1.13.1)\n",
      "Requirement already satisfied: mpmath<1.4,>=1.1.0 in /apps/bdi-venv-310-0.1.0-h170.2e95ba8~jammy/lib/python3.10/site-packages (from sympy==1.13.1->torch<3,>=2.0->bitsandbytes) (1.3.0)\n",
      "Requirement already satisfied: python-dateutil>=2.8.2 in /apps/bdi-venv-310-0.1.0-h170.2e95ba8~jammy/lib/python3.10/site-packages (from pandas->datasets) (2.9.0.post0)\n",
      "Requirement already satisfied: pytz>=2020.1 in /apps/bdi-venv-310-0.1.0-h170.2e95ba8~jammy/lib/python3.10/site-packages (from pandas->datasets) (2024.1)\n",
      "Requirement already satisfied: tzdata>=2022.7 in /apps/bdi-venv-310-0.1.0-h170.2e95ba8~jammy/lib/python3.10/site-packages (from pandas->datasets) (2024.1)\n",
      "Requirement already satisfied: markdown-it-py>=2.2.0 in /apps/bdi-venv-310-0.1.0-h170.2e95ba8~jammy/lib/python3.10/site-packages (from rich->trl) (3.0.0)\n",
      "Requirement already satisfied: pygments<3.0.0,>=2.13.0 in /apps/bdi-venv-310-0.1.0-h170.2e95ba8~jammy/lib/python3.10/site-packages (from rich->trl) (2.18.0)\n",
      "Requirement already satisfied: mdurl~=0.1 in /apps/bdi-venv-310-0.1.0-h170.2e95ba8~jammy/lib/python3.10/site-packages (from markdown-it-py>=2.2.0->rich->trl) (0.1.2)\n",
      "Requirement already satisfied: six>=1.5 in /apps/bdi-venv-310-0.1.0-h170.2e95ba8~jammy/lib/python3.10/site-packages (from python-dateutil>=2.8.2->pandas->datasets) (1.16.0)\n",
      "Requirement already satisfied: MarkupSafe>=2.0 in /apps/bdi-venv-310-0.1.0-h170.2e95ba8~jammy/lib/python3.10/site-packages (from jinja2->torch<3,>=2.0->bitsandbytes) (2.1.5)\n",
      "Using cached https://pypi.netflix.net/packages/18487298685/bitsandbytes-0.45.3-py3-none-manylinux_2_24_x86_64.whl (76.1 MB)\n",
      "Using cached https://pypi.netflix.net/packages/17715809385/peft-0.14.0-py3-none-any.whl (374 kB)\n",
      "Using cached https://pypi.netflix.net/packages/18478228733/datasets-3.3.2-py3-none-any.whl (485 kB)\n",
      "Using cached https://pypi.netflix.net/packages/18490342842/trl-0.15.2-py3-none-any.whl (318 kB)\n",
      "Using cached https://pypi.netflix.net/packages/18477366081/huggingface_hub-0.29.1-py3-none-any.whl (468 kB)\n",
      "Using cached https://pypi.netflix.net/packages/7065972918/multiprocess-0.70.16-py310-none-any.whl (134 kB)\n",
      "Using cached https://pypi.netflix.net/packages/17602872867/tokenizers-0.21.0-cp39-abi3-manylinux_2_17_x86_64.manylinux2014_x86_64.whl (3.0 MB)\n",
      "Using cached https://pypi.netflix.net/packages/16227016774/xxhash-3.5.0-cp310-cp310-manylinux_2_17_x86_64.manylinux2014_x86_64.whl (194 kB)\n",
      "Installing collected packages: xxhash, multiprocess, huggingface-hub, tokenizers, bitsandbytes, accelerate, transformers, peft, datasets, trl\n",
      "  Attempting uninstall: multiprocess\n",
      "    Found existing installation: multiprocess 0.70.17\n",
      "    Uninstalling multiprocess-0.70.17:\n",
      "      Successfully uninstalled multiprocess-0.70.17\n",
      "  Attempting uninstall: huggingface-hub\n",
      "    Found existing installation: huggingface-hub 0.25.1\n",
      "    Uninstalling huggingface-hub-0.25.1:\n",
      "      Successfully uninstalled huggingface-hub-0.25.1\n",
      "  Attempting uninstall: tokenizers\n",
      "    Found existing installation: tokenizers 0.20.0\n",
      "    Uninstalling tokenizers-0.20.0:\n",
      "      Successfully uninstalled tokenizers-0.20.0\n",
      "  Attempting uninstall: accelerate\n",
      "    Found existing installation: accelerate 1.0.0\n",
      "    Uninstalling accelerate-1.0.0:\n",
      "      Successfully uninstalled accelerate-1.0.0\n",
      "  Attempting uninstall: transformers\n",
      "    Found existing installation: transformers 4.45.1\n",
      "    Uninstalling transformers-4.45.1:\n",
      "      Successfully uninstalled transformers-4.45.1\n",
      "Successfully installed accelerate-1.4.0 bitsandbytes-0.45.3 datasets-3.3.2 huggingface-hub-0.29.1 multiprocess-0.70.16 peft-0.14.0 tokenizers-0.21.0 transformers-4.49.0 trl-0.15.2 xxhash-3.5.0\n",
      "Note: you may need to restart the kernel to use updated packages.\n"
     ]
    }
   ],
   "source": [
    "pip install --upgrade bitsandbytes transformers peft accelerate datasets trl"
   ]
  },
  {
   "cell_type": "code",
   "execution_count": 9,
   "metadata": {
    "execution": {
     "iopub.execute_input": "2025-03-01T19:46:13.554252Z",
     "iopub.status.busy": "2025-03-01T19:46:13.553877Z",
     "iopub.status.idle": "2025-03-01T19:46:15.199153Z",
     "shell.execute_reply": "2025-03-01T19:46:15.198551Z",
     "shell.execute_reply.started": "2025-03-01T19:46:13.554224Z"
    }
   },
   "outputs": [
    {
     "name": "stdout",
     "output_type": "stream",
     "text": [
      "Using GPU: 0\n"
     ]
    }
   ],
   "source": [
    "import os\n",
    "# Set CUDA device environment variables BEFORE importing any CUDA libraries.\n",
    "os.environ[\"CUDA_VISIBLE_DEVICES\"] = \"0\"\n",
    "os.environ[\"CUDA_DEVICE_ORDER\"] = \"PCI_BUS_ID\"\n",
    "os.environ[\"PYTORCH_CUDA_ALLOC_CONF\"] = \"expandable_segments:True\"\n",
    "\n",
    "import torch\n",
    "torch.cuda.set_device(0)\n",
    "print(\"Using GPU:\", torch.cuda.current_device())\n",
    "\n",
    "import pandas as pd\n",
    "import warnings\n",
    "warnings.filterwarnings('ignore')\n"
   ]
  },
  {
   "cell_type": "code",
   "execution_count": 6,
   "metadata": {
    "execution": {
     "iopub.execute_input": "2025-03-01T20:06:15.378105Z",
     "iopub.status.busy": "2025-03-01T20:06:15.377744Z",
     "iopub.status.idle": "2025-03-01T20:06:15.894225Z",
     "shell.execute_reply": "2025-03-01T20:06:15.893692Z",
     "shell.execute_reply.started": "2025-03-01T20:06:15.378078Z"
    }
   },
   "outputs": [
    {
     "name": "stdout",
     "output_type": "stream",
     "text": [
      "Data prepared: prompt and target columns added.\n",
      "Train and evaluation datasets created.\n"
     ]
    }
   ],
   "source": [
    "# -------------------------\n",
    "# Data Preparation\n",
    "# -------------------------\n",
    "DATA_DIR = \"data\"\n",
    "q_and_a_path = os.path.join(DATA_DIR, \"tax-questions-answers-with-context.csv\")\n",
    "\n",
    "try:\n",
    "    q_and_a\n",
    "except NameError:\n",
    "    q_and_a = pd.read_csv(q_and_a_path)\n",
    "\n",
    "def construct_prompt(row):\n",
    "    return f\"\"\"You are a helpful tax advisor and legal expert. Use the provided context to answer the user's query in a clear and concise manner.\n",
    "\n",
    "User Query: {row['Question']}\n",
    "\n",
    "Related Context:\n",
    "{row['Context1']}\n",
    "{row['Context2']}\n",
    "\n",
    "Note: The above information is extracted from relevant forms or online sources. Use it to formulate your response.\"\"\"\n",
    "    \n",
    "q_and_a[\"prompt\"] = q_and_a.apply(construct_prompt, axis=1)\n",
    "q_and_a[\"target\"] = q_and_a[\"Answer\"]\n",
    "\n",
    "print(\"Data prepared: prompt and target columns added.\")\n",
    "\n",
    "from datasets import Dataset\n",
    "\n",
    "# Convert the DataFrame to a Hugging Face dataset and perform a train/test split.\n",
    "dataset = Dataset.from_pandas(q_and_a)\n",
    "dataset = dataset.train_test_split(test_size=0.2, seed=42)\n",
    "train_dataset = dataset[\"train\"]\n",
    "eval_dataset = dataset[\"test\"]\n",
    "\n",
    "print(\"Train and evaluation datasets created.\")\n"
   ]
  },
  {
   "cell_type": "code",
   "execution_count": 10,
   "metadata": {
    "execution": {
     "iopub.execute_input": "2025-03-01T20:07:17.244306Z",
     "iopub.status.busy": "2025-03-01T20:07:17.243745Z",
     "iopub.status.idle": "2025-03-01T20:07:41.081047Z",
     "shell.execute_reply": "2025-03-01T20:07:41.080278Z",
     "shell.execute_reply.started": "2025-03-01T20:07:17.244277Z"
    }
   },
   "outputs": [
    {
     "data": {
      "application/vnd.jupyter.widget-view+json": {
       "model_id": "26897c5fe7ca4d0e9235398af1baed4f",
       "version_major": 2,
       "version_minor": 0
      },
      "text/plain": [
       "Loading checkpoint shards:   0%|          | 0/4 [00:00<?, ?it/s]"
      ]
     },
     "metadata": {},
     "output_type": "display_data"
    },
    {
     "name": "stdout",
     "output_type": "stream",
     "text": [
      "Base model loaded.\n",
      "Gradient checkpointing disabled.\n",
      "Model is on GPU 0.\n"
     ]
    }
   ],
   "source": [
    "from transformers import AutoTokenizer, AutoModelForCausalLM, BitsAndBytesConfig\n",
    "from peft import prepare_model_for_kbit_training, LoraConfig\n",
    "\n",
    "# Define model paths.\n",
    "base_model_path = \"./model_directory/models--deepseek-ai--DeepSeek-V2-Lite-Chat/snapshots/85864749cd611b4353ce1decdb286193298f64c7\"\n",
    "output_dir = \"./model_directory/models--zainnobody--TaxSense/\"\n",
    "os.makedirs(output_dir, exist_ok=True)\n",
    "\n",
    "# Load the tokenizer from the base model.\n",
    "tokenizer = AutoTokenizer.from_pretrained(\n",
    "    base_model_path,\n",
    "    add_eos_token=True,\n",
    "    use_fast=True,\n",
    "    trust_remote_code=True,\n",
    ")\n",
    "tokenizer.pad_token = tokenizer.eos_token\n",
    "tokenizer.pad_token_id = tokenizer.eos_token_id\n",
    "tokenizer.padding_side = \"left\"\n",
    "\n",
    "# Set compute dtype and attention implementation.\n",
    "if torch.cuda.is_bf16_supported():\n",
    "    compute_dtype = torch.bfloat16\n",
    "    attn_implementation = \"flash_attention_2\"\n",
    "else:\n",
    "    compute_dtype = torch.float16\n",
    "    attn_implementation = \"sdpa\"\n",
    "\n",
    "# Configure 4-bit quantization settings.\n",
    "bnb_config = BitsAndBytesConfig(\n",
    "    load_in_4bit=True,\n",
    "    bnb_4bit_quant_type=\"nf4\",\n",
    "    bnb_4bit_compute_dtype=compute_dtype,\n",
    "    bnb_4bit_use_double_quant=True,\n",
    ")\n",
    "\n",
    "# Load the base model using a device map that forces it onto the current CUDA device.\n",
    "model = AutoModelForCausalLM.from_pretrained(\n",
    "    base_model_path,\n",
    "    quantization_config=bnb_config,\n",
    "    device_map={\"\": torch.cuda.current_device()},\n",
    "    trust_remote_code=True,\n",
    ")\n",
    "print(\"Base model loaded.\")\n",
    "\n",
    "# Prepare the model for k-bit training (QLoRA).\n",
    "model = prepare_model_for_kbit_training(model)\n",
    "\n",
    "# Optionally disable gradient checkpointing if it's causing issues.\n",
    "if hasattr(model, \"gradient_checkpointing_disable\"):\n",
    "    model.gradient_checkpointing_disable()\n",
    "    print(\"Gradient checkpointing disabled.\")\n",
    "\n",
    "# Ensure the model is on GPU 0.\n",
    "model = model.to(\"cuda:0\")\n",
    "print(\"Model is on GPU 0.\")\n",
    "\n",
    "# Configure LoRA.\n",
    "peft_config = LoraConfig(\n",
    "    lora_alpha=16,\n",
    "    lora_dropout=0.05,\n",
    "    r=16,\n",
    "    bias=\"none\",\n",
    "    task_type=\"CAUSAL_LM\",\n",
    "    target_modules=\"all-linear\",\n",
    ")\n"
   ]
  },
  {
   "cell_type": "code",
   "execution_count": 12,
   "metadata": {
    "execution": {
     "iopub.execute_input": "2025-03-01T20:07:48.237388Z",
     "iopub.status.busy": "2025-03-01T20:07:48.237005Z",
     "iopub.status.idle": "2025-03-01T20:07:48.405274Z",
     "shell.execute_reply": "2025-03-01T20:07:48.404720Z",
     "shell.execute_reply.started": "2025-03-01T20:07:48.237360Z"
    }
   },
   "outputs": [
    {
     "name": "stdout",
     "output_type": "stream",
     "text": [
      "Due to CUDA memory limits, we can only go up to 512 tokens. We will truncate 4 samples.\n"
     ]
    }
   ],
   "source": [
    "# Calculate token counts for each prompt in the DataFrame\n",
    "q_and_a[\"token_count\"] = q_and_a[\"prompt\"].apply(lambda x: len(tokenizer.encode(x)))\n",
    "\n",
    "# Determine the maximum token count from your dataset\n",
    "max_token_len = q_and_a[\"token_count\"].max()\n",
    "\n",
    "if max_token_len > 512:\n",
    "    num_exceeding = (q_and_a[\"token_count\"] > 512).sum()\n",
    "    print(f\"Due to CUDA memory limits, we can only go up to 512 tokens. We will truncate {num_exceeding} samples.\")\n",
    "    max_token_len = 512\n",
    "\n"
   ]
  },
  {
   "cell_type": "code",
   "execution_count": 13,
   "metadata": {
    "execution": {
     "iopub.execute_input": "2025-03-01T20:08:58.195306Z",
     "iopub.status.busy": "2025-03-01T20:08:58.194926Z",
     "iopub.status.idle": "2025-03-01T20:08:58.198770Z",
     "shell.execute_reply": "2025-03-01T20:08:58.198245Z",
     "shell.execute_reply.started": "2025-03-01T20:08:58.195277Z"
    }
   },
   "outputs": [],
   "source": [
    "def tokenize_function(examples):\n",
    "    full_texts = [\n",
    "        f\"{prompt.strip()}\\n\\nResponse: {target.strip()}\"\n",
    "        for prompt, target in zip(examples[\"prompt\"], examples[\"target\"])\n",
    "    ]\n",
    "    return tokenizer(full_texts, truncation=True, max_length=max_token_len, padding=\"max_length\")\n"
   ]
  },
  {
   "cell_type": "code",
   "execution_count": 5,
   "metadata": {
    "execution": {
     "iopub.execute_input": "2025-03-01T19:15:20.496451Z",
     "iopub.status.busy": "2025-03-01T19:15:20.495809Z",
     "iopub.status.idle": "2025-03-01T19:15:30.666801Z",
     "shell.execute_reply": "2025-03-01T19:15:30.666302Z",
     "shell.execute_reply.started": "2025-03-01T19:15:20.496422Z"
    },
    "scrolled": true
   },
   "outputs": [
    {
     "name": "stderr",
     "output_type": "stream",
     "text": [
      "comet_ml is installed but the Comet API Key is not configured. Please set the `COMET_API_KEY` environment variable to enable Comet logging. Check out the documentation for other ways of configuring it: https://www.comet.com/docs/v2/guides/experiment-management/configure-sdk/#set-the-api-key\n",
      "comet_ml is installed but the Comet API Key is not configured. Please set the `COMET_API_KEY` environment variable to enable Comet logging. Check out the documentation for other ways of configuring it: https://www.comet.com/docs/v2/guides/experiment-management/configure-sdk/#set-the-api-key\n"
     ]
    },
    {
     "data": {
      "application/vnd.jupyter.widget-view+json": {
       "model_id": "b81b64a0e7474c339dd4d461c2d34059",
       "version_major": 2,
       "version_minor": 0
      },
      "text/plain": [
       "Converting train dataset to ChatML:   0%|          | 0/96 [00:00<?, ? examples/s]"
      ]
     },
     "metadata": {},
     "output_type": "display_data"
    },
    {
     "data": {
      "application/vnd.jupyter.widget-view+json": {
       "model_id": "96e4ae4062c54bbc9244fd61a5eb8952",
       "version_major": 2,
       "version_minor": 0
      },
      "text/plain": [
       "Applying chat template to train dataset:   0%|          | 0/96 [00:00<?, ? examples/s]"
      ]
     },
     "metadata": {},
     "output_type": "display_data"
    },
    {
     "data": {
      "application/vnd.jupyter.widget-view+json": {
       "model_id": "9fe3dd5139534dd1ae3bad4914b177c2",
       "version_major": 2,
       "version_minor": 0
      },
      "text/plain": [
       "Truncating train dataset:   0%|          | 0/96 [00:00<?, ? examples/s]"
      ]
     },
     "metadata": {},
     "output_type": "display_data"
    },
    {
     "data": {
      "application/vnd.jupyter.widget-view+json": {
       "model_id": "0c73193eb9b646f38f36bc5ddc39e103",
       "version_major": 2,
       "version_minor": 0
      },
      "text/plain": [
       "Converting eval dataset to ChatML:   0%|          | 0/24 [00:00<?, ? examples/s]"
      ]
     },
     "metadata": {},
     "output_type": "display_data"
    },
    {
     "data": {
      "application/vnd.jupyter.widget-view+json": {
       "model_id": "30fc72b953dc4d53bfad2bf4261a87c4",
       "version_major": 2,
       "version_minor": 0
      },
      "text/plain": [
       "Applying chat template to eval dataset:   0%|          | 0/24 [00:00<?, ? examples/s]"
      ]
     },
     "metadata": {},
     "output_type": "display_data"
    },
    {
     "data": {
      "application/vnd.jupyter.widget-view+json": {
       "model_id": "0464131896d448bb958872d9a3b371a3",
       "version_major": 2,
       "version_minor": 0
      },
      "text/plain": [
       "Truncating eval dataset:   0%|          | 0/24 [00:00<?, ? examples/s]"
      ]
     },
     "metadata": {},
     "output_type": "display_data"
    },
    {
     "name": "stderr",
     "output_type": "stream",
     "text": [
      "Using auto half precision backend\n",
      "No label_names provided for model class `PeftModelForCausalLM`. Since `PeftModel` hides base models input arguments, if label_names is not given, label_names can't be set automatically within `Trainer`. Note that empty label_names list will be used instead.\n"
     ]
    }
   ],
   "source": [
    "from transformers import TrainingArguments\n",
    "from trl import SFTTrainer\n",
    "\n",
    "# Define training arguments. Adjust batch sizes as needed to avoid memory issues.\n",
    "training_arguments = TrainingArguments(\n",
    "    output_dir=output_dir,\n",
    "    evaluation_strategy=\"steps\",\n",
    "    do_eval=True,\n",
    "    optim=\"paged_adamw_8bit\",\n",
    "    per_device_train_batch_size=4,\n",
    "    gradient_accumulation_steps=4,\n",
    "    per_device_eval_batch_size=4,\n",
    "    log_level=\"debug\",\n",
    "    save_strategy=\"epoch\",\n",
    "    logging_steps=100,\n",
    "    learning_rate=1e-4,\n",
    "    fp16=True,\n",
    "    bf16=False,\n",
    "    eval_steps=100,\n",
    "    num_train_epochs=1,\n",
    "    warmup_ratio=0.1,\n",
    "    lr_scheduler_type=\"linear\",\n",
    "    local_rank=-1,\n",
    ")\n",
    "\n",
    "# Initialize the SFTTrainer.\n",
    "trainer = SFTTrainer(\n",
    "    model=model,\n",
    "    train_dataset=train_dataset,\n",
    "    eval_dataset=eval_dataset,\n",
    "    peft_config=peft_config,\n",
    "    tokenizer=tokenizer,\n",
    "    args=training_arguments,\n",
    ")\n"
   ]
  },
  {
   "cell_type": "code",
   "execution_count": 6,
   "metadata": {
    "execution": {
     "iopub.execute_input": "2025-03-01T19:15:43.371302Z",
     "iopub.status.busy": "2025-03-01T19:15:43.370920Z",
     "iopub.status.idle": "2025-03-01T19:20:10.364714Z",
     "shell.execute_reply": "2025-03-01T19:20:10.364166Z",
     "shell.execute_reply.started": "2025-03-01T19:15:43.371272Z"
    }
   },
   "outputs": [
    {
     "name": "stderr",
     "output_type": "stream",
     "text": [
      "Currently training with a batch size of: 4\n",
      "The following columns in the training set don't have a corresponding argument in `PeftModelForCausalLM.forward` and have been ignored: prompt, Context2, Context1, ID, Score1, target, Answer, Source, Question, Score2. If prompt, Context2, Context1, ID, Score1, target, Answer, Source, Question, Score2 are not expected by `PeftModelForCausalLM.forward`,  you can safely ignore this message.\n",
      "***** Running training *****\n",
      "  Num examples = 96\n",
      "  Num Epochs = 1\n",
      "  Instantaneous batch size per device = 4\n",
      "  Total train batch size (w. parallel, distributed & accumulation) = 16\n",
      "  Gradient Accumulation steps = 4\n",
      "  Total optimization steps = 6\n",
      "  Number of trainable parameters = 289,837,056\n"
     ]
    },
    {
     "data": {
      "text/html": [
       "\n",
       "    <div>\n",
       "      \n",
       "      <progress value='6' max='6' style='width:300px; height:20px; vertical-align: middle;'></progress>\n",
       "      [6/6 03:13, Epoch 1/1]\n",
       "    </div>\n",
       "    <table border=\"1\" class=\"dataframe\">\n",
       "  <thead>\n",
       " <tr style=\"text-align: left;\">\n",
       "      <th>Step</th>\n",
       "      <th>Training Loss</th>\n",
       "      <th>Validation Loss</th>\n",
       "    </tr>\n",
       "  </thead>\n",
       "  <tbody>\n",
       "  </tbody>\n",
       "</table><p>"
      ],
      "text/plain": [
       "<IPython.core.display.HTML object>"
      ]
     },
     "metadata": {},
     "output_type": "display_data"
    },
    {
     "name": "stderr",
     "output_type": "stream",
     "text": [
      "Saving model checkpoint to ./model_directory/models--zainnobody--TaxSense/checkpoint-6\n",
      "loading configuration file ./model_directory/models--deepseek-ai--DeepSeek-V2-Lite-Chat/snapshots/85864749cd611b4353ce1decdb286193298f64c7/config.json\n",
      "Model config DeepseekV2Config {\n",
      "  \"architectures\": [\n",
      "    \"DeepseekV2ForCausalLM\"\n",
      "  ],\n",
      "  \"attention_bias\": false,\n",
      "  \"attention_dropout\": 0.0,\n",
      "  \"auto_map\": {\n",
      "    \"AutoConfig\": \"configuration_deepseek.DeepseekV2Config\",\n",
      "    \"AutoModel\": \"modeling_deepseek.DeepseekV2Model\",\n",
      "    \"AutoModelForCausalLM\": \"modeling_deepseek.DeepseekV2ForCausalLM\"\n",
      "  },\n",
      "  \"aux_loss_alpha\": 0.001,\n",
      "  \"bos_token_id\": 100000,\n",
      "  \"eos_token_id\": 100001,\n",
      "  \"ep_size\": 1,\n",
      "  \"first_k_dense_replace\": 1,\n",
      "  \"hidden_act\": \"silu\",\n",
      "  \"hidden_size\": 2048,\n",
      "  \"initializer_range\": 0.02,\n",
      "  \"intermediate_size\": 10944,\n",
      "  \"kv_lora_rank\": 512,\n",
      "  \"max_position_embeddings\": 163840,\n",
      "  \"model_type\": \"deepseek_v2\",\n",
      "  \"moe_intermediate_size\": 1408,\n",
      "  \"moe_layer_freq\": 1,\n",
      "  \"n_group\": 1,\n",
      "  \"n_routed_experts\": 64,\n",
      "  \"n_shared_experts\": 2,\n",
      "  \"norm_topk_prob\": false,\n",
      "  \"num_attention_heads\": 16,\n",
      "  \"num_experts_per_tok\": 6,\n",
      "  \"num_hidden_layers\": 27,\n",
      "  \"num_key_value_heads\": 16,\n",
      "  \"pretraining_tp\": 1,\n",
      "  \"q_lora_rank\": null,\n",
      "  \"qk_nope_head_dim\": 128,\n",
      "  \"qk_rope_head_dim\": 64,\n",
      "  \"rms_norm_eps\": 1e-06,\n",
      "  \"rope_scaling\": {\n",
      "    \"beta_fast\": 32,\n",
      "    \"beta_slow\": 1,\n",
      "    \"factor\": 40,\n",
      "    \"mscale\": 0.707,\n",
      "    \"mscale_all_dim\": 0.707,\n",
      "    \"original_max_position_embeddings\": 4096,\n",
      "    \"type\": \"yarn\"\n",
      "  },\n",
      "  \"rope_theta\": 10000,\n",
      "  \"routed_scaling_factor\": 1.0,\n",
      "  \"scoring_func\": \"softmax\",\n",
      "  \"seq_aux\": true,\n",
      "  \"tie_word_embeddings\": false,\n",
      "  \"topk_group\": 1,\n",
      "  \"topk_method\": \"greedy\",\n",
      "  \"torch_dtype\": \"bfloat16\",\n",
      "  \"transformers_version\": \"4.49.0\",\n",
      "  \"use_cache\": true,\n",
      "  \"v_head_dim\": 128,\n",
      "  \"vocab_size\": 102400\n",
      "}\n",
      "\n",
      "tokenizer config file saved in ./model_directory/models--zainnobody--TaxSense/checkpoint-6/tokenizer_config.json\n",
      "Special tokens file saved in ./model_directory/models--zainnobody--TaxSense/checkpoint-6/special_tokens_map.json\n",
      "Saving model checkpoint to ./model_directory/models--zainnobody--TaxSense/checkpoint-6\n",
      "loading configuration file ./model_directory/models--deepseek-ai--DeepSeek-V2-Lite-Chat/snapshots/85864749cd611b4353ce1decdb286193298f64c7/config.json\n",
      "Model config DeepseekV2Config {\n",
      "  \"architectures\": [\n",
      "    \"DeepseekV2ForCausalLM\"\n",
      "  ],\n",
      "  \"attention_bias\": false,\n",
      "  \"attention_dropout\": 0.0,\n",
      "  \"auto_map\": {\n",
      "    \"AutoConfig\": \"configuration_deepseek.DeepseekV2Config\",\n",
      "    \"AutoModel\": \"modeling_deepseek.DeepseekV2Model\",\n",
      "    \"AutoModelForCausalLM\": \"modeling_deepseek.DeepseekV2ForCausalLM\"\n",
      "  },\n",
      "  \"aux_loss_alpha\": 0.001,\n",
      "  \"bos_token_id\": 100000,\n",
      "  \"eos_token_id\": 100001,\n",
      "  \"ep_size\": 1,\n",
      "  \"first_k_dense_replace\": 1,\n",
      "  \"hidden_act\": \"silu\",\n",
      "  \"hidden_size\": 2048,\n",
      "  \"initializer_range\": 0.02,\n",
      "  \"intermediate_size\": 10944,\n",
      "  \"kv_lora_rank\": 512,\n",
      "  \"max_position_embeddings\": 163840,\n",
      "  \"model_type\": \"deepseek_v2\",\n",
      "  \"moe_intermediate_size\": 1408,\n",
      "  \"moe_layer_freq\": 1,\n",
      "  \"n_group\": 1,\n",
      "  \"n_routed_experts\": 64,\n",
      "  \"n_shared_experts\": 2,\n",
      "  \"norm_topk_prob\": false,\n",
      "  \"num_attention_heads\": 16,\n",
      "  \"num_experts_per_tok\": 6,\n",
      "  \"num_hidden_layers\": 27,\n",
      "  \"num_key_value_heads\": 16,\n",
      "  \"pretraining_tp\": 1,\n",
      "  \"q_lora_rank\": null,\n",
      "  \"qk_nope_head_dim\": 128,\n",
      "  \"qk_rope_head_dim\": 64,\n",
      "  \"rms_norm_eps\": 1e-06,\n",
      "  \"rope_scaling\": {\n",
      "    \"beta_fast\": 32,\n",
      "    \"beta_slow\": 1,\n",
      "    \"factor\": 40,\n",
      "    \"mscale\": 0.707,\n",
      "    \"mscale_all_dim\": 0.707,\n",
      "    \"original_max_position_embeddings\": 4096,\n",
      "    \"type\": \"yarn\"\n",
      "  },\n",
      "  \"rope_theta\": 10000,\n",
      "  \"routed_scaling_factor\": 1.0,\n",
      "  \"scoring_func\": \"softmax\",\n",
      "  \"seq_aux\": true,\n",
      "  \"tie_word_embeddings\": false,\n",
      "  \"topk_group\": 1,\n",
      "  \"topk_method\": \"greedy\",\n",
      "  \"torch_dtype\": \"bfloat16\",\n",
      "  \"transformers_version\": \"4.49.0\",\n",
      "  \"use_cache\": true,\n",
      "  \"v_head_dim\": 128,\n",
      "  \"vocab_size\": 102400\n",
      "}\n",
      "\n",
      "tokenizer config file saved in ./model_directory/models--zainnobody--TaxSense/checkpoint-6/tokenizer_config.json\n",
      "Special tokens file saved in ./model_directory/models--zainnobody--TaxSense/checkpoint-6/special_tokens_map.json\n",
      "\n",
      "\n",
      "Training completed. Do not forget to share your model on huggingface.co/models =)\n",
      "\n",
      "\n",
      "Configuration saved in ./model_directory/models--zainnobody--TaxSense/config.json\n",
      "Configuration saved in ./model_directory/models--zainnobody--TaxSense/generation_config.json\n",
      "The model is bigger than the maximum size per checkpoint (5GB) and is going to be split in 3 checkpoint shards. You can find where each parameters has been saved in the index located at ./model_directory/models--zainnobody--TaxSense/model.safetensors.index.json.\n"
     ]
    },
    {
     "name": "stdout",
     "output_type": "stream",
     "text": [
      "TaxSense model saved to: ./model_directory/models--zainnobody--TaxSense/\n"
     ]
    }
   ],
   "source": [
    "\n",
    "trainer.train()\n",
    "\n",
    "# Save the fine-tuned model (\"TaxSense\") to the specified output directory.\n",
    "model.save_pretrained(output_dir, safe_serialization=True)\n",
    "print(f\"TaxSense model saved to: {output_dir}\")\n"
   ]
  },
  {
   "cell_type": "markdown",
   "metadata": {},
   "source": [
    "The following code ensures that all tokenizer-related files are copied to the new model directory. \n",
    "Having the tokenizer files in one place is essential for consistency when loading the model \n",
    "for inference, ensuring the correct tokenizer configuration is used."
   ]
  },
  {
   "cell_type": "code",
   "execution_count": 5,
   "metadata": {
    "execution": {
     "iopub.execute_input": "2025-03-01T20:39:15.812081Z",
     "iopub.status.busy": "2025-03-01T20:39:15.811730Z",
     "iopub.status.idle": "2025-03-01T20:39:15.949390Z",
     "shell.execute_reply": "2025-03-01T20:39:15.948796Z",
     "shell.execute_reply.started": "2025-03-01T20:39:15.812053Z"
    }
   },
   "outputs": [
    {
     "name": "stdout",
     "output_type": "stream",
     "text": [
      "Copied: config.json -> ./model_directory/models--zainnobody--TaxSense/\n",
      "Skipped: special_tokens_map.json (File not found)\n",
      "Copied: tokenizer.json -> ./model_directory/models--zainnobody--TaxSense/\n",
      "Copied: tokenizer_config.json -> ./model_directory/models--zainnobody--TaxSense/\n",
      "Skipped: pytorch_model.bin (File not found)\n",
      "Skipped: adapter_config.json (File not found)\n",
      "Skipped: adapter_model.bin (File not found)\n",
      "Model file transfer completed.\n"
     ]
    }
   ],
   "source": [
    "model_files = [\n",
    "    \"config.json\",\n",
    "    \"special_tokens_map.json\",\n",
    "    \"tokenizer.json\",\n",
    "    \"tokenizer_config.json\",\n",
    "    \"pytorch_model.bin\",\n",
    "    \"adapter_config.json\",\n",
    "    \"adapter_model.bin\",\n",
    "]\n",
    "\n",
    "# Copy each file if it exists\n",
    "for file_name in model_files:\n",
    "    src_path = os.path.join(base_model_path, file_name)\n",
    "    dest_path = os.path.join(output_dir, file_name)\n",
    "    \n",
    "    if os.path.isfile(src_path):\n",
    "        shutil.copy(src_path, dest_path)\n",
    "        print(f\"Copied: {file_name} -> {output_dir}\")\n",
    "    else:\n",
    "        print(f\"Skipped: {file_name} (File not found)\")\n",
    "\n",
    "print(\"Model file transfer completed.\")"
   ]
  },
  {
   "cell_type": "code",
   "execution_count": 9,
   "metadata": {
    "execution": {
     "iopub.execute_input": "2025-03-01T20:46:01.136403Z",
     "iopub.status.busy": "2025-03-01T20:46:01.136022Z",
     "iopub.status.idle": "2025-03-01T20:46:01.141585Z",
     "shell.execute_reply": "2025-03-01T20:46:01.141103Z",
     "shell.execute_reply.started": "2025-03-01T20:46:01.136376Z"
    }
   },
   "outputs": [
    {
     "name": "stdout",
     "output_type": "stream",
     "text": [
      "5.2 GB model-00004-of-000004.safetensors\n",
      "1.2 KB tokenizer_config.json\n",
      "10.1 KB configuration_deepseek.py\n",
      "468.7 KB model.safetensors.index.json\n",
      "1.5 KB config.json\n",
      "8.0 GB model-00002-of-000004.safetensors\n",
      "181.0 B generation_config.json\n",
      "8.0 GB model-00001-of-000004.safetensors\n",
      "4.4 MB tokenizer.json\n",
      "76.8 KB modeling_deepseek.py\n",
      "8.0 GB model-00003-of-000004.safetensors\n"
     ]
    }
   ],
   "source": [
    "from pathlib import Path\n",
    "import os\n",
    "\n",
    "def human_readable_size(size, decimal_places=1):\n",
    "    for unit in ['B', 'KB', 'MB', 'GB', 'TB']:\n",
    "        if size < 1024.0:\n",
    "            return f\"{size:.{decimal_places}f} {unit}\"\n",
    "        size /= 1024.0\n",
    "    return f\"{size:.{decimal_places}f} TB\"\n",
    "\n",
    "directory = Path(base_model_path)\n",
    "if directory.exists() and directory.is_dir():\n",
    "    for file in directory.iterdir():\n",
    "        size = human_readable_size(file.stat().st_size)\n",
    "        print(f\"{size} {file.name}\")\n",
    "else:\n",
    "    print(\"Directory not found\")"
   ]
  },
  {
   "cell_type": "code",
   "execution_count": 1,
   "metadata": {
    "execution": {
     "iopub.execute_input": "2025-03-01T20:53:51.972154Z",
     "iopub.status.busy": "2025-03-01T20:53:51.971523Z",
     "iopub.status.idle": "2025-03-01T20:53:55.969723Z",
     "shell.execute_reply": "2025-03-01T20:53:55.969039Z",
     "shell.execute_reply.started": "2025-03-01T20:53:51.972115Z"
    }
   },
   "outputs": [],
   "source": [
    "from transformers import AutoModelForCausalLM, AutoTokenizer\n",
    "import torch\n",
    "\n",
    "def load_model_and_tokenizer(model_path, device=\"cuda:0\"):\n",
    "    model = AutoModelForCausalLM.from_pretrained(model_path, trust_remote_code=True).to(device)\n",
    "    tokenizer = AutoTokenizer.from_pretrained(model_path, trust_remote_code=True)\n",
    "    tokenizer.pad_token = tokenizer.eos_token\n",
    "    tokenizer.padding_side = \"left\"\n",
    "    return model, tokenizer\n"
   ]
  },
  {
   "cell_type": "code",
   "execution_count": null,
   "metadata": {},
   "outputs": [],
   "source": [
    "model, tokenizer = load_model_and_tokenizer(output_dir)"
   ]
  },
  {
   "cell_type": "markdown",
   "metadata": {},
   "source": [
    "Ran into following issue:\n",
    "\n",
    "```\n",
    "OSError: ./model_directory/models--zainnobody--TaxSense/ does not appear to have a file named modeling_deepseek.py. Checkout 'https://huggingface.co/./model_directory/models--zainnobody--TaxSense//tree/None' for available files.\n",
    "```\n",
    "\n",
    "Resolving this:"
   ]
  },
  {
   "cell_type": "code",
   "execution_count": 8,
   "metadata": {
    "execution": {
     "iopub.execute_input": "2025-03-01T20:45:20.474764Z",
     "iopub.status.busy": "2025-03-01T20:45:20.474360Z",
     "iopub.status.idle": "2025-03-01T20:45:20.534432Z",
     "shell.execute_reply": "2025-03-01T20:45:20.533864Z",
     "shell.execute_reply.started": "2025-03-01T20:45:20.474733Z"
    }
   },
   "outputs": [
    {
     "name": "stdout",
     "output_type": "stream",
     "text": [
      "5.2 GB model-00004-of-000004.safetensors\n",
      "1.2 KB tokenizer_config.json\n",
      "10.1 KB configuration_deepseek.py\n",
      "468.7 KB model.safetensors.index.json\n",
      "1.5 KB config.json\n",
      "8.0 GB model-00002-of-000004.safetensors\n",
      "181.0 B generation_config.json\n",
      "8.0 GB model-00001-of-000004.safetensors\n",
      "4.4 MB tokenizer.json\n",
      "76.8 KB modeling_deepseek.py\n",
      "8.0 GB model-00003-of-000004.safetensors\n"
     ]
    }
   ],
   "source": [
    "from pathlib import Path\n",
    "import os\n",
    "\n",
    "def human_readable_size(size, decimal_places=1):\n",
    "    for unit in ['B', 'KB', 'MB', 'GB', 'TB']:\n",
    "        if size < 1024.0:\n",
    "            return f\"{size:.{decimal_places}f} {unit}\"\n",
    "        size /= 1024.0\n",
    "    return f\"{size:.{decimal_places}f} TB\"\n",
    "\n",
    "directory = Path(base_model_path)\n",
    "if directory.exists() and directory.is_dir():\n",
    "    for file in directory.iterdir():\n",
    "        size = human_readable_size(file.stat().st_size)\n",
    "        print(f\"{size} {file.name}\")\n",
    "else:\n",
    "    print(\"Directory not found\")\n"
   ]
  },
  {
   "cell_type": "code",
   "execution_count": 10,
   "metadata": {
    "execution": {
     "iopub.execute_input": "2025-03-01T20:47:00.939061Z",
     "iopub.status.busy": "2025-03-01T20:47:00.938378Z",
     "iopub.status.idle": "2025-03-01T20:47:00.994471Z",
     "shell.execute_reply": "2025-03-01T20:47:00.993914Z",
     "shell.execute_reply.started": "2025-03-01T20:47:00.939026Z"
    }
   },
   "outputs": [
    {
     "name": "stdout",
     "output_type": "stream",
     "text": [
      "Copied modeling_deepseek.py to ./model_directory/models--zainnobody--TaxSense/\n"
     ]
    }
   ],
   "source": [
    "deepseek_model_file = \"modeling_deepseek.py\"\n",
    "src_path = os.path.join(base_model_path, deepseek_model_file)\n",
    "dest_path = os.path.join(output_dir, deepseek_model_file)\n",
    "\n",
    "if os.path.exists(src_path):\n",
    "    shutil.copy2(src_path, dest_path)  # copy2 preserves metadata\n",
    "    print(f\"Copied {deepseek_model_file} to {output_dir}\")\n",
    "else:\n",
    "    print(f\"File {deepseek_model_file} not found in {base_model_path}, check if it exists.\")"
   ]
  },
  {
   "cell_type": "code",
   "execution_count": null,
   "metadata": {},
   "outputs": [],
   "source": [
    "output_dir = \"./model_directory/models--zainnobody--TaxSense/\"\n",
    "\n",
    "model, tokenizer = load_model_and_tokenizer(output_dir)\n",
    "\n",
    "print(\"Model loaded.\")"
   ]
  },
  {
   "cell_type": "markdown",
   "metadata": {},
   "source": [
    "I cleaned the last cell, as the output was huge.\n",
    "\n",
    "The logs show that while loading the checkpoint shards, several weights weren't used during model initialization:\n",
    "\n",
    "```\n",
    "Loading checkpoint shards: 100%\n",
    " 3/3 [00:47<00:00, 13.32s/it]\n",
    "Some weights of the model checkpoint at ./model_directory/models--zainnobody--TaxSense/ were not used when initializing DeepseekV2ForCausalLM: {'model.layers.9.mlp.experts.60.up_proj.lora_A.default.weight', 'model.layers.13.mlp.experts.7.down_proj.lora_B.default.weight', 'model.layers.22.mlp.experts.44.up_proj.base_layer.weight.quant_map', 'model.layers.1.mlp.experts.48.gate_proj.base_layer.weight.quant_map',...\n",
    "```\n",
    "\n",
    "This happens because when fine-tuning with LoRA (using PEFT), additional parameters like `lora_A.default.weight` and `lora_B.default.weight` are injected into the model. However, using a standard call like `AutoModelForCausalLM.from_pretrained(finetuned_dir)` does not automatically load these extra LoRA weights, which results in the warning about unused or missing parameters."
   ]
  },
  {
   "cell_type": "code",
   "execution_count": 1,
   "metadata": {
    "execution": {
     "iopub.execute_input": "2025-03-01T21:24:38.223525Z",
     "iopub.status.busy": "2025-03-01T21:24:38.223172Z",
     "iopub.status.idle": "2025-03-01T21:25:20.234869Z",
     "shell.execute_reply": "2025-03-01T21:25:20.234274Z",
     "shell.execute_reply.started": "2025-03-01T21:24:38.223496Z"
    }
   },
   "outputs": [
    {
     "name": "stderr",
     "output_type": "stream",
     "text": [
      "2025-03-01 21:24:42.809166: I tensorflow/core/platform/cpu_feature_guard.cc:182] This TensorFlow binary is optimized to use available CPU instructions in performance-critical operations.\n",
      "To enable the following instructions: AVX2 AVX512F FMA, in other operations, rebuild TensorFlow with the appropriate compiler flags.\n",
      "2025-03-01 21:24:43.693999: W tensorflow/compiler/tf2tensorrt/utils/py_utils.cc:38] TF-TRT Warning: Could not find TensorRT\n"
     ]
    },
    {
     "data": {
      "application/vnd.jupyter.widget-view+json": {
       "model_id": "51bcbe581e3744bd8b2ed0e684d2b69d",
       "version_major": 2,
       "version_minor": 0
      },
      "text/plain": [
       "Loading checkpoint shards:   0%|          | 0/4 [00:00<?, ?it/s]"
      ]
     },
     "metadata": {},
     "output_type": "display_data"
    },
    {
     "name": "stdout",
     "output_type": "stream",
     "text": [
      "Successfully loaded the model + LoRA adapter across multiple GPUs.\n"
     ]
    }
   ],
   "source": [
    "import os\n",
    "import torch\n",
    "from transformers import AutoModelForCausalLM, AutoTokenizer\n",
    "from peft import PeftModel\n",
    "\n",
    "base_model_path = \"./model_directory/models--deepseek-ai--DeepSeek-V2-Lite-Chat/snapshots/85864749cd611b4353ce1decdb286193298f64c7\"\n",
    "output_dir = \"./model_directory/models--zainnobody--TaxSense/\"\n",
    "lora_output_dir = os.path.join(output_dir, \"checkpoint-6\")\n",
    "\n",
    "max_memory = {\n",
    "    0: \"20GiB\",\n",
    "    1: \"20GiB\",\n",
    "}\n",
    "\n",
    "base_model = AutoModelForCausalLM.from_pretrained(\n",
    "    base_model_path,\n",
    "    trust_remote_code=True,\n",
    "    device_map=\"auto\",\n",
    "    max_memory=max_memory,\n",
    "    torch_dtype=torch.float16,\n",
    ")\n",
    "\n",
    "model = PeftModel.from_pretrained(\n",
    "    base_model,\n",
    "    lora_output_dir,\n",
    "    device_map=\"auto\",\n",
    "    max_memory=max_memory,\n",
    "    torch_dtype=torch.float16,\n",
    ")\n",
    "\n",
    "tokenizer = AutoTokenizer.from_pretrained(\n",
    "    base_model_path,\n",
    "    trust_remote_code=True\n",
    ")\n",
    "\n",
    "tokenizer.pad_token = tokenizer.eos_token\n",
    "tokenizer.padding_side = \"left\"\n",
    "\n",
    "print(\"Successfully loaded the model + LoRA adapter across multiple GPUs.\")"
   ]
  },
  {
   "cell_type": "markdown",
   "metadata": {},
   "source": [
    "Just manual checking: "
   ]
  },
  {
   "cell_type": "code",
   "execution_count": 3,
   "metadata": {
    "execution": {
     "iopub.execute_input": "2025-03-01T21:34:24.912474Z",
     "iopub.status.busy": "2025-03-01T21:34:24.912101Z",
     "iopub.status.idle": "2025-03-01T21:49:55.588962Z",
     "shell.execute_reply": "2025-03-01T21:49:55.588104Z",
     "shell.execute_reply.started": "2025-03-01T21:34:24.912449Z"
    }
   },
   "outputs": [
    {
     "name": "stderr",
     "output_type": "stream",
     "text": [
      "/tmp/ipykernel_262501/3772536405.py:48: FutureWarning: `torch.cuda.amp.autocast(args...)` is deprecated. Please use `torch.amp.autocast('cuda', args...)` instead.\n",
      "  with torch.no_grad(), torch.cuda.amp.autocast(enabled=True):\n",
      "Setting `pad_token_id` to `eos_token_id`:100001 for open-end generation.\n",
      "Setting `pad_token_id` to `eos_token_id`:100001 for open-end generation.\n"
     ]
    },
    {
     "name": "stdout",
     "output_type": "stream",
     "text": [
      "============================================================\n",
      "Sample Index: 0\n",
      "------------------------------------------------------------\n",
      "QUESTION:\n",
      "How can I reduce my tax bill?\n",
      "\n",
      "CONTEXT USED:\n",
      "Context1: System at IRS.gov/SAMS.\n",
      "For more information, go to IRS.gov/Advocate.\n",
      "How To Make a Contribution To\n",
      "Reduce Debt Held by the Public\n",
      "There are two ways to make a contribution to reduce the\n",
      "debt held by the public.\n",
      "• At Pay.gov, contribute online by credit card, debit card,\n",
      "PayPal, checking account, or savings account.\n",
      "• Write a check payable to “Bureau of the Fiscal Service.”\n",
      "In the memo section, notate that it is a gift to reduce the\n",
      "debt held by the public.\n",
      "Mail the check to:\n",
      "Attn: Dept G\n",
      "Context2: WV 26106-2188. Or you can enclose\n",
      "the check with your income tax return\n",
      "when you file. In the memo section of\n",
      "the check, make a note that it is a gift to\n",
      "reduce the debt held by the public. Don’t\n",
      "add your gift to any tax you may owe.\n",
      "See the instructions for line 37 for de-\n",
      "tails on how to pay any tax you owe. For\n",
      "information on how to make this type of\n",
      "gift online, go to TreasuryDirect.gov/\n",
      "Help-Center/Public-Debt-FAQs/\n",
      "#DebtFinance and click on “How do\n",
      "you make a contribution to reduce the\n",
      "\n",
      "EXPECTED REPLY:\n",
      "To lower your tax liability, consider maximizing deductions and credits, contributing to retirement accounts, and utilizing tax-efficient investments. Consult a tax professional for personalized strategies.\n",
      "\n",
      "MODEL REPLY:\n",
      "\n",
      "To reduce your tax bill, you can make a contribution to reduce the debt held by the public. There are two methods to do this:\n",
      "\n",
      "1. Online via Pay.gov: You can contribute online by using a credit card, debit card, PayPal, checking account, or savings account. Visit Pay.gov and follow the instructions to make your contribution.\n",
      "\n",
      "2. By mail: You can also contribute by writing a check payable to \"Bureau of the Fiscal Service\" and mailing it to the following address:\n",
      "\n",
      "Attn: Dept G\n",
      "WV 26106-2188\n",
      "In the memo section of the check, make a note that it is a gift to reduce the debt held by the public. Do not add your gift to any tax you may owe. For information on how to make this type of gift online, visit TreasuryDirect.gov/Help-Center/Public-Debt-FAQs/DebtFinance and click on \"How do you make a contribution to reduce the debt held by the public.\"\n",
      "\n",
      "Remember to consult with a tax advisor or legal expert for personalized advice on your specific situation.\n",
      "============================================================ \n",
      "\n"
     ]
    },
    {
     "name": "stderr",
     "output_type": "stream",
     "text": [
      "Setting `pad_token_id` to `eos_token_id`:100001 for open-end generation.\n"
     ]
    },
    {
     "name": "stdout",
     "output_type": "stream",
     "text": [
      "============================================================\n",
      "Sample Index: 1\n",
      "------------------------------------------------------------\n",
      "QUESTION:\n",
      "What deductions am I eligible for?\n",
      "\n",
      "CONTEXT USED:\n",
      "Context1: Standard Deduction (Group I Only)\n",
      "If you do not itemize your deductions, you can take the 2025\n",
      "standard deduction listed below for your filing status.\n",
      "Filing Status\n",
      "Standard\n",
      "Deduction\n",
      "Married filing jointly or\n",
      "Qualifying surviving spouse\n",
      ". . . . . . . . . . . . . .\n",
      "$30,000\\*\n",
      "Head of household . . . . . . . . . . . . . . . . . . . .\n",
      "$22,500\\*\n",
      "Single or Married filing\n",
      "separately\n",
      ". . . . . . . . . . . . . . . . . . . . . . . . .\n",
      "$15,000\\*\n",
      "Context2: 33\n",
      "Standard Deduction Worksheet for Dependents—Line 12\n",
      "Keep for Your Records\n",
      "Use this worksheet only if someone can claim you, or your spouse if filing jointly, as a dependent.\n",
      "1.\n",
      "Check if:\n",
      "You were born before January 2, 1960.\n",
      "You are blind.\n",
      "Spouse was born before January 2, 1960.\n",
      "Spouse is blind.\n",
      "Total number of boxes\n",
      "checked\n",
      ". . . . . . . . . . . . . . . . . .\n",
      "1.\n",
      "2.\n",
      "Is your earned income\\* more than $850?\n",
      "Yes.\n",
      "Add $450 to your earned income. Enter the total.\n",
      "\n",
      "EXPECTED REPLY:\n",
      "Eligibility for deductions varies based on individual circumstances. Common deductions include mortgage interest, state and local taxes, charitable contributions, and medical expenses exceeding a certain threshold.\n",
      "\n",
      "MODEL REPLY:\n",
      "To determine your eligibility for deductions, you should first consider whether you will be itemizing your deductions or taking the standard deduction. For the 2025 tax year:\n",
      "\n",
      "- If you are married and file a joint tax return, you are eligible for a standard deduction of $30,000.\n",
      "- If you are single, head of household, or married filing separately, the standard deduction is $15,000.\n",
      "\n",
      "If your earned income is more than $850 and you meet certain criteria, you may also be eligible for additional deductions. For example, if you are blind or if your spouse is blind and born before January 2, 1960, you can add $450 to your earned income.\n",
      "\n",
      "It's important to note that if you have dependents or if someone can claim you or your spouse as a dependent, you should use the Standard Deduction Worksheet for Dependents (Form 1040 or Form 1040-SR) to determine your standard deduction. This worksheet is used to calculate the standard deduction if someone can claim you or your spouse as a dependent.\n",
      "\n",
      "Please refer to IRS Form 1040 instructions or consult\n",
      "============================================================ \n",
      "\n",
      "============================================================\n",
      "Sample Index: 2\n",
      "------------------------------------------------------------\n",
      "QUESTION:\n",
      "What's the difference between marginal and effective tax rates?\n",
      "\n",
      "CONTEXT USED:\n",
      "Context1: a rate for branch profits, the rate of tax is the rate specified in the\n",
      "treaty for dividends paid by a wholly owned domestic corporation\n",
      "to the foreign corporation. See Regulations section 1.884-1(g)\n",
      "for applicable rates of tax. Benefits other than a rate reduction\n",
      "may be available under certain treaties, such as the Canadian\n",
      "income tax treaty.\n",
      "Note. Many treaties listed in Regulations section 1.884-1(g)(3)\n",
      "and (g)(4) are no longer in force and have been replaced by\n",
      "Context2: Taxable amount over\n",
      "Column B\n",
      "Taxable amount not over\n",
      "Column C\n",
      "Tax on amount in column A\n",
      "Column D\n",
      "Rate of tax on excess over amount\n",
      "in column A\n",
      ".\n",
      ".\n",
      ".\n",
      ".\n",
      "$0\n",
      "$10,000\n",
      "$0\n",
      "18%\n",
      "10,000\n",
      "20,000\n",
      "1,800\n",
      "20%\n",
      "20,000\n",
      "40,000\n",
      "3,800\n",
      "22%\n",
      "40,000\n",
      "60,000\n",
      "8,200\n",
      "24%\n",
      "60,000\n",
      "80,000\n",
      "13,000\n",
      "26%\n",
      "80,000\n",
      "100,000\n",
      "18,200\n",
      "28%\n",
      "100,000\n",
      "150,000\n",
      "23,800\n",
      "30%\n",
      "150,000\n",
      "250,000\n",
      "38,800\n",
      "32%\n",
      "250,000\n",
      "500,000\n",
      "70,800\n",
      "34%\n",
      "500,000\n",
      "750,000\n",
      "155,800\n",
      "37%\n",
      "750,000\n",
      "1,000,000\n",
      "248,300\n",
      "39%\n",
      "1,000,000\n",
      "– – – –\n",
      "345,800\n",
      "40%\n",
      "6\n",
      "\n",
      "EXPECTED REPLY:\n",
      "The marginal tax rate is the rate applied to your next dollar of income, while the effective tax rate is the average rate you pay on your total taxable income.\n",
      "\n",
      "MODEL REPLY:\n",
      "The difference between marginal and effective tax rates lies in their application and calculation.\n",
      "\n",
      "Marginal tax rates are the additional tax you pay on each additional dollar of income. They are applied incrementally as your income increases. For example, in the context provided, the tax rates increase as income increases from $0 to $10,000, $10,000 to $20,000, and so on.\n",
      "\n",
      "Effective tax rates, on the other hand, are calculated by dividing the total tax paid by the total income and are expressed as a percentage. They give you a broader picture of your overall tax situation, including all income levels. In the context you provided, the effective tax rate would be calculated by dividing the total tax paid by the total taxable amount.\n",
      "\n",
      "It's important to note that the effective tax rate does not change with income; it remains constant. The marginal tax rate, however, changes as you move through different income brackets.\n",
      "============================================================ \n",
      "\n"
     ]
    }
   ],
   "source": [
    "import pandas as pd\n",
    "import torch\n",
    "from transformers import GenerationConfig\n",
    "\n",
    "DATA_DIR = \"data\"\n",
    "q_and_a_path = f\"{DATA_DIR}/tax-questions-answers-with-context.csv\"\n",
    "df = pd.read_csv(q_and_a_path)\n",
    "\n",
    "def construct_prompt(question, context1, context2):\n",
    "    return f\"\"\"You are a helpful tax advisor and legal expert. Use the provided context to answer the user's query in a clear and concise manner.\n",
    "\n",
    "User Query: {question}\n",
    "\n",
    "Related Context:\n",
    "{context1}\n",
    "{context2}\n",
    "\n",
    "Note: The above information is extracted from relevant forms or online sources. Use it to formulate your response.\n",
    "\n",
    "Response:\n",
    "\"\"\"\n",
    "\n",
    "def generate_reply(prompt, max_new_tokens=256):\n",
    "    gen_config = GenerationConfig(\n",
    "        max_new_tokens=max_new_tokens,\n",
    "        temperature=0.7,\n",
    "        top_p=0.9,\n",
    "        do_sample=True\n",
    "    )\n",
    "    inputs = tokenizer(prompt, return_tensors=\"pt\").to(model.device)\n",
    "\n",
    "    with torch.no_grad(), torch.cuda.amp.autocast(enabled=True):\n",
    "        output_tokens = model.generate(\n",
    "            **inputs,\n",
    "            generation_config=gen_config,\n",
    "            use_cache=False\n",
    "        )\n",
    "\n",
    "    return tokenizer.decode(\n",
    "        output_tokens[0][inputs[\"input_ids\"].shape[1]:],\n",
    "        skip_special_tokens=True\n",
    "    )\n",
    "\n",
    "indices_to_test = [0, 1, 2]\n",
    "\n",
    "for idx in indices_to_test:\n",
    "    question = df.loc[idx, \"Question\"]\n",
    "    expected_answer = df.loc[idx, \"Answer\"]\n",
    "    context1 = df.loc[idx, \"Context1\"]\n",
    "    context2 = df.loc[idx, \"Context2\"]\n",
    "    \n",
    "    test_prompt = construct_prompt(question, context1, context2)\n",
    "    model_reply = generate_reply(test_prompt)\n",
    "\n",
    "    print(\"=\" * 60)\n",
    "    print(f\"Sample Index: {idx}\")\n",
    "    print(\"-\" * 60)\n",
    "    print(\"QUESTION:\")\n",
    "    print(question)\n",
    "    print(\"\\nCONTEXT USED:\")\n",
    "    print(\"Context1:\", context1)\n",
    "    print(\"Context2:\", context2)\n",
    "    print(\"\\nEXPECTED REPLY:\")\n",
    "    print(expected_answer)\n",
    "    print(\"\\nMODEL REPLY:\")\n",
    "    print(model_reply)\n",
    "    print(\"=\" * 60, \"\\n\")\n"
   ]
  },
  {
   "cell_type": "markdown",
   "metadata": {},
   "source": [
    "**Challenges Encountered:**\n",
    "\n",
    "1. **Time Efficiency:** The fine-tuned model significantly increases processing time, taking 15 minutes to handle just 3 queries, whereas other models complete this task within seconds.\n",
    "   \n",
    "2. **Resource Intensive:** The model demands higher GPU resources for inference, which may not be feasible for all setups.\n",
    "\n",
    "3. **Data Requirements:** Effective fine-tuning requires a substantial volume of high-quality data, which implies extended periods for data collection.\n",
    "\n",
    "4. **Model Complexity:** Our contributions added 289,837,056 trainable parameters to the model. However, DeepSeek V2 Lite already operates with 16 billion total parameters and 2.4 billion active ones, offering high efficiency and speed that might not be fully leveraged by our additions.\n",
    "\n",
    "Efforts to reduce the `max_new_tokens` parameter to 128 yielded a marginal improvement in response time to 3 minutes and 52 seconds, albeit with shorter output responses.\n"
   ]
  },
  {
   "cell_type": "markdown",
   "metadata": {
    "execution": {
     "iopub.execute_input": "2025-03-01T21:52:45.906729Z",
     "iopub.status.busy": "2025-03-01T21:52:45.906002Z",
     "iopub.status.idle": "2025-03-01T21:53:18.999275Z",
     "shell.execute_reply": "2025-03-01T21:53:18.998638Z",
     "shell.execute_reply.started": "2025-03-01T21:52:45.906686Z"
    }
   },
   "source": [
    "The primary focus of this project is on enhancing the ML Ops aspects of AI, emphasizing efficient execution and processing of user responses rather than optimizing a single model. With that in mind, we will include the \"TaxSense\" model as one of the options available to users. Also, the model will be available for further testing on hugging face. "
   ]
  },
  {
   "cell_type": "markdown",
   "metadata": {
    "execution": {
     "iopub.execute_input": "2025-03-01T21:53:19.000598Z",
     "iopub.status.busy": "2025-03-01T21:53:19.000323Z",
     "iopub.status.idle": "2025-03-01T21:57:11.016985Z",
     "shell.execute_reply": "2025-03-01T21:57:11.016180Z",
     "shell.execute_reply.started": "2025-03-01T21:53:19.000577Z"
    }
   },
   "source": [
    "### Hugging Face upload"
   ]
  },
  {
   "cell_type": "code",
   "execution_count": 8,
   "metadata": {
    "execution": {
     "iopub.execute_input": "2025-03-01T22:14:01.689986Z",
     "iopub.status.busy": "2025-03-01T22:14:01.689514Z",
     "iopub.status.idle": "2025-03-01T22:16:08.676534Z",
     "shell.execute_reply": "2025-03-01T22:16:08.675854Z",
     "shell.execute_reply.started": "2025-03-01T22:14:01.689954Z"
    }
   },
   "outputs": [
    {
     "data": {
      "application/vnd.jupyter.widget-view+json": {
       "model_id": "d2b7a84a859547da9c8214d7d9cb5599",
       "version_major": 2,
       "version_minor": 0
      },
      "text/plain": [
       "rng_state.pth:   0%|          | 0.00/14.2k [00:00<?, ?B/s]"
      ]
     },
     "metadata": {},
     "output_type": "display_data"
    },
    {
     "data": {
      "application/vnd.jupyter.widget-view+json": {
       "model_id": "7923cfa53b76483bb9df4039636728d7",
       "version_major": 2,
       "version_minor": 0
      },
      "text/plain": [
       "optimizer.pt:   0%|          | 0.00/601M [00:00<?, ?B/s]"
      ]
     },
     "metadata": {},
     "output_type": "display_data"
    },
    {
     "data": {
      "application/vnd.jupyter.widget-view+json": {
       "model_id": "c6dd90df2bc74ea5bb20ccb2d0950534",
       "version_major": 2,
       "version_minor": 0
      },
      "text/plain": [
       "scaler.pt:   0%|          | 0.00/988 [00:00<?, ?B/s]"
      ]
     },
     "metadata": {},
     "output_type": "display_data"
    },
    {
     "data": {
      "application/vnd.jupyter.widget-view+json": {
       "model_id": "82fb543e62554c01a6c73a864139bf19",
       "version_major": 2,
       "version_minor": 0
      },
      "text/plain": [
       "adapter_model.safetensors:   0%|          | 0.00/1.16G [00:00<?, ?B/s]"
      ]
     },
     "metadata": {},
     "output_type": "display_data"
    },
    {
     "data": {
      "application/vnd.jupyter.widget-view+json": {
       "model_id": "aafde4c6471c438980dc3ea393772e9d",
       "version_major": 2,
       "version_minor": 0
      },
      "text/plain": [
       "Upload 20 LFS files:   0%|          | 0/20 [00:00<?, ?it/s]"
      ]
     },
     "metadata": {},
     "output_type": "display_data"
    },
    {
     "data": {
      "application/vnd.jupyter.widget-view+json": {
       "model_id": "a7fdd295753c47c08779628eabf6659b",
       "version_major": 2,
       "version_minor": 0
      },
      "text/plain": [
       "scheduler.pt:   0%|          | 0.00/1.06k [00:00<?, ?B/s]"
      ]
     },
     "metadata": {},
     "output_type": "display_data"
    },
    {
     "data": {
      "application/vnd.jupyter.widget-view+json": {
       "model_id": "d918471e252d49c5bc6a5a44b8fe719e",
       "version_major": 2,
       "version_minor": 0
      },
      "text/plain": [
       "training_args.bin:   0%|          | 0.00/5.62k [00:00<?, ?B/s]"
      ]
     },
     "metadata": {},
     "output_type": "display_data"
    },
    {
     "data": {
      "application/vnd.jupyter.widget-view+json": {
       "model_id": "ad038c5aac1949f194a12d4d18af9da7",
       "version_major": 2,
       "version_minor": 0
      },
      "text/plain": [
       "model-00001-of-00003.safetensors:   0%|          | 0.00/5.00G [00:00<?, ?B/s]"
      ]
     },
     "metadata": {},
     "output_type": "display_data"
    },
    {
     "data": {
      "application/vnd.jupyter.widget-view+json": {
       "model_id": "201ba2abcaba4821a0fc8ca4be8de51c",
       "version_major": 2,
       "version_minor": 0
      },
      "text/plain": [
       "model-00002-of-00003.safetensors:   0%|          | 0.00/4.91G [00:00<?, ?B/s]"
      ]
     },
     "metadata": {},
     "output_type": "display_data"
    },
    {
     "data": {
      "application/vnd.jupyter.widget-view+json": {
       "model_id": "4eaf7231c14f418e9a01386c013ba128",
       "version_major": 2,
       "version_minor": 0
      },
      "text/plain": [
       "model-00003-of-00003.safetensors:   0%|          | 0.00/839M [00:00<?, ?B/s]"
      ]
     },
     "metadata": {},
     "output_type": "display_data"
    },
    {
     "data": {
      "application/vnd.jupyter.widget-view+json": {
       "model_id": "c32328ef626248b9a2b7e58a23724e29",
       "version_major": 2,
       "version_minor": 0
      },
      "text/plain": [
       "events.out.tfevents.1740856547.b3c7d853-4c5a-4a0a-ab54-087dc02516fb.176706.0:   0%|          | 0.00/7.39k [00:…"
      ]
     },
     "metadata": {},
     "output_type": "display_data"
    },
    {
     "data": {
      "application/vnd.jupyter.widget-view+json": {
       "model_id": "4fd9786b83704b7790a514bd4e6cdc9c",
       "version_major": 2,
       "version_minor": 0
      },
      "text/plain": [
       "events.out.tfevents.1740857662.b3c7d853-4c5a-4a0a-ab54-087dc02516fb.194220.0:   0%|          | 0.00/6.98k [00:…"
      ]
     },
     "metadata": {},
     "output_type": "display_data"
    },
    {
     "data": {
      "application/vnd.jupyter.widget-view+json": {
       "model_id": "e0b21337609148b4afff1a906fb3a5b8",
       "version_major": 2,
       "version_minor": 0
      },
      "text/plain": [
       "events.out.tfevents.1740857841.b3c7d853-4c5a-4a0a-ab54-087dc02516fb.196038.0:   0%|          | 0.00/6.98k [00:…"
      ]
     },
     "metadata": {},
     "output_type": "display_data"
    },
    {
     "data": {
      "application/vnd.jupyter.widget-view+json": {
       "model_id": "bf838cf620634a01b94227971eb1efe8",
       "version_major": 2,
       "version_minor": 0
      },
      "text/plain": [
       "events.out.tfevents.1740857960.b3c7d853-4c5a-4a0a-ab54-087dc02516fb.197340.0:   0%|          | 0.00/6.98k [00:…"
      ]
     },
     "metadata": {},
     "output_type": "display_data"
    },
    {
     "data": {
      "application/vnd.jupyter.widget-view+json": {
       "model_id": "2aab95bb61854e548cc8521ec706fca3",
       "version_major": 2,
       "version_minor": 0
      },
      "text/plain": [
       "events.out.tfevents.1740858035.b3c7d853-4c5a-4a0a-ab54-087dc02516fb.198196.0:   0%|          | 0.00/7.39k [00:…"
      ]
     },
     "metadata": {},
     "output_type": "display_data"
    },
    {
     "data": {
      "application/vnd.jupyter.widget-view+json": {
       "model_id": "4ead72b5aac443e3879854e2f91101c7",
       "version_major": 2,
       "version_minor": 0
      },
      "text/plain": [
       "events.out.tfevents.1740858797.b3c7d853-4c5a-4a0a-ab54-087dc02516fb.205802.0:   0%|          | 0.00/6.98k [00:…"
      ]
     },
     "metadata": {},
     "output_type": "display_data"
    },
    {
     "data": {
      "application/vnd.jupyter.widget-view+json": {
       "model_id": "0daf334682204d5193872ac776d495da",
       "version_major": 2,
       "version_minor": 0
      },
      "text/plain": [
       "events.out.tfevents.1740858884.b3c7d853-4c5a-4a0a-ab54-087dc02516fb.206757.0:   0%|          | 0.00/6.98k [00:…"
      ]
     },
     "metadata": {},
     "output_type": "display_data"
    },
    {
     "data": {
      "application/vnd.jupyter.widget-view+json": {
       "model_id": "7941b8639d044c27a9d39ab1a4906b25",
       "version_major": 2,
       "version_minor": 0
      },
      "text/plain": [
       "events.out.tfevents.1740858974.b3c7d853-4c5a-4a0a-ab54-087dc02516fb.207760.0:   0%|          | 0.00/6.98k [00:…"
      ]
     },
     "metadata": {},
     "output_type": "display_data"
    },
    {
     "data": {
      "application/vnd.jupyter.widget-view+json": {
       "model_id": "f0fd3bf5d8c24ccfba4f4b9e6e4ee62f",
       "version_major": 2,
       "version_minor": 0
      },
      "text/plain": [
       "events.out.tfevents.1740859189.b3c7d853-4c5a-4a0a-ab54-087dc02516fb.209938.0:   0%|          | 0.00/88.0 [00:0…"
      ]
     },
     "metadata": {},
     "output_type": "display_data"
    },
    {
     "data": {
      "application/vnd.jupyter.widget-view+json": {
       "model_id": "4c4d86355ae54b4ca3acc1948ad4f1c6",
       "version_major": 2,
       "version_minor": 0
      },
      "text/plain": [
       "events.out.tfevents.1740859411.b3c7d853-4c5a-4a0a-ab54-087dc02516fb.212192.0:   0%|          | 0.00/6.98k [00:…"
      ]
     },
     "metadata": {},
     "output_type": "display_data"
    },
    {
     "data": {
      "application/vnd.jupyter.widget-view+json": {
       "model_id": "248867068f3a481b851650714fd9b7ab",
       "version_major": 2,
       "version_minor": 0
      },
      "text/plain": [
       "events.out.tfevents.1740859854.b3c7d853-4c5a-4a0a-ab54-087dc02516fb.216891.0:   0%|          | 0.00/7.39k [00:…"
      ]
     },
     "metadata": {},
     "output_type": "display_data"
    },
    {
     "data": {
      "text/plain": [
       "CommitInfo(commit_url='https://huggingface.co/zainnobody/TaxSense/commit/60fdc1255746c082f57b93e6615cf047e2adcd53', commit_message='Initial commit', commit_description='', oid='60fdc1255746c082f57b93e6615cf047e2adcd53', pr_url=None, repo_url=RepoUrl('https://huggingface.co/zainnobody/TaxSense', endpoint='https://huggingface.co', repo_type='model', repo_id='zainnobody/TaxSense'), pr_revision=None, pr_num=None)"
      ]
     },
     "execution_count": 8,
     "metadata": {},
     "output_type": "execute_result"
    }
   ],
   "source": [
    "from huggingface_hub import HfApi, create_repo, upload_folder\n",
    "\n",
    "api = HfApi()\n",
    "create_repo(repo_id=\"zainnobody/TaxSense\", private=False, exist_ok=True)\n",
    "upload_folder(\n",
    "    repo_id=\"zainnobody/TaxSense\",\n",
    "    folder_path=\"./model_directory/models--zainnobody--TaxSense/\",\n",
    "    path_in_repo=\".\",\n",
    "    commit_message=\"Initial commit\"\n",
    ")"
   ]
  },
  {
   "cell_type": "code",
   "execution_count": null,
   "metadata": {},
   "outputs": [],
   "source": []
  }
 ],
 "metadata": {
  "kernelspec": {
   "display_name": "Python 3 (default)",
   "language": "python",
   "name": "python3"
  },
  "language_info": {
   "codemirror_mode": {
    "name": "ipython",
    "version": 3
   },
   "file_extension": ".py",
   "mimetype": "text/x-python",
   "name": "python",
   "nbconvert_exporter": "python",
   "pygments_lexer": "ipython3",
   "version": "3.10.16"
  },
  "widgets": {
   "application/vnd.jupyter.widget-state+json": {
    "state": {
     "001d2d8f3296483099160e3768032c26": {
      "model_module": "@jupyter-widgets/controls",
      "model_module_version": "2.0.0",
      "model_name": "FloatProgressModel",
      "state": {
       "bar_style": "success",
       "layout": "IPY_MODEL_1909013c0f364113a1b8c9d67663e9f0",
       "max": 4,
       "style": "IPY_MODEL_7b97a709323e40f880739ad42825482c",
       "value": 4
      }
     },
     "02a8d2bda9a148599770721a89139bbe": {
      "model_module": "@jupyter-widgets/base",
      "model_module_version": "2.0.0",
      "model_name": "LayoutModel",
      "state": {}
     },
     "02fe16bf834445faadddee450ae8b671": {
      "model_module": "@jupyter-widgets/controls",
      "model_module_version": "2.0.0",
      "model_name": "FloatProgressModel",
      "state": {
       "bar_style": "success",
       "layout": "IPY_MODEL_6d826379ea414f9eadb5827a8baa9341",
       "max": 5624,
       "style": "IPY_MODEL_96b1374cb04743189cbab70663b8d9d2",
       "value": 5624
      }
     },
     "03582364911f42689ccca23e47c85ebb": {
      "model_module": "@jupyter-widgets/controls",
      "model_module_version": "2.0.0",
      "model_name": "ProgressStyleModel",
      "state": {
       "description_width": ""
      }
     },
     "03e088fce034433aa172953f0bec4be1": {
      "model_module": "@jupyter-widgets/base",
      "model_module_version": "2.0.0",
      "model_name": "LayoutModel",
      "state": {}
     },
     "0472f647d1a84ba8afe456aa2540449e": {
      "model_module": "@jupyter-widgets/controls",
      "model_module_version": "2.0.0",
      "model_name": "ProgressStyleModel",
      "state": {
       "description_width": ""
      }
     },
     "04f19174fe2e4f5b8ad9999df7e54b16": {
      "model_module": "@jupyter-widgets/base",
      "model_module_version": "2.0.0",
      "model_name": "LayoutModel",
      "state": {}
     },
     "0947e1ce75164623912afa027c8b6ce2": {
      "model_module": "@jupyter-widgets/controls",
      "model_module_version": "2.0.0",
      "model_name": "HTMLModel",
      "state": {
       "layout": "IPY_MODEL_dd51d10155e849b8b487742ef946ed00",
       "style": "IPY_MODEL_585a104e762b4c05a1ecc600a86de67f",
       "value": "events.out.tfevents.1740857841.b3c7d853-4c5a-4a0a-ab54-087dc02516fb.196038.0: 100%"
      }
     },
     "0a2d493891174c7f8917d0c54dd49e6e": {
      "model_module": "@jupyter-widgets/controls",
      "model_module_version": "2.0.0",
      "model_name": "HTMLStyleModel",
      "state": {
       "description_width": "",
       "font_size": null,
       "text_color": null
      }
     },
     "0c74490ffdd3491ea81346ad8a753313": {
      "model_module": "@jupyter-widgets/controls",
      "model_module_version": "2.0.0",
      "model_name": "ProgressStyleModel",
      "state": {
       "description_width": ""
      }
     },
     "0daf334682204d5193872ac776d495da": {
      "model_module": "@jupyter-widgets/controls",
      "model_module_version": "2.0.0",
      "model_name": "HBoxModel",
      "state": {
       "children": [
        "IPY_MODEL_d628334ef9984345bd2339758a29be41",
        "IPY_MODEL_3b2030b539a74d8f83ccf92a20ba4110",
        "IPY_MODEL_34ea109fd22a458084d93beaeb092224"
       ],
       "layout": "IPY_MODEL_cbbf977784324c0fa81ccda630912998"
      }
     },
     "0eb92208816e45b4a712c2da25a7fd3b": {
      "model_module": "@jupyter-widgets/base",
      "model_module_version": "2.0.0",
      "model_name": "LayoutModel",
      "state": {}
     },
     "0eda0b1c111c4d64a2f887148110a1e4": {
      "model_module": "@jupyter-widgets/base",
      "model_module_version": "2.0.0",
      "model_name": "LayoutModel",
      "state": {}
     },
     "0f4c62c471244526a7c7c653552ee452": {
      "model_module": "@jupyter-widgets/base",
      "model_module_version": "2.0.0",
      "model_name": "LayoutModel",
      "state": {}
     },
     "0f64183058ac4c31a05bccca07904c11": {
      "model_module": "@jupyter-widgets/base",
      "model_module_version": "2.0.0",
      "model_name": "LayoutModel",
      "state": {}
     },
     "0f90fab1570d4acf82ddd4a36f01bf91": {
      "model_module": "@jupyter-widgets/controls",
      "model_module_version": "2.0.0",
      "model_name": "FloatProgressModel",
      "state": {
       "bar_style": "success",
       "layout": "IPY_MODEL_69e4cc504af44911b6c230f26d414462",
       "max": 6976,
       "style": "IPY_MODEL_4da1531b4caf4cb6b8d34e3b7923ec51",
       "value": 6976
      }
     },
     "1108f9fd49294930975fa30c05b56e05": {
      "model_module": "@jupyter-widgets/controls",
      "model_module_version": "2.0.0",
      "model_name": "HTMLModel",
      "state": {
       "layout": "IPY_MODEL_e6b9baefbc5f47cba21fd98d52cddec4",
       "style": "IPY_MODEL_e64c657c506f426a8098e483f847c069",
       "value": "events.out.tfevents.1740858974.b3c7d853-4c5a-4a0a-ab54-087dc02516fb.207760.0: 100%"
      }
     },
     "11212499bc5c4739bd17bdfd04416f6a": {
      "model_module": "@jupyter-widgets/controls",
      "model_module_version": "2.0.0",
      "model_name": "HTMLModel",
      "state": {
       "layout": "IPY_MODEL_323b261815824598b76e66e49f6809af",
       "style": "IPY_MODEL_3b1963e451984231968af7e7812a8a27",
       "value": " 4.91G/4.91G [01:31&lt;00:00, 46.2MB/s]"
      }
     },
     "1400704347a74d2792b1b3dcaf122f0d": {
      "model_module": "@jupyter-widgets/controls",
      "model_module_version": "2.0.0",
      "model_name": "HTMLModel",
      "state": {
       "layout": "IPY_MODEL_15bc3858e6054c558899f04ae1161257",
       "style": "IPY_MODEL_2585f7e840304243bc3755364a4fb581",
       "value": " 6.98k/6.98k [00:00&lt;00:00, 212kB/s]"
      }
     },
     "156fee04090d427b946a403de49f7e4d": {
      "model_module": "@jupyter-widgets/controls",
      "model_module_version": "2.0.0",
      "model_name": "HTMLStyleModel",
      "state": {
       "description_width": "",
       "font_size": null,
       "text_color": null
      }
     },
     "15bc3858e6054c558899f04ae1161257": {
      "model_module": "@jupyter-widgets/base",
      "model_module_version": "2.0.0",
      "model_name": "LayoutModel",
      "state": {}
     },
     "165da0aa9f4641a09d975ca611f15089": {
      "model_module": "@jupyter-widgets/base",
      "model_module_version": "2.0.0",
      "model_name": "LayoutModel",
      "state": {}
     },
     "17527f5aeba04d349fe2ad0bc444a0bc": {
      "model_module": "@jupyter-widgets/controls",
      "model_module_version": "2.0.0",
      "model_name": "HTMLStyleModel",
      "state": {
       "description_width": "",
       "font_size": null,
       "text_color": null
      }
     },
     "1909013c0f364113a1b8c9d67663e9f0": {
      "model_module": "@jupyter-widgets/base",
      "model_module_version": "2.0.0",
      "model_name": "LayoutModel",
      "state": {}
     },
     "1935ef5c25a44b2b8dedd3b9cbb3a929": {
      "model_module": "@jupyter-widgets/base",
      "model_module_version": "2.0.0",
      "model_name": "LayoutModel",
      "state": {}
     },
     "194982f9b81e4b5bb5a0f3ef7148d4cc": {
      "model_module": "@jupyter-widgets/base",
      "model_module_version": "2.0.0",
      "model_name": "LayoutModel",
      "state": {}
     },
     "1972e05b57b44b1aa20ae35d2ffe6ce1": {
      "model_module": "@jupyter-widgets/base",
      "model_module_version": "2.0.0",
      "model_name": "LayoutModel",
      "state": {}
     },
     "1a2fbbd404fa4cabb79ef272c1e29c0a": {
      "model_module": "@jupyter-widgets/controls",
      "model_module_version": "2.0.0",
      "model_name": "HTMLStyleModel",
      "state": {
       "description_width": "",
       "font_size": null,
       "text_color": null
      }
     },
     "1be03b2fd47d4375ac3f7a044ce0fffa": {
      "model_module": "@jupyter-widgets/controls",
      "model_module_version": "2.0.0",
      "model_name": "HTMLModel",
      "state": {
       "layout": "IPY_MODEL_7ce2b9a35a874fdaa87171d25892137c",
       "style": "IPY_MODEL_6b8717a79cd045c89a0f80fdd796d78d",
       "value": " 7.39k/7.39k [00:00&lt;00:00, 157kB/s]"
      }
     },
     "1c9276cf51a246b2b29fc79840f816fa": {
      "model_module": "@jupyter-widgets/controls",
      "model_module_version": "2.0.0",
      "model_name": "HTMLStyleModel",
      "state": {
       "description_width": "",
       "font_size": null,
       "text_color": null
      }
     },
     "1d89417d0ea24dc7a7f271a5a25426cf": {
      "model_module": "@jupyter-widgets/controls",
      "model_module_version": "2.0.0",
      "model_name": "HTMLStyleModel",
      "state": {
       "description_width": "",
       "font_size": null,
       "text_color": null
      }
     },
     "1f8d659a69e747ae95f1d2c7d49f4eb0": {
      "model_module": "@jupyter-widgets/controls",
      "model_module_version": "2.0.0",
      "model_name": "HTMLStyleModel",
      "state": {
       "description_width": "",
       "font_size": null,
       "text_color": null
      }
     },
     "201ba2abcaba4821a0fc8ca4be8de51c": {
      "model_module": "@jupyter-widgets/controls",
      "model_module_version": "2.0.0",
      "model_name": "HBoxModel",
      "state": {
       "children": [
        "IPY_MODEL_f2bdd950d63c4e81aae30bbc4a33ee57",
        "IPY_MODEL_8957d3a574234063932d7b42363f4849",
        "IPY_MODEL_11212499bc5c4739bd17bdfd04416f6a"
       ],
       "layout": "IPY_MODEL_9f8f9ac29ef04bf7bfd3450ff480f892"
      }
     },
     "208f64c2079b4c56963f8acd787576e8": {
      "model_module": "@jupyter-widgets/base",
      "model_module_version": "2.0.0",
      "model_name": "LayoutModel",
      "state": {}
     },
     "214dac6bbc8b4ec793fc88a417da702c": {
      "model_module": "@jupyter-widgets/base",
      "model_module_version": "2.0.0",
      "model_name": "LayoutModel",
      "state": {}
     },
     "21516577568645da8610cf2f2624a386": {
      "model_module": "@jupyter-widgets/controls",
      "model_module_version": "2.0.0",
      "model_name": "FloatProgressModel",
      "state": {
       "bar_style": "success",
       "layout": "IPY_MODEL_2e10b1ae65c94be3946766207d74bf1d",
       "max": 600567382,
       "style": "IPY_MODEL_ea629082b14248caaa98cf239578f9b5",
       "value": 600567382
      }
     },
     "217165df4b834f1d8c6317093ef3df8a": {
      "model_module": "@jupyter-widgets/controls",
      "model_module_version": "2.0.0",
      "model_name": "HTMLStyleModel",
      "state": {
       "description_width": "",
       "font_size": null,
       "text_color": null
      }
     },
     "228770c0cd924aa0b2c0e23115668bec": {
      "model_module": "@jupyter-widgets/base",
      "model_module_version": "2.0.0",
      "model_name": "LayoutModel",
      "state": {}
     },
     "233dc1867e9842f8a2b2a4f05b7c496d": {
      "model_module": "@jupyter-widgets/base",
      "model_module_version": "2.0.0",
      "model_name": "LayoutModel",
      "state": {}
     },
     "247440a3521145fea44fbe0ebbff136a": {
      "model_module": "@jupyter-widgets/base",
      "model_module_version": "2.0.0",
      "model_name": "LayoutModel",
      "state": {}
     },
     "248867068f3a481b851650714fd9b7ab": {
      "model_module": "@jupyter-widgets/controls",
      "model_module_version": "2.0.0",
      "model_name": "HBoxModel",
      "state": {
       "children": [
        "IPY_MODEL_be0a62e9a09147979a6fe1e1f280eaa3",
        "IPY_MODEL_266f533c1e3d4651817311f50e3c827d",
        "IPY_MODEL_9e5e199cdca343c5a149944f1ef35f79"
       ],
       "layout": "IPY_MODEL_03e088fce034433aa172953f0bec4be1"
      }
     },
     "24c74cd609c341ce880be57601e5b005": {
      "model_module": "@jupyter-widgets/base",
      "model_module_version": "2.0.0",
      "model_name": "LayoutModel",
      "state": {}
     },
     "2585f7e840304243bc3755364a4fb581": {
      "model_module": "@jupyter-widgets/controls",
      "model_module_version": "2.0.0",
      "model_name": "HTMLStyleModel",
      "state": {
       "description_width": "",
       "font_size": null,
       "text_color": null
      }
     },
     "25932bb6db624b08930d7e51094569bc": {
      "model_module": "@jupyter-widgets/controls",
      "model_module_version": "2.0.0",
      "model_name": "HTMLModel",
      "state": {
       "layout": "IPY_MODEL_e1c553162f3d4300923e8173f9cf71cc",
       "style": "IPY_MODEL_ff618268cb7c4a9eae64a37bd342211f",
       "value": " 4/4 [00:14&lt;00:00,  3.50s/it]"
      }
     },
     "266f533c1e3d4651817311f50e3c827d": {
      "model_module": "@jupyter-widgets/controls",
      "model_module_version": "2.0.0",
      "model_name": "FloatProgressModel",
      "state": {
       "bar_style": "success",
       "layout": "IPY_MODEL_1935ef5c25a44b2b8dedd3b9cbb3a929",
       "max": 7387,
       "style": "IPY_MODEL_e50920b2a3e04bffb8ff474fedb544c5",
       "value": 7387
      }
     },
     "272534ab00714dfe9fb6832bb3fc15ae": {
      "model_module": "@jupyter-widgets/base",
      "model_module_version": "2.0.0",
      "model_name": "LayoutModel",
      "state": {}
     },
     "277a1866a78e4849920e6fd5d245d2c3": {
      "model_module": "@jupyter-widgets/controls",
      "model_module_version": "2.0.0",
      "model_name": "HTMLStyleModel",
      "state": {
       "description_width": "",
       "font_size": null,
       "text_color": null
      }
     },
     "2896bcc18f414d958d4b0779c72b2277": {
      "model_module": "@jupyter-widgets/controls",
      "model_module_version": "2.0.0",
      "model_name": "FloatProgressModel",
      "state": {
       "bar_style": "success",
       "layout": "IPY_MODEL_fa5054e2068e452088c96c1cfaf199bd",
       "max": 6976,
       "style": "IPY_MODEL_66e0c620deba4077a82e4cae33102b90",
       "value": 6976
      }
     },
     "2952e87f43354e0bab2ec2b7fcdea4f4": {
      "model_module": "@jupyter-widgets/controls",
      "model_module_version": "2.0.0",
      "model_name": "FloatProgressModel",
      "state": {
       "bar_style": "success",
       "layout": "IPY_MODEL_8f4949131d654d128854cf737c28b580",
       "max": 20,
       "style": "IPY_MODEL_d1e86ee6cc384612a225aee3ba5dddea",
       "value": 20
      }
     },
     "2aab95bb61854e548cc8521ec706fca3": {
      "model_module": "@jupyter-widgets/controls",
      "model_module_version": "2.0.0",
      "model_name": "HBoxModel",
      "state": {
       "children": [
        "IPY_MODEL_8f3cdd955f4f4cfdb7c3d29fed950016",
        "IPY_MODEL_43b88116876047ea82aa178763750490",
        "IPY_MODEL_fed822385ee54e9590707db0d743be51"
       ],
       "layout": "IPY_MODEL_814f25f57123430593a40c48817c3f16"
      }
     },
     "2b79602adf8c41bb9fdeefc9a1ed99e7": {
      "model_module": "@jupyter-widgets/controls",
      "model_module_version": "2.0.0",
      "model_name": "HTMLModel",
      "state": {
       "layout": "IPY_MODEL_aef3f21b7524422f8ee26dce9480c7a6",
       "style": "IPY_MODEL_1d89417d0ea24dc7a7f271a5a25426cf",
       "value": " 6.98k/6.98k [00:00&lt;00:00, 147kB/s]"
      }
     },
     "2bd2201678184bc081d7cc549f62bf5b": {
      "model_module": "@jupyter-widgets/controls",
      "model_module_version": "2.0.0",
      "model_name": "HTMLStyleModel",
      "state": {
       "description_width": "",
       "font_size": null,
       "text_color": null
      }
     },
     "2cb491890a1f4d7d8e346d5a20293e24": {
      "model_module": "@jupyter-widgets/base",
      "model_module_version": "2.0.0",
      "model_name": "LayoutModel",
      "state": {}
     },
     "2ccec008c5db4f8c827475bdef0f5430": {
      "model_module": "@jupyter-widgets/base",
      "model_module_version": "2.0.0",
      "model_name": "LayoutModel",
      "state": {}
     },
     "2e10b1ae65c94be3946766207d74bf1d": {
      "model_module": "@jupyter-widgets/base",
      "model_module_version": "2.0.0",
      "model_name": "LayoutModel",
      "state": {}
     },
     "2e6d2e25403048bdbba8af3b937a7fb4": {
      "model_module": "@jupyter-widgets/base",
      "model_module_version": "2.0.0",
      "model_name": "LayoutModel",
      "state": {}
     },
     "3011394365704edb9c36903fcd64dc62": {
      "model_module": "@jupyter-widgets/base",
      "model_module_version": "2.0.0",
      "model_name": "LayoutModel",
      "state": {}
     },
     "308ae569e3fc49e0bd65e0767554aae9": {
      "model_module": "@jupyter-widgets/base",
      "model_module_version": "2.0.0",
      "model_name": "LayoutModel",
      "state": {}
     },
     "312f4f495a584f4cbc7d35f299fbefe6": {
      "model_module": "@jupyter-widgets/controls",
      "model_module_version": "2.0.0",
      "model_name": "HTMLStyleModel",
      "state": {
       "description_width": "",
       "font_size": null,
       "text_color": null
      }
     },
     "323b261815824598b76e66e49f6809af": {
      "model_module": "@jupyter-widgets/base",
      "model_module_version": "2.0.0",
      "model_name": "LayoutModel",
      "state": {}
     },
     "34d6f0da14f1432ebd75125fc1f295ff": {
      "model_module": "@jupyter-widgets/base",
      "model_module_version": "2.0.0",
      "model_name": "LayoutModel",
      "state": {}
     },
     "34ea109fd22a458084d93beaeb092224": {
      "model_module": "@jupyter-widgets/controls",
      "model_module_version": "2.0.0",
      "model_name": "HTMLModel",
      "state": {
       "layout": "IPY_MODEL_b69106a5cc064121925b9eff4854d9af",
       "style": "IPY_MODEL_7c4dc6f9a2c34cbd8df3e06da2263f8d",
       "value": " 6.98k/6.98k [00:00&lt;00:00, 149kB/s]"
      }
     },
     "36c5086d6bf342dba97ca45f452b3227": {
      "model_module": "@jupyter-widgets/controls",
      "model_module_version": "2.0.0",
      "model_name": "ProgressStyleModel",
      "state": {
       "description_width": ""
      }
     },
     "39ab8acfed76416aa80f0f0ed78f36bb": {
      "model_module": "@jupyter-widgets/base",
      "model_module_version": "2.0.0",
      "model_name": "LayoutModel",
      "state": {}
     },
     "3b1963e451984231968af7e7812a8a27": {
      "model_module": "@jupyter-widgets/controls",
      "model_module_version": "2.0.0",
      "model_name": "HTMLStyleModel",
      "state": {
       "description_width": "",
       "font_size": null,
       "text_color": null
      }
     },
     "3b2030b539a74d8f83ccf92a20ba4110": {
      "model_module": "@jupyter-widgets/controls",
      "model_module_version": "2.0.0",
      "model_name": "FloatProgressModel",
      "state": {
       "bar_style": "success",
       "layout": "IPY_MODEL_0eb92208816e45b4a712c2da25a7fd3b",
       "max": 6976,
       "style": "IPY_MODEL_56f75f69299241388aee83a916e048ce",
       "value": 6976
      }
     },
     "3cb8d77dbfc14b5aa10df2f8e46f15b9": {
      "model_module": "@jupyter-widgets/base",
      "model_module_version": "2.0.0",
      "model_name": "LayoutModel",
      "state": {}
     },
     "3cf897060f4344059effc70895f9b78d": {
      "model_module": "@jupyter-widgets/base",
      "model_module_version": "2.0.0",
      "model_name": "LayoutModel",
      "state": {}
     },
     "40be435813ad436997f883a4f4b46b2f": {
      "model_module": "@jupyter-widgets/controls",
      "model_module_version": "2.0.0",
      "model_name": "HBoxModel",
      "state": {
       "children": [
        "IPY_MODEL_7ef0e83201004726bbeed8d4a4bd7d0d",
        "IPY_MODEL_001d2d8f3296483099160e3768032c26",
        "IPY_MODEL_8ef6bf8005114711af0cd6d4f0655099"
       ],
       "layout": "IPY_MODEL_c3e27a5b1ffc4c5283473a0579238f8e"
      }
     },
     "43b88116876047ea82aa178763750490": {
      "model_module": "@jupyter-widgets/controls",
      "model_module_version": "2.0.0",
      "model_name": "FloatProgressModel",
      "state": {
       "bar_style": "success",
       "layout": "IPY_MODEL_c4644a915cd44c19afc6e26234e5c476",
       "max": 7387,
       "style": "IPY_MODEL_0c74490ffdd3491ea81346ad8a753313",
       "value": 7387
      }
     },
     "44820f6938bc433bab933c9c8286dca9": {
      "model_module": "@jupyter-widgets/controls",
      "model_module_version": "2.0.0",
      "model_name": "ProgressStyleModel",
      "state": {
       "description_width": ""
      }
     },
     "45eba806e68e4219905b29bd3c04de1a": {
      "model_module": "@jupyter-widgets/controls",
      "model_module_version": "2.0.0",
      "model_name": "HTMLStyleModel",
      "state": {
       "description_width": "",
       "font_size": null,
       "text_color": null
      }
     },
     "45ecd161660c4f578499469c6039e340": {
      "model_module": "@jupyter-widgets/controls",
      "model_module_version": "2.0.0",
      "model_name": "HTMLModel",
      "state": {
       "layout": "IPY_MODEL_f6cd1a28822f497fadcb98d5d9889c8f",
       "style": "IPY_MODEL_1a2fbbd404fa4cabb79ef272c1e29c0a",
       "value": "training_args.bin: 100%"
      }
     },
     "472575d047794710b3b97e781a831522": {
      "model_module": "@jupyter-widgets/controls",
      "model_module_version": "2.0.0",
      "model_name": "HTMLModel",
      "state": {
       "layout": "IPY_MODEL_9f6820cfd5c84f609936b97316e93e46",
       "style": "IPY_MODEL_4b989d2633fc4442a3caf559911b4339",
       "value": "events.out.tfevents.1740857960.b3c7d853-4c5a-4a0a-ab54-087dc02516fb.197340.0: 100%"
      }
     },
     "47865bf7fb38486685d11d778f704050": {
      "model_module": "@jupyter-widgets/controls",
      "model_module_version": "2.0.0",
      "model_name": "HTMLStyleModel",
      "state": {
       "description_width": "",
       "font_size": null,
       "text_color": null
      }
     },
     "4b989d2633fc4442a3caf559911b4339": {
      "model_module": "@jupyter-widgets/controls",
      "model_module_version": "2.0.0",
      "model_name": "HTMLStyleModel",
      "state": {
       "description_width": "",
       "font_size": null,
       "text_color": null
      }
     },
     "4c12c5db1b8e4441be5fa66e6c4e792a": {
      "model_module": "@jupyter-widgets/controls",
      "model_module_version": "2.0.0",
      "model_name": "FloatProgressModel",
      "state": {
       "bar_style": "success",
       "layout": "IPY_MODEL_601da162ed604fe489e4ddb3552d6da5",
       "max": 6976,
       "style": "IPY_MODEL_ec2f2d8722dd41f1a46349b2f362ebb8",
       "value": 6976
      }
     },
     "4c4d86355ae54b4ca3acc1948ad4f1c6": {
      "model_module": "@jupyter-widgets/controls",
      "model_module_version": "2.0.0",
      "model_name": "HBoxModel",
      "state": {
       "children": [
        "IPY_MODEL_aeaf87f1b2214d829aaaabcc8bdd5b19",
        "IPY_MODEL_7415cd57509047ffafadedfed258cdd5",
        "IPY_MODEL_86a54560addd4efc8dd35cd1fca90cd1"
       ],
       "layout": "IPY_MODEL_74d076d4956542bf812b632f450a5c38"
      }
     },
     "4ce67fbddc0d4a0ebc0ba3cacd7ee3f7": {
      "model_module": "@jupyter-widgets/base",
      "model_module_version": "2.0.0",
      "model_name": "LayoutModel",
      "state": {}
     },
     "4d83a1f1a11245ef9b23edc1cf61274d": {
      "model_module": "@jupyter-widgets/base",
      "model_module_version": "2.0.0",
      "model_name": "LayoutModel",
      "state": {}
     },
     "4da1531b4caf4cb6b8d34e3b7923ec51": {
      "model_module": "@jupyter-widgets/controls",
      "model_module_version": "2.0.0",
      "model_name": "ProgressStyleModel",
      "state": {
       "description_width": ""
      }
     },
     "4daf4a6d8ef94738875ccaf2492b66af": {
      "model_module": "@jupyter-widgets/base",
      "model_module_version": "2.0.0",
      "model_name": "LayoutModel",
      "state": {}
     },
     "4e07636a2fcf4f3aaba6f26c0f03dd3f": {
      "model_module": "@jupyter-widgets/controls",
      "model_module_version": "2.0.0",
      "model_name": "ProgressStyleModel",
      "state": {
       "description_width": ""
      }
     },
     "4e71e11aeb8f45be8e4e440b7cf7d8bf": {
      "model_module": "@jupyter-widgets/base",
      "model_module_version": "2.0.0",
      "model_name": "LayoutModel",
      "state": {}
     },
     "4ead72b5aac443e3879854e2f91101c7": {
      "model_module": "@jupyter-widgets/controls",
      "model_module_version": "2.0.0",
      "model_name": "HBoxModel",
      "state": {
       "children": [
        "IPY_MODEL_5b53a4f1c2124f18804aa63a7e84168a",
        "IPY_MODEL_c60ef59075bf42cdab09dc83e82eb9ad",
        "IPY_MODEL_a4436ec650c74e45a3d78aead9725389"
       ],
       "layout": "IPY_MODEL_e43f7847d26648edb0d6db7392638921"
      }
     },
     "4eaf7231c14f418e9a01386c013ba128": {
      "model_module": "@jupyter-widgets/controls",
      "model_module_version": "2.0.0",
      "model_name": "HBoxModel",
      "state": {
       "children": [
        "IPY_MODEL_56955f35723a4bd4946618abfe9d552b",
        "IPY_MODEL_d5823028d118442abd14b38477baece4",
        "IPY_MODEL_9965681ef8254d01b69bf43ecbf9c77f"
       ],
       "layout": "IPY_MODEL_60053ee0eb354f39b5cbaa133eb99454"
      }
     },
     "4f286abde23a4cf49f30568d94863d49": {
      "model_module": "@jupyter-widgets/controls",
      "model_module_version": "2.0.0",
      "model_name": "HTMLModel",
      "state": {
       "layout": "IPY_MODEL_1972e05b57b44b1aa20ae35d2ffe6ce1",
       "style": "IPY_MODEL_88a172f364614951bfd2f39ba3efe9bb",
       "value": "events.out.tfevents.1740857662.b3c7d853-4c5a-4a0a-ab54-087dc02516fb.194220.0: 100%"
      }
     },
     "4fb4e440da434bd3a42277d74e3d6d95": {
      "model_module": "@jupyter-widgets/controls",
      "model_module_version": "2.0.0",
      "model_name": "HTMLModel",
      "state": {
       "layout": "IPY_MODEL_b83ed799b53f427884efb189c30bfa8c",
       "style": "IPY_MODEL_47865bf7fb38486685d11d778f704050",
       "value": " 14.2k/14.2k [00:00&lt;00:00, 167kB/s]"
      }
     },
     "4fd9786b83704b7790a514bd4e6cdc9c": {
      "model_module": "@jupyter-widgets/controls",
      "model_module_version": "2.0.0",
      "model_name": "HBoxModel",
      "state": {
       "children": [
        "IPY_MODEL_4f286abde23a4cf49f30568d94863d49",
        "IPY_MODEL_4c12c5db1b8e4441be5fa66e6c4e792a",
        "IPY_MODEL_1400704347a74d2792b1b3dcaf122f0d"
       ],
       "layout": "IPY_MODEL_c81ce3f3489b4e9e9bf4bc348ebc862c"
      }
     },
     "51bcbe581e3744bd8b2ed0e684d2b69d": {
      "model_module": "@jupyter-widgets/controls",
      "model_module_version": "2.0.0",
      "model_name": "HBoxModel",
      "state": {
       "children": [
        "IPY_MODEL_76d5335c883f449589d931c29bdd5edc",
        "IPY_MODEL_5423e0dcb3df498ab2c726c0f07c5f04",
        "IPY_MODEL_d71da06b85a74581b38c14ef4e58bd1c"
       ],
       "layout": "IPY_MODEL_7cabfab6c78848d188df63f1aab103ac"
      }
     },
     "526facc2e6db41de88e02dd43f409b3a": {
      "model_module": "@jupyter-widgets/controls",
      "model_module_version": "2.0.0",
      "model_name": "HTMLStyleModel",
      "state": {
       "description_width": "",
       "font_size": null,
       "text_color": null
      }
     },
     "5329018f781642f2bdac5bc8de109071": {
      "model_module": "@jupyter-widgets/controls",
      "model_module_version": "2.0.0",
      "model_name": "ProgressStyleModel",
      "state": {
       "description_width": ""
      }
     },
     "5423e0dcb3df498ab2c726c0f07c5f04": {
      "model_module": "@jupyter-widgets/controls",
      "model_module_version": "2.0.0",
      "model_name": "FloatProgressModel",
      "state": {
       "bar_style": "success",
       "layout": "IPY_MODEL_65466db326ad4e4faa43d1aa95b257d5",
       "max": 4,
       "style": "IPY_MODEL_d9b5e3209bd443b68f98b4cbcf8ab1fa",
       "value": 4
      }
     },
     "56955f35723a4bd4946618abfe9d552b": {
      "model_module": "@jupyter-widgets/controls",
      "model_module_version": "2.0.0",
      "model_name": "HTMLModel",
      "state": {
       "layout": "IPY_MODEL_34d6f0da14f1432ebd75125fc1f295ff",
       "style": "IPY_MODEL_a7adb67da2b64c2f88a919ac1481ed43",
       "value": "model-00003-of-00003.safetensors: 100%"
      }
     },
     "56f75f69299241388aee83a916e048ce": {
      "model_module": "@jupyter-widgets/controls",
      "model_module_version": "2.0.0",
      "model_name": "ProgressStyleModel",
      "state": {
       "description_width": ""
      }
     },
     "584b3667f45e4c6387e3d63ca31bed2d": {
      "model_module": "@jupyter-widgets/base",
      "model_module_version": "2.0.0",
      "model_name": "LayoutModel",
      "state": {}
     },
     "585a104e762b4c05a1ecc600a86de67f": {
      "model_module": "@jupyter-widgets/controls",
      "model_module_version": "2.0.0",
      "model_name": "HTMLStyleModel",
      "state": {
       "description_width": "",
       "font_size": null,
       "text_color": null
      }
     },
     "5a4fb35a3f7e47049daba40e1c29e1d2": {
      "model_module": "@jupyter-widgets/base",
      "model_module_version": "2.0.0",
      "model_name": "LayoutModel",
      "state": {}
     },
     "5b53a4f1c2124f18804aa63a7e84168a": {
      "model_module": "@jupyter-widgets/controls",
      "model_module_version": "2.0.0",
      "model_name": "HTMLModel",
      "state": {
       "layout": "IPY_MODEL_2ccec008c5db4f8c827475bdef0f5430",
       "style": "IPY_MODEL_277a1866a78e4849920e6fd5d245d2c3",
       "value": "events.out.tfevents.1740858797.b3c7d853-4c5a-4a0a-ab54-087dc02516fb.205802.0: 100%"
      }
     },
     "5c539a41030b4654a937d2bb08576383": {
      "model_module": "@jupyter-widgets/controls",
      "model_module_version": "2.0.0",
      "model_name": "HTMLModel",
      "state": {
       "layout": "IPY_MODEL_d92f4c4c82a9403eaf9c7ee62fc466b7",
       "style": "IPY_MODEL_1f8d659a69e747ae95f1d2c7d49f4eb0",
       "value": " 5.00G/5.00G [01:26&lt;00:00, 66.4MB/s]"
      }
     },
     "60053ee0eb354f39b5cbaa133eb99454": {
      "model_module": "@jupyter-widgets/base",
      "model_module_version": "2.0.0",
      "model_name": "LayoutModel",
      "state": {}
     },
     "601da162ed604fe489e4ddb3552d6da5": {
      "model_module": "@jupyter-widgets/base",
      "model_module_version": "2.0.0",
      "model_name": "LayoutModel",
      "state": {}
     },
     "60840a5636fe4b128da00f8dbd13d46f": {
      "model_module": "@jupyter-widgets/base",
      "model_module_version": "2.0.0",
      "model_name": "LayoutModel",
      "state": {}
     },
     "60852105d39f4fa28a494bc6c8b2739a": {
      "model_module": "@jupyter-widgets/controls",
      "model_module_version": "2.0.0",
      "model_name": "ProgressStyleModel",
      "state": {
       "description_width": ""
      }
     },
     "63451c174f354d4abb45fa06f381b136": {
      "model_module": "@jupyter-widgets/controls",
      "model_module_version": "2.0.0",
      "model_name": "HTMLStyleModel",
      "state": {
       "description_width": "",
       "font_size": null,
       "text_color": null
      }
     },
     "6441250591614f56a252faef1e747ae3": {
      "model_module": "@jupyter-widgets/controls",
      "model_module_version": "2.0.0",
      "model_name": "HTMLStyleModel",
      "state": {
       "description_width": "",
       "font_size": null,
       "text_color": null
      }
     },
     "652a58b2a36a4119af3eb34efd9e8290": {
      "model_module": "@jupyter-widgets/controls",
      "model_module_version": "2.0.0",
      "model_name": "HTMLStyleModel",
      "state": {
       "description_width": "",
       "font_size": null,
       "text_color": null
      }
     },
     "65466db326ad4e4faa43d1aa95b257d5": {
      "model_module": "@jupyter-widgets/base",
      "model_module_version": "2.0.0",
      "model_name": "LayoutModel",
      "state": {}
     },
     "66e0c620deba4077a82e4cae33102b90": {
      "model_module": "@jupyter-widgets/controls",
      "model_module_version": "2.0.0",
      "model_name": "ProgressStyleModel",
      "state": {
       "description_width": ""
      }
     },
     "67bc80e6e602443087456e0e51c32291": {
      "model_module": "@jupyter-widgets/controls",
      "model_module_version": "2.0.0",
      "model_name": "HTMLModel",
      "state": {
       "layout": "IPY_MODEL_39ab8acfed76416aa80f0f0ed78f36bb",
       "style": "IPY_MODEL_780bd16809354e53b7f6ad9c57067cd9",
       "value": " 988/988 [00:00&lt;00:00, 12.6kB/s]"
      }
     },
     "6800e53917364310a386fe81515a4644": {
      "model_module": "@jupyter-widgets/controls",
      "model_module_version": "2.0.0",
      "model_name": "FloatProgressModel",
      "state": {
       "bar_style": "success",
       "layout": "IPY_MODEL_214dac6bbc8b4ec793fc88a417da702c",
       "max": 988,
       "style": "IPY_MODEL_4e07636a2fcf4f3aaba6f26c0f03dd3f",
       "value": 988
      }
     },
     "680618c0ecd64a4ca4fa4bf90b3677e4": {
      "model_module": "@jupyter-widgets/controls",
      "model_module_version": "2.0.0",
      "model_name": "HTMLStyleModel",
      "state": {
       "description_width": "",
       "font_size": null,
       "text_color": null
      }
     },
     "688fb86f5be842fe83999ec8076fa527": {
      "model_module": "@jupyter-widgets/controls",
      "model_module_version": "2.0.0",
      "model_name": "HTMLModel",
      "state": {
       "layout": "IPY_MODEL_272534ab00714dfe9fb6832bb3fc15ae",
       "style": "IPY_MODEL_bcdd91efe9e34067945de7a70ffb42d1",
       "value": " 1.16G/1.16G [00:18&lt;00:00, 71.0MB/s]"
      }
     },
     "69973108d9df48d890e28d5b1fa49627": {
      "model_module": "@jupyter-widgets/base",
      "model_module_version": "2.0.0",
      "model_name": "LayoutModel",
      "state": {}
     },
     "69e4cc504af44911b6c230f26d414462": {
      "model_module": "@jupyter-widgets/base",
      "model_module_version": "2.0.0",
      "model_name": "LayoutModel",
      "state": {}
     },
     "6a78b57f43504c8a9d42ce5ec018bc7f": {
      "model_module": "@jupyter-widgets/controls",
      "model_module_version": "2.0.0",
      "model_name": "HTMLStyleModel",
      "state": {
       "description_width": "",
       "font_size": null,
       "text_color": null
      }
     },
     "6a8d134c0eb84e9daba61174f94a15d4": {
      "model_module": "@jupyter-widgets/controls",
      "model_module_version": "2.0.0",
      "model_name": "FloatProgressModel",
      "state": {
       "bar_style": "success",
       "layout": "IPY_MODEL_24c74cd609c341ce880be57601e5b005",
       "max": 5001448416,
       "style": "IPY_MODEL_ab266330cb954ad4948cefd6022458e0",
       "value": 5001448416
      }
     },
     "6b8717a79cd045c89a0f80fdd796d78d": {
      "model_module": "@jupyter-widgets/controls",
      "model_module_version": "2.0.0",
      "model_name": "HTMLStyleModel",
      "state": {
       "description_width": "",
       "font_size": null,
       "text_color": null
      }
     },
     "6d826379ea414f9eadb5827a8baa9341": {
      "model_module": "@jupyter-widgets/base",
      "model_module_version": "2.0.0",
      "model_name": "LayoutModel",
      "state": {}
     },
     "6d959d90790343de8a222be1f68e0b74": {
      "model_module": "@jupyter-widgets/controls",
      "model_module_version": "2.0.0",
      "model_name": "ProgressStyleModel",
      "state": {
       "description_width": ""
      }
     },
     "6f5fc022bc654277ab2a30018a1bd48b": {
      "model_module": "@jupyter-widgets/controls",
      "model_module_version": "2.0.0",
      "model_name": "HTMLStyleModel",
      "state": {
       "description_width": "",
       "font_size": null,
       "text_color": null
      }
     },
     "71af0a52fe9d4835ba1733b4619ee4b0": {
      "model_module": "@jupyter-widgets/controls",
      "model_module_version": "2.0.0",
      "model_name": "HTMLStyleModel",
      "state": {
       "description_width": "",
       "font_size": null,
       "text_color": null
      }
     },
     "731265407d3a4586901259d647f4e3df": {
      "model_module": "@jupyter-widgets/base",
      "model_module_version": "2.0.0",
      "model_name": "LayoutModel",
      "state": {}
     },
     "7343b319e3ad42e48f4d2c9bb3dc7577": {
      "model_module": "@jupyter-widgets/base",
      "model_module_version": "2.0.0",
      "model_name": "LayoutModel",
      "state": {}
     },
     "73dedab59e884c3b9f9c4021e0fabbcd": {
      "model_module": "@jupyter-widgets/controls",
      "model_module_version": "2.0.0",
      "model_name": "HTMLStyleModel",
      "state": {
       "description_width": "",
       "font_size": null,
       "text_color": null
      }
     },
     "7415cd57509047ffafadedfed258cdd5": {
      "model_module": "@jupyter-widgets/controls",
      "model_module_version": "2.0.0",
      "model_name": "FloatProgressModel",
      "state": {
       "bar_style": "success",
       "layout": "IPY_MODEL_165da0aa9f4641a09d975ca611f15089",
       "max": 6976,
       "style": "IPY_MODEL_5329018f781642f2bdac5bc8de109071",
       "value": 6976
      }
     },
     "74666491440c474b9680a7533d4a2675": {
      "model_module": "@jupyter-widgets/controls",
      "model_module_version": "2.0.0",
      "model_name": "HTMLModel",
      "state": {
       "layout": "IPY_MODEL_abd0e4abd0d14d779f0c5ff06ccae7f6",
       "style": "IPY_MODEL_17527f5aeba04d349fe2ad0bc444a0bc",
       "value": "Loading checkpoint shards: 100%"
      }
     },
     "74d076d4956542bf812b632f450a5c38": {
      "model_module": "@jupyter-widgets/base",
      "model_module_version": "2.0.0",
      "model_name": "LayoutModel",
      "state": {}
     },
     "757b886f3068403ba4cf03ce04bd2e30": {
      "model_module": "@jupyter-widgets/controls",
      "model_module_version": "2.0.0",
      "model_name": "HTMLModel",
      "state": {
       "layout": "IPY_MODEL_a3a6130f56624e92b1478f28a877ccf5",
       "style": "IPY_MODEL_6441250591614f56a252faef1e747ae3",
       "value": " 6.98k/6.98k [00:00&lt;00:00, 170kB/s]"
      }
     },
     "76d5335c883f449589d931c29bdd5edc": {
      "model_module": "@jupyter-widgets/controls",
      "model_module_version": "2.0.0",
      "model_name": "HTMLModel",
      "state": {
       "layout": "IPY_MODEL_0eda0b1c111c4d64a2f887148110a1e4",
       "style": "IPY_MODEL_ad97b46594d44668a2074c75c5daa315",
       "value": "Loading checkpoint shards: 100%"
      }
     },
     "775f3353682546f883d8d02b449b2e57": {
      "model_module": "@jupyter-widgets/controls",
      "model_module_version": "2.0.0",
      "model_name": "ProgressStyleModel",
      "state": {
       "description_width": ""
      }
     },
     "780bd16809354e53b7f6ad9c57067cd9": {
      "model_module": "@jupyter-widgets/controls",
      "model_module_version": "2.0.0",
      "model_name": "HTMLStyleModel",
      "state": {
       "description_width": "",
       "font_size": null,
       "text_color": null
      }
     },
     "78852ab439ba430b8f116c881c0195f8": {
      "model_module": "@jupyter-widgets/controls",
      "model_module_version": "2.0.0",
      "model_name": "HTMLStyleModel",
      "state": {
       "description_width": "",
       "font_size": null,
       "text_color": null
      }
     },
     "78d925d87f35401eb5a1b80e4c2df0e6": {
      "model_module": "@jupyter-widgets/controls",
      "model_module_version": "2.0.0",
      "model_name": "HTMLStyleModel",
      "state": {
       "description_width": "",
       "font_size": null,
       "text_color": null
      }
     },
     "78eecf46ef464ddf9904980788fbc329": {
      "model_module": "@jupyter-widgets/controls",
      "model_module_version": "2.0.0",
      "model_name": "HTMLModel",
      "state": {
       "layout": "IPY_MODEL_3cf897060f4344059effc70895f9b78d",
       "style": "IPY_MODEL_e4e830caa8794a8994f777b41bad4cc1",
       "value": " 5.62k/5.62k [00:00&lt;00:00, 109kB/s]"
      }
     },
     "7923cfa53b76483bb9df4039636728d7": {
      "model_module": "@jupyter-widgets/controls",
      "model_module_version": "2.0.0",
      "model_name": "HBoxModel",
      "state": {
       "children": [
        "IPY_MODEL_d3a62b90a73b49c2a020a9a575289c99",
        "IPY_MODEL_21516577568645da8610cf2f2624a386",
        "IPY_MODEL_a3a79c55cbe74528b5bf6f9bd75ba1b3"
       ],
       "layout": "IPY_MODEL_4e71e11aeb8f45be8e4e440b7cf7d8bf"
      }
     },
     "7941b8639d044c27a9d39ab1a4906b25": {
      "model_module": "@jupyter-widgets/controls",
      "model_module_version": "2.0.0",
      "model_name": "HBoxModel",
      "state": {
       "children": [
        "IPY_MODEL_1108f9fd49294930975fa30c05b56e05",
        "IPY_MODEL_2896bcc18f414d958d4b0779c72b2277",
        "IPY_MODEL_2b79602adf8c41bb9fdeefc9a1ed99e7"
       ],
       "layout": "IPY_MODEL_aa374c71bedd45f594a875cf67af3c72"
      }
     },
     "798cbf507dd24998aa6302fd59cdc949": {
      "model_module": "@jupyter-widgets/base",
      "model_module_version": "2.0.0",
      "model_name": "LayoutModel",
      "state": {}
     },
     "7b97a709323e40f880739ad42825482c": {
      "model_module": "@jupyter-widgets/controls",
      "model_module_version": "2.0.0",
      "model_name": "ProgressStyleModel",
      "state": {
       "description_width": ""
      }
     },
     "7c4dc6f9a2c34cbd8df3e06da2263f8d": {
      "model_module": "@jupyter-widgets/controls",
      "model_module_version": "2.0.0",
      "model_name": "HTMLStyleModel",
      "state": {
       "description_width": "",
       "font_size": null,
       "text_color": null
      }
     },
     "7cabfab6c78848d188df63f1aab103ac": {
      "model_module": "@jupyter-widgets/base",
      "model_module_version": "2.0.0",
      "model_name": "LayoutModel",
      "state": {}
     },
     "7ce2b9a35a874fdaa87171d25892137c": {
      "model_module": "@jupyter-widgets/base",
      "model_module_version": "2.0.0",
      "model_name": "LayoutModel",
      "state": {}
     },
     "7ef0e83201004726bbeed8d4a4bd7d0d": {
      "model_module": "@jupyter-widgets/controls",
      "model_module_version": "2.0.0",
      "model_name": "HTMLModel",
      "state": {
       "layout": "IPY_MODEL_308ae569e3fc49e0bd65e0767554aae9",
       "style": "IPY_MODEL_2bd2201678184bc081d7cc549f62bf5b",
       "value": "Loading checkpoint shards: 100%"
      }
     },
     "7f9fdc97dd774b90998e69cc3348c7cb": {
      "model_module": "@jupyter-widgets/base",
      "model_module_version": "2.0.0",
      "model_name": "LayoutModel",
      "state": {}
     },
     "81189d638c31402bb78d9b3468bc1bf1": {
      "model_module": "@jupyter-widgets/controls",
      "model_module_version": "2.0.0",
      "model_name": "FloatProgressModel",
      "state": {
       "bar_style": "success",
       "layout": "IPY_MODEL_f28e3401fe1f43098f8e55ff2a316074",
       "max": 14244,
       "style": "IPY_MODEL_843ef55327e64716811478a942ab578d",
       "value": 14244
      }
     },
     "8127f4f943a04e9eb5c194634666b90e": {
      "model_module": "@jupyter-widgets/controls",
      "model_module_version": "2.0.0",
      "model_name": "FloatProgressModel",
      "state": {
       "bar_style": "success",
       "layout": "IPY_MODEL_8f9fbcfbe8e94a45a6ebea90a34c7489",
       "max": 6976,
       "style": "IPY_MODEL_6d959d90790343de8a222be1f68e0b74",
       "value": 6976
      }
     },
     "814f25f57123430593a40c48817c3f16": {
      "model_module": "@jupyter-widgets/base",
      "model_module_version": "2.0.0",
      "model_name": "LayoutModel",
      "state": {}
     },
     "8187ffccad1e4eda9c66a9d0f7c878e7": {
      "model_module": "@jupyter-widgets/base",
      "model_module_version": "2.0.0",
      "model_name": "LayoutModel",
      "state": {}
     },
     "82125781f96c435a8ebe9cb1781c160f": {
      "model_module": "@jupyter-widgets/controls",
      "model_module_version": "2.0.0",
      "model_name": "HTMLStyleModel",
      "state": {
       "description_width": "",
       "font_size": null,
       "text_color": null
      }
     },
     "82fb543e62554c01a6c73a864139bf19": {
      "model_module": "@jupyter-widgets/controls",
      "model_module_version": "2.0.0",
      "model_name": "HBoxModel",
      "state": {
       "children": [
        "IPY_MODEL_de6e539b483b49caaf20b42e029f096d",
        "IPY_MODEL_b4e3312d78f84ee3803a18f879a6c38e",
        "IPY_MODEL_688fb86f5be842fe83999ec8076fa527"
       ],
       "layout": "IPY_MODEL_eb7491a17a3f4740b4480556fa0870d3"
      }
     },
     "843ef55327e64716811478a942ab578d": {
      "model_module": "@jupyter-widgets/controls",
      "model_module_version": "2.0.0",
      "model_name": "ProgressStyleModel",
      "state": {
       "description_width": ""
      }
     },
     "8533be0884a042dca5e7b5f4c4d7c5f4": {
      "model_module": "@jupyter-widgets/base",
      "model_module_version": "2.0.0",
      "model_name": "LayoutModel",
      "state": {}
     },
     "86a54560addd4efc8dd35cd1fca90cd1": {
      "model_module": "@jupyter-widgets/controls",
      "model_module_version": "2.0.0",
      "model_name": "HTMLModel",
      "state": {
       "layout": "IPY_MODEL_2cb491890a1f4d7d8e346d5a20293e24",
       "style": "IPY_MODEL_217165df4b834f1d8c6317093ef3df8a",
       "value": " 6.98k/6.98k [00:00&lt;00:00, 93.4kB/s]"
      }
     },
     "88a172f364614951bfd2f39ba3efe9bb": {
      "model_module": "@jupyter-widgets/controls",
      "model_module_version": "2.0.0",
      "model_name": "HTMLStyleModel",
      "state": {
       "description_width": "",
       "font_size": null,
       "text_color": null
      }
     },
     "8957d3a574234063932d7b42363f4849": {
      "model_module": "@jupyter-widgets/controls",
      "model_module_version": "2.0.0",
      "model_name": "FloatProgressModel",
      "state": {
       "bar_style": "success",
       "layout": "IPY_MODEL_e29c49261b7f444c97f936605ec2b181",
       "max": 4907533717,
       "style": "IPY_MODEL_03582364911f42689ccca23e47c85ebb",
       "value": 4907533717
      }
     },
     "8ca22f008a544e5d882c760ce15d3f05": {
      "model_module": "@jupyter-widgets/base",
      "model_module_version": "2.0.0",
      "model_name": "LayoutModel",
      "state": {}
     },
     "8ef6bf8005114711af0cd6d4f0655099": {
      "model_module": "@jupyter-widgets/controls",
      "model_module_version": "2.0.0",
      "model_name": "HTMLModel",
      "state": {
       "layout": "IPY_MODEL_584b3667f45e4c6387e3d63ca31bed2d",
       "style": "IPY_MODEL_312f4f495a584f4cbc7d35f299fbefe6",
       "value": " 4/4 [00:17&lt;00:00,  4.42s/it]"
      }
     },
     "8f3cdd955f4f4cfdb7c3d29fed950016": {
      "model_module": "@jupyter-widgets/controls",
      "model_module_version": "2.0.0",
      "model_name": "HTMLModel",
      "state": {
       "layout": "IPY_MODEL_d8f98c90ce9b4c5091e7968f9c612563",
       "style": "IPY_MODEL_ee578f1255d64115a6878aafd4be289d",
       "value": "events.out.tfevents.1740858035.b3c7d853-4c5a-4a0a-ab54-087dc02516fb.198196.0: 100%"
      }
     },
     "8f4949131d654d128854cf737c28b580": {
      "model_module": "@jupyter-widgets/base",
      "model_module_version": "2.0.0",
      "model_name": "LayoutModel",
      "state": {}
     },
     "8f69114dc49b4b0898f3b6be7598d2f0": {
      "model_module": "@jupyter-widgets/base",
      "model_module_version": "2.0.0",
      "model_name": "LayoutModel",
      "state": {}
     },
     "8f9fbcfbe8e94a45a6ebea90a34c7489": {
      "model_module": "@jupyter-widgets/base",
      "model_module_version": "2.0.0",
      "model_name": "LayoutModel",
      "state": {}
     },
     "91d87f0d7a2e4684b8333940af8bfffb": {
      "model_module": "@jupyter-widgets/base",
      "model_module_version": "2.0.0",
      "model_name": "LayoutModel",
      "state": {}
     },
     "9227a66ed1574722aa00095f554f6e76": {
      "model_module": "@jupyter-widgets/base",
      "model_module_version": "2.0.0",
      "model_name": "LayoutModel",
      "state": {}
     },
     "96b1374cb04743189cbab70663b8d9d2": {
      "model_module": "@jupyter-widgets/controls",
      "model_module_version": "2.0.0",
      "model_name": "ProgressStyleModel",
      "state": {
       "description_width": ""
      }
     },
     "972799af433343a88c21f96d5fc225cb": {
      "model_module": "@jupyter-widgets/base",
      "model_module_version": "2.0.0",
      "model_name": "LayoutModel",
      "state": {}
     },
     "984a5b5fa8044c46ab7ef236728fa5d4": {
      "model_module": "@jupyter-widgets/base",
      "model_module_version": "2.0.0",
      "model_name": "LayoutModel",
      "state": {}
     },
     "9965681ef8254d01b69bf43ecbf9c77f": {
      "model_module": "@jupyter-widgets/controls",
      "model_module_version": "2.0.0",
      "model_name": "HTMLModel",
      "state": {
       "layout": "IPY_MODEL_9227a66ed1574722aa00095f554f6e76",
       "style": "IPY_MODEL_e28e47b28e85447baa8022f18aa2038c",
       "value": " 839M/839M [00:15&lt;00:00, 68.4MB/s]"
      }
     },
     "99a85795a67b4b81ba80129bac7b7db4": {
      "model_module": "@jupyter-widgets/controls",
      "model_module_version": "2.0.0",
      "model_name": "HTMLStyleModel",
      "state": {
       "description_width": "",
       "font_size": null,
       "text_color": null
      }
     },
     "9af77677ec514ce8990eabeba5ad4a6f": {
      "model_module": "@jupyter-widgets/base",
      "model_module_version": "2.0.0",
      "model_name": "LayoutModel",
      "state": {}
     },
     "9e5e199cdca343c5a149944f1ef35f79": {
      "model_module": "@jupyter-widgets/controls",
      "model_module_version": "2.0.0",
      "model_name": "HTMLModel",
      "state": {
       "layout": "IPY_MODEL_208f64c2079b4c56963f8acd787576e8",
       "style": "IPY_MODEL_156fee04090d427b946a403de49f7e4d",
       "value": " 7.39k/7.39k [00:00&lt;00:00, 107kB/s]"
      }
     },
     "9f6820cfd5c84f609936b97316e93e46": {
      "model_module": "@jupyter-widgets/base",
      "model_module_version": "2.0.0",
      "model_name": "LayoutModel",
      "state": {}
     },
     "9f8f9ac29ef04bf7bfd3450ff480f892": {
      "model_module": "@jupyter-widgets/base",
      "model_module_version": "2.0.0",
      "model_name": "LayoutModel",
      "state": {}
     },
     "a26d6b0fecfd4ed2867a437dd58061a6": {
      "model_module": "@jupyter-widgets/controls",
      "model_module_version": "2.0.0",
      "model_name": "HTMLStyleModel",
      "state": {
       "description_width": "",
       "font_size": null,
       "text_color": null
      }
     },
     "a3a6130f56624e92b1478f28a877ccf5": {
      "model_module": "@jupyter-widgets/base",
      "model_module_version": "2.0.0",
      "model_name": "LayoutModel",
      "state": {}
     },
     "a3a79c55cbe74528b5bf6f9bd75ba1b3": {
      "model_module": "@jupyter-widgets/controls",
      "model_module_version": "2.0.0",
      "model_name": "HTMLModel",
      "state": {
       "layout": "IPY_MODEL_9af77677ec514ce8990eabeba5ad4a6f",
       "style": "IPY_MODEL_78852ab439ba430b8f116c881c0195f8",
       "value": " 601M/601M [00:09&lt;00:00, 65.0MB/s]"
      }
     },
     "a4436ec650c74e45a3d78aead9725389": {
      "model_module": "@jupyter-widgets/controls",
      "model_module_version": "2.0.0",
      "model_name": "HTMLModel",
      "state": {
       "layout": "IPY_MODEL_af4db45ed5704406846fc606a6e721be",
       "style": "IPY_MODEL_eac0ac6c154d4a38a97effba880b0017",
       "value": " 6.98k/6.98k [00:00&lt;00:00, 204kB/s]"
      }
     },
     "a7adb67da2b64c2f88a919ac1481ed43": {
      "model_module": "@jupyter-widgets/controls",
      "model_module_version": "2.0.0",
      "model_name": "HTMLStyleModel",
      "state": {
       "description_width": "",
       "font_size": null,
       "text_color": null
      }
     },
     "a7fdd295753c47c08779628eabf6659b": {
      "model_module": "@jupyter-widgets/controls",
      "model_module_version": "2.0.0",
      "model_name": "HBoxModel",
      "state": {
       "children": [
        "IPY_MODEL_b3416654820c4140b0a52db61e440709",
        "IPY_MODEL_f7002b1a326141408dabcb4d0bd26130",
        "IPY_MODEL_ff60ebc5a43047d3a2654ebf47fc4756"
       ],
       "layout": "IPY_MODEL_194982f9b81e4b5bb5a0f3ef7148d4cc"
      }
     },
     "a983d1467e134b2da2c690aff96e5a6e": {
      "model_module": "@jupyter-widgets/controls",
      "model_module_version": "2.0.0",
      "model_name": "FloatProgressModel",
      "state": {
       "bar_style": "success",
       "layout": "IPY_MODEL_c6671eb546794ea7897cebf67dc071a7",
       "max": 88,
       "style": "IPY_MODEL_44820f6938bc433bab933c9c8286dca9",
       "value": 88
      }
     },
     "aa374c71bedd45f594a875cf67af3c72": {
      "model_module": "@jupyter-widgets/base",
      "model_module_version": "2.0.0",
      "model_name": "LayoutModel",
      "state": {}
     },
     "aafde4c6471c438980dc3ea393772e9d": {
      "model_module": "@jupyter-widgets/controls",
      "model_module_version": "2.0.0",
      "model_name": "HBoxModel",
      "state": {
       "children": [
        "IPY_MODEL_f0d721e4b7f949dd9fee3b1c16212281",
        "IPY_MODEL_2952e87f43354e0bab2ec2b7fcdea4f4",
        "IPY_MODEL_bc828ec405654e07a064ed41624c2213"
       ],
       "layout": "IPY_MODEL_8187ffccad1e4eda9c66a9d0f7c878e7"
      }
     },
     "ab266330cb954ad4948cefd6022458e0": {
      "model_module": "@jupyter-widgets/controls",
      "model_module_version": "2.0.0",
      "model_name": "ProgressStyleModel",
      "state": {
       "description_width": ""
      }
     },
     "abd0e4abd0d14d779f0c5ff06ccae7f6": {
      "model_module": "@jupyter-widgets/base",
      "model_module_version": "2.0.0",
      "model_name": "LayoutModel",
      "state": {}
     },
     "ad038c5aac1949f194a12d4d18af9da7": {
      "model_module": "@jupyter-widgets/controls",
      "model_module_version": "2.0.0",
      "model_name": "HBoxModel",
      "state": {
       "children": [
        "IPY_MODEL_f363838134da4ac49c249ba1510dd31c",
        "IPY_MODEL_6a8d134c0eb84e9daba61174f94a15d4",
        "IPY_MODEL_5c539a41030b4654a937d2bb08576383"
       ],
       "layout": "IPY_MODEL_bacb5a60af244bc6ab41ac952c3e1745"
      }
     },
     "ad1e51d40f65404d92df770d24ba1972": {
      "model_module": "@jupyter-widgets/controls",
      "model_module_version": "2.0.0",
      "model_name": "FloatProgressModel",
      "state": {
       "bar_style": "success",
       "layout": "IPY_MODEL_984a5b5fa8044c46ab7ef236728fa5d4",
       "max": 7387,
       "style": "IPY_MODEL_775f3353682546f883d8d02b449b2e57",
       "value": 7387
      }
     },
     "ad97b46594d44668a2074c75c5daa315": {
      "model_module": "@jupyter-widgets/controls",
      "model_module_version": "2.0.0",
      "model_name": "HTMLStyleModel",
      "state": {
       "description_width": "",
       "font_size": null,
       "text_color": null
      }
     },
     "aeaf87f1b2214d829aaaabcc8bdd5b19": {
      "model_module": "@jupyter-widgets/controls",
      "model_module_version": "2.0.0",
      "model_name": "HTMLModel",
      "state": {
       "layout": "IPY_MODEL_b64bb1234dd74a7586e02fde699e39a8",
       "style": "IPY_MODEL_99a85795a67b4b81ba80129bac7b7db4",
       "value": "events.out.tfevents.1740859411.b3c7d853-4c5a-4a0a-ab54-087dc02516fb.212192.0: 100%"
      }
     },
     "aef3f21b7524422f8ee26dce9480c7a6": {
      "model_module": "@jupyter-widgets/base",
      "model_module_version": "2.0.0",
      "model_name": "LayoutModel",
      "state": {}
     },
     "af4db45ed5704406846fc606a6e721be": {
      "model_module": "@jupyter-widgets/base",
      "model_module_version": "2.0.0",
      "model_name": "LayoutModel",
      "state": {}
     },
     "b0c0d0aaca154ef8b8f093dd8824cfaa": {
      "model_module": "@jupyter-widgets/controls",
      "model_module_version": "2.0.0",
      "model_name": "FloatProgressModel",
      "state": {
       "bar_style": "success",
       "layout": "IPY_MODEL_7f9fdc97dd774b90998e69cc3348c7cb",
       "max": 4,
       "style": "IPY_MODEL_60852105d39f4fa28a494bc6c8b2739a",
       "value": 4
      }
     },
     "b3416654820c4140b0a52db61e440709": {
      "model_module": "@jupyter-widgets/controls",
      "model_module_version": "2.0.0",
      "model_name": "HTMLModel",
      "state": {
       "layout": "IPY_MODEL_0f64183058ac4c31a05bccca07904c11",
       "style": "IPY_MODEL_73dedab59e884c3b9f9c4021e0fabbcd",
       "value": "scheduler.pt: 100%"
      }
     },
     "b4e3312d78f84ee3803a18f879a6c38e": {
      "model_module": "@jupyter-widgets/controls",
      "model_module_version": "2.0.0",
      "model_name": "FloatProgressModel",
      "state": {
       "bar_style": "success",
       "layout": "IPY_MODEL_731265407d3a4586901259d647f4e3df",
       "max": 1160839360,
       "style": "IPY_MODEL_ef6065c494c142ca9a6c2be2cd0a1919",
       "value": 1160839360
      }
     },
     "b644ca96d4be4a2fae5cf9ec27c9f616": {
      "model_module": "@jupyter-widgets/controls",
      "model_module_version": "2.0.0",
      "model_name": "HTMLStyleModel",
      "state": {
       "description_width": "",
       "font_size": null,
       "text_color": null
      }
     },
     "b64bb1234dd74a7586e02fde699e39a8": {
      "model_module": "@jupyter-widgets/base",
      "model_module_version": "2.0.0",
      "model_name": "LayoutModel",
      "state": {}
     },
     "b69106a5cc064121925b9eff4854d9af": {
      "model_module": "@jupyter-widgets/base",
      "model_module_version": "2.0.0",
      "model_name": "LayoutModel",
      "state": {}
     },
     "b83ed799b53f427884efb189c30bfa8c": {
      "model_module": "@jupyter-widgets/base",
      "model_module_version": "2.0.0",
      "model_name": "LayoutModel",
      "state": {}
     },
     "bacb5a60af244bc6ab41ac952c3e1745": {
      "model_module": "@jupyter-widgets/base",
      "model_module_version": "2.0.0",
      "model_name": "LayoutModel",
      "state": {}
     },
     "bc828ec405654e07a064ed41624c2213": {
      "model_module": "@jupyter-widgets/controls",
      "model_module_version": "2.0.0",
      "model_name": "HTMLModel",
      "state": {
       "layout": "IPY_MODEL_91d87f0d7a2e4684b8333940af8bfffb",
       "style": "IPY_MODEL_f4b8d37d591d490ab53ee782dd9d52ed",
       "value": " 20/20 [01:32&lt;00:00, 10.93s/it]"
      }
     },
     "bcdd91efe9e34067945de7a70ffb42d1": {
      "model_module": "@jupyter-widgets/controls",
      "model_module_version": "2.0.0",
      "model_name": "HTMLStyleModel",
      "state": {
       "description_width": "",
       "font_size": null,
       "text_color": null
      }
     },
     "be0a62e9a09147979a6fe1e1f280eaa3": {
      "model_module": "@jupyter-widgets/controls",
      "model_module_version": "2.0.0",
      "model_name": "HTMLModel",
      "state": {
       "layout": "IPY_MODEL_228770c0cd924aa0b2c0e23115668bec",
       "style": "IPY_MODEL_78d925d87f35401eb5a1b80e4c2df0e6",
       "value": "events.out.tfevents.1740859854.b3c7d853-4c5a-4a0a-ab54-087dc02516fb.216891.0: 100%"
      }
     },
     "bf838cf620634a01b94227971eb1efe8": {
      "model_module": "@jupyter-widgets/controls",
      "model_module_version": "2.0.0",
      "model_name": "HBoxModel",
      "state": {
       "children": [
        "IPY_MODEL_472575d047794710b3b97e781a831522",
        "IPY_MODEL_0f90fab1570d4acf82ddd4a36f01bf91",
        "IPY_MODEL_ea5fd84343b74c5095a2ab0bdade703c"
       ],
       "layout": "IPY_MODEL_7343b319e3ad42e48f4d2c9bb3dc7577"
      }
     },
     "c124fb04c78e4993bf2d21d21d3a55ea": {
      "model_module": "@jupyter-widgets/base",
      "model_module_version": "2.0.0",
      "model_name": "LayoutModel",
      "state": {}
     },
     "c32328ef626248b9a2b7e58a23724e29": {
      "model_module": "@jupyter-widgets/controls",
      "model_module_version": "2.0.0",
      "model_name": "HBoxModel",
      "state": {
       "children": [
        "IPY_MODEL_f0081d556aa54816810e7da1dc472a6b",
        "IPY_MODEL_ad1e51d40f65404d92df770d24ba1972",
        "IPY_MODEL_1be03b2fd47d4375ac3f7a044ce0fffa"
       ],
       "layout": "IPY_MODEL_c124fb04c78e4993bf2d21d21d3a55ea"
      }
     },
     "c3e27a5b1ffc4c5283473a0579238f8e": {
      "model_module": "@jupyter-widgets/base",
      "model_module_version": "2.0.0",
      "model_name": "LayoutModel",
      "state": {}
     },
     "c4644a915cd44c19afc6e26234e5c476": {
      "model_module": "@jupyter-widgets/base",
      "model_module_version": "2.0.0",
      "model_name": "LayoutModel",
      "state": {}
     },
     "c60ef59075bf42cdab09dc83e82eb9ad": {
      "model_module": "@jupyter-widgets/controls",
      "model_module_version": "2.0.0",
      "model_name": "FloatProgressModel",
      "state": {
       "bar_style": "success",
       "layout": "IPY_MODEL_4ce67fbddc0d4a0ebc0ba3cacd7ee3f7",
       "max": 6976,
       "style": "IPY_MODEL_36c5086d6bf342dba97ca45f452b3227",
       "value": 6976
      }
     },
     "c6671eb546794ea7897cebf67dc071a7": {
      "model_module": "@jupyter-widgets/base",
      "model_module_version": "2.0.0",
      "model_name": "LayoutModel",
      "state": {}
     },
     "c6dd90df2bc74ea5bb20ccb2d0950534": {
      "model_module": "@jupyter-widgets/controls",
      "model_module_version": "2.0.0",
      "model_name": "HBoxModel",
      "state": {
       "children": [
        "IPY_MODEL_f5a89cb69b9b4bcfbabc795b36aecc8c",
        "IPY_MODEL_6800e53917364310a386fe81515a4644",
        "IPY_MODEL_67bc80e6e602443087456e0e51c32291"
       ],
       "layout": "IPY_MODEL_60840a5636fe4b128da00f8dbd13d46f"
      }
     },
     "c71d15af51124d0f947a17519490825a": {
      "model_module": "@jupyter-widgets/controls",
      "model_module_version": "2.0.0",
      "model_name": "HTMLStyleModel",
      "state": {
       "description_width": "",
       "font_size": null,
       "text_color": null
      }
     },
     "c81ce3f3489b4e9e9bf4bc348ebc862c": {
      "model_module": "@jupyter-widgets/base",
      "model_module_version": "2.0.0",
      "model_name": "LayoutModel",
      "state": {}
     },
     "cbbf977784324c0fa81ccda630912998": {
      "model_module": "@jupyter-widgets/base",
      "model_module_version": "2.0.0",
      "model_name": "LayoutModel",
      "state": {}
     },
     "cfc313778e0441af86bc086adafcf5a9": {
      "model_module": "@jupyter-widgets/controls",
      "model_module_version": "2.0.0",
      "model_name": "HTMLStyleModel",
      "state": {
       "description_width": "",
       "font_size": null,
       "text_color": null
      }
     },
     "d11c7da1229a46fc982faeb950b31773": {
      "model_module": "@jupyter-widgets/controls",
      "model_module_version": "2.0.0",
      "model_name": "HTMLModel",
      "state": {
       "layout": "IPY_MODEL_04f19174fe2e4f5b8ad9999df7e54b16",
       "style": "IPY_MODEL_526facc2e6db41de88e02dd43f409b3a",
       "value": "rng_state.pth: 100%"
      }
     },
     "d1cf1e1b55b24aab9734f0c77fdf5937": {
      "model_module": "@jupyter-widgets/base",
      "model_module_version": "2.0.0",
      "model_name": "LayoutModel",
      "state": {}
     },
     "d1e86ee6cc384612a225aee3ba5dddea": {
      "model_module": "@jupyter-widgets/controls",
      "model_module_version": "2.0.0",
      "model_name": "ProgressStyleModel",
      "state": {
       "description_width": ""
      }
     },
     "d2b7a84a859547da9c8214d7d9cb5599": {
      "model_module": "@jupyter-widgets/controls",
      "model_module_version": "2.0.0",
      "model_name": "HBoxModel",
      "state": {
       "children": [
        "IPY_MODEL_d11c7da1229a46fc982faeb950b31773",
        "IPY_MODEL_81189d638c31402bb78d9b3468bc1bf1",
        "IPY_MODEL_4fb4e440da434bd3a42277d74e3d6d95"
       ],
       "layout": "IPY_MODEL_4d83a1f1a11245ef9b23edc1cf61274d"
      }
     },
     "d3a62b90a73b49c2a020a9a575289c99": {
      "model_module": "@jupyter-widgets/controls",
      "model_module_version": "2.0.0",
      "model_name": "HTMLModel",
      "state": {
       "layout": "IPY_MODEL_ee75b1f9c7094a609c9d8b087cffde2d",
       "style": "IPY_MODEL_cfc313778e0441af86bc086adafcf5a9",
       "value": "optimizer.pt: 100%"
      }
     },
     "d5823028d118442abd14b38477baece4": {
      "model_module": "@jupyter-widgets/controls",
      "model_module_version": "2.0.0",
      "model_name": "FloatProgressModel",
      "state": {
       "bar_style": "success",
       "layout": "IPY_MODEL_8ca22f008a544e5d882c760ce15d3f05",
       "max": 838860928,
       "style": "IPY_MODEL_0472f647d1a84ba8afe456aa2540449e",
       "value": 838860928
      }
     },
     "d628334ef9984345bd2339758a29be41": {
      "model_module": "@jupyter-widgets/controls",
      "model_module_version": "2.0.0",
      "model_name": "HTMLModel",
      "state": {
       "layout": "IPY_MODEL_247440a3521145fea44fbe0ebbff136a",
       "style": "IPY_MODEL_c71d15af51124d0f947a17519490825a",
       "value": "events.out.tfevents.1740858884.b3c7d853-4c5a-4a0a-ab54-087dc02516fb.206757.0: 100%"
      }
     },
     "d6a6a100e2414141ace3a2ba4fc1e1cf": {
      "model_module": "@jupyter-widgets/base",
      "model_module_version": "2.0.0",
      "model_name": "LayoutModel",
      "state": {}
     },
     "d71da06b85a74581b38c14ef4e58bd1c": {
      "model_module": "@jupyter-widgets/controls",
      "model_module_version": "2.0.0",
      "model_name": "HTMLModel",
      "state": {
       "layout": "IPY_MODEL_0f4c62c471244526a7c7c653552ee452",
       "style": "IPY_MODEL_82125781f96c435a8ebe9cb1781c160f",
       "value": " 4/4 [00:16&lt;00:00,  3.89s/it]"
      }
     },
     "d8f98c90ce9b4c5091e7968f9c612563": {
      "model_module": "@jupyter-widgets/base",
      "model_module_version": "2.0.0",
      "model_name": "LayoutModel",
      "state": {}
     },
     "d918471e252d49c5bc6a5a44b8fe719e": {
      "model_module": "@jupyter-widgets/controls",
      "model_module_version": "2.0.0",
      "model_name": "HBoxModel",
      "state": {
       "children": [
        "IPY_MODEL_45ecd161660c4f578499469c6039e340",
        "IPY_MODEL_02fe16bf834445faadddee450ae8b671",
        "IPY_MODEL_78eecf46ef464ddf9904980788fbc329"
       ],
       "layout": "IPY_MODEL_db2f0fdddd7f448eb02d67614c83e519"
      }
     },
     "d92f4c4c82a9403eaf9c7ee62fc466b7": {
      "model_module": "@jupyter-widgets/base",
      "model_module_version": "2.0.0",
      "model_name": "LayoutModel",
      "state": {}
     },
     "d9b5e3209bd443b68f98b4cbcf8ab1fa": {
      "model_module": "@jupyter-widgets/controls",
      "model_module_version": "2.0.0",
      "model_name": "ProgressStyleModel",
      "state": {
       "description_width": ""
      }
     },
     "db2f0fdddd7f448eb02d67614c83e519": {
      "model_module": "@jupyter-widgets/base",
      "model_module_version": "2.0.0",
      "model_name": "LayoutModel",
      "state": {}
     },
     "dd51d10155e849b8b487742ef946ed00": {
      "model_module": "@jupyter-widgets/base",
      "model_module_version": "2.0.0",
      "model_name": "LayoutModel",
      "state": {}
     },
     "de6e539b483b49caaf20b42e029f096d": {
      "model_module": "@jupyter-widgets/controls",
      "model_module_version": "2.0.0",
      "model_name": "HTMLModel",
      "state": {
       "layout": "IPY_MODEL_02a8d2bda9a148599770721a89139bbe",
       "style": "IPY_MODEL_71af0a52fe9d4835ba1733b4619ee4b0",
       "value": "adapter_model.safetensors: 100%"
      }
     },
     "e0b21337609148b4afff1a906fb3a5b8": {
      "model_module": "@jupyter-widgets/controls",
      "model_module_version": "2.0.0",
      "model_name": "HBoxModel",
      "state": {
       "children": [
        "IPY_MODEL_0947e1ce75164623912afa027c8b6ce2",
        "IPY_MODEL_8127f4f943a04e9eb5c194634666b90e",
        "IPY_MODEL_757b886f3068403ba4cf03ce04bd2e30"
       ],
       "layout": "IPY_MODEL_8f69114dc49b4b0898f3b6be7598d2f0"
      }
     },
     "e1c553162f3d4300923e8173f9cf71cc": {
      "model_module": "@jupyter-widgets/base",
      "model_module_version": "2.0.0",
      "model_name": "LayoutModel",
      "state": {}
     },
     "e28e47b28e85447baa8022f18aa2038c": {
      "model_module": "@jupyter-widgets/controls",
      "model_module_version": "2.0.0",
      "model_name": "HTMLStyleModel",
      "state": {
       "description_width": "",
       "font_size": null,
       "text_color": null
      }
     },
     "e29c49261b7f444c97f936605ec2b181": {
      "model_module": "@jupyter-widgets/base",
      "model_module_version": "2.0.0",
      "model_name": "LayoutModel",
      "state": {}
     },
     "e43f7847d26648edb0d6db7392638921": {
      "model_module": "@jupyter-widgets/base",
      "model_module_version": "2.0.0",
      "model_name": "LayoutModel",
      "state": {}
     },
     "e4e830caa8794a8994f777b41bad4cc1": {
      "model_module": "@jupyter-widgets/controls",
      "model_module_version": "2.0.0",
      "model_name": "HTMLStyleModel",
      "state": {
       "description_width": "",
       "font_size": null,
       "text_color": null
      }
     },
     "e50920b2a3e04bffb8ff474fedb544c5": {
      "model_module": "@jupyter-widgets/controls",
      "model_module_version": "2.0.0",
      "model_name": "ProgressStyleModel",
      "state": {
       "description_width": ""
      }
     },
     "e64c657c506f426a8098e483f847c069": {
      "model_module": "@jupyter-widgets/controls",
      "model_module_version": "2.0.0",
      "model_name": "HTMLStyleModel",
      "state": {
       "description_width": "",
       "font_size": null,
       "text_color": null
      }
     },
     "e6af1605d1534b0abfca078045d8fe8f": {
      "model_module": "@jupyter-widgets/base",
      "model_module_version": "2.0.0",
      "model_name": "LayoutModel",
      "state": {}
     },
     "e6b9baefbc5f47cba21fd98d52cddec4": {
      "model_module": "@jupyter-widgets/base",
      "model_module_version": "2.0.0",
      "model_name": "LayoutModel",
      "state": {}
     },
     "ea4103c513004bd29f9c1e32205733a5": {
      "model_module": "@jupyter-widgets/controls",
      "model_module_version": "2.0.0",
      "model_name": "HBoxModel",
      "state": {
       "children": [
        "IPY_MODEL_74666491440c474b9680a7533d4a2675",
        "IPY_MODEL_b0c0d0aaca154ef8b8f093dd8824cfaa",
        "IPY_MODEL_25932bb6db624b08930d7e51094569bc"
       ],
       "layout": "IPY_MODEL_d6a6a100e2414141ace3a2ba4fc1e1cf"
      }
     },
     "ea5fd84343b74c5095a2ab0bdade703c": {
      "model_module": "@jupyter-widgets/controls",
      "model_module_version": "2.0.0",
      "model_name": "HTMLModel",
      "state": {
       "layout": "IPY_MODEL_4daf4a6d8ef94738875ccaf2492b66af",
       "style": "IPY_MODEL_b644ca96d4be4a2fae5cf9ec27c9f616",
       "value": " 6.98k/6.98k [00:00&lt;00:00, 120kB/s]"
      }
     },
     "ea629082b14248caaa98cf239578f9b5": {
      "model_module": "@jupyter-widgets/controls",
      "model_module_version": "2.0.0",
      "model_name": "ProgressStyleModel",
      "state": {
       "description_width": ""
      }
     },
     "eac0ac6c154d4a38a97effba880b0017": {
      "model_module": "@jupyter-widgets/controls",
      "model_module_version": "2.0.0",
      "model_name": "HTMLStyleModel",
      "state": {
       "description_width": "",
       "font_size": null,
       "text_color": null
      }
     },
     "eb7491a17a3f4740b4480556fa0870d3": {
      "model_module": "@jupyter-widgets/base",
      "model_module_version": "2.0.0",
      "model_name": "LayoutModel",
      "state": {}
     },
     "ec2f2d8722dd41f1a46349b2f362ebb8": {
      "model_module": "@jupyter-widgets/controls",
      "model_module_version": "2.0.0",
      "model_name": "ProgressStyleModel",
      "state": {
       "description_width": ""
      }
     },
     "edbf89442e4c4e0cb1ed4c129bbbfef4": {
      "model_module": "@jupyter-widgets/controls",
      "model_module_version": "2.0.0",
      "model_name": "HTMLModel",
      "state": {
       "layout": "IPY_MODEL_798cbf507dd24998aa6302fd59cdc949",
       "style": "IPY_MODEL_1c9276cf51a246b2b29fc79840f816fa",
       "value": "events.out.tfevents.1740859189.b3c7d853-4c5a-4a0a-ab54-087dc02516fb.209938.0: 100%"
      }
     },
     "ee578f1255d64115a6878aafd4be289d": {
      "model_module": "@jupyter-widgets/controls",
      "model_module_version": "2.0.0",
      "model_name": "HTMLStyleModel",
      "state": {
       "description_width": "",
       "font_size": null,
       "text_color": null
      }
     },
     "ee75b1f9c7094a609c9d8b087cffde2d": {
      "model_module": "@jupyter-widgets/base",
      "model_module_version": "2.0.0",
      "model_name": "LayoutModel",
      "state": {}
     },
     "ef6065c494c142ca9a6c2be2cd0a1919": {
      "model_module": "@jupyter-widgets/controls",
      "model_module_version": "2.0.0",
      "model_name": "ProgressStyleModel",
      "state": {
       "description_width": ""
      }
     },
     "f0081d556aa54816810e7da1dc472a6b": {
      "model_module": "@jupyter-widgets/controls",
      "model_module_version": "2.0.0",
      "model_name": "HTMLModel",
      "state": {
       "layout": "IPY_MODEL_d1cf1e1b55b24aab9734f0c77fdf5937",
       "style": "IPY_MODEL_6f5fc022bc654277ab2a30018a1bd48b",
       "value": "events.out.tfevents.1740856547.b3c7d853-4c5a-4a0a-ab54-087dc02516fb.176706.0: 100%"
      }
     },
     "f0d721e4b7f949dd9fee3b1c16212281": {
      "model_module": "@jupyter-widgets/controls",
      "model_module_version": "2.0.0",
      "model_name": "HTMLModel",
      "state": {
       "layout": "IPY_MODEL_8533be0884a042dca5e7b5f4c4d7c5f4",
       "style": "IPY_MODEL_6a78b57f43504c8a9d42ce5ec018bc7f",
       "value": "Upload 20 LFS files: 100%"
      }
     },
     "f0fd3bf5d8c24ccfba4f4b9e6e4ee62f": {
      "model_module": "@jupyter-widgets/controls",
      "model_module_version": "2.0.0",
      "model_name": "HBoxModel",
      "state": {
       "children": [
        "IPY_MODEL_edbf89442e4c4e0cb1ed4c129bbbfef4",
        "IPY_MODEL_a983d1467e134b2da2c690aff96e5a6e",
        "IPY_MODEL_f3fd873f4dcf481886f6660ee861f59d"
       ],
       "layout": "IPY_MODEL_e6af1605d1534b0abfca078045d8fe8f"
      }
     },
     "f28e3401fe1f43098f8e55ff2a316074": {
      "model_module": "@jupyter-widgets/base",
      "model_module_version": "2.0.0",
      "model_name": "LayoutModel",
      "state": {}
     },
     "f2bdd950d63c4e81aae30bbc4a33ee57": {
      "model_module": "@jupyter-widgets/controls",
      "model_module_version": "2.0.0",
      "model_name": "HTMLModel",
      "state": {
       "layout": "IPY_MODEL_3011394365704edb9c36903fcd64dc62",
       "style": "IPY_MODEL_45eba806e68e4219905b29bd3c04de1a",
       "value": "model-00002-of-00003.safetensors: 100%"
      }
     },
     "f363838134da4ac49c249ba1510dd31c": {
      "model_module": "@jupyter-widgets/controls",
      "model_module_version": "2.0.0",
      "model_name": "HTMLModel",
      "state": {
       "layout": "IPY_MODEL_69973108d9df48d890e28d5b1fa49627",
       "style": "IPY_MODEL_652a58b2a36a4119af3eb34efd9e8290",
       "value": "model-00001-of-00003.safetensors: 100%"
      }
     },
     "f3fd873f4dcf481886f6660ee861f59d": {
      "model_module": "@jupyter-widgets/controls",
      "model_module_version": "2.0.0",
      "model_name": "HTMLModel",
      "state": {
       "layout": "IPY_MODEL_5a4fb35a3f7e47049daba40e1c29e1d2",
       "style": "IPY_MODEL_63451c174f354d4abb45fa06f381b136",
       "value": " 88.0/88.0 [00:00&lt;00:00, 2.49kB/s]"
      }
     },
     "f4b8d37d591d490ab53ee782dd9d52ed": {
      "model_module": "@jupyter-widgets/controls",
      "model_module_version": "2.0.0",
      "model_name": "HTMLStyleModel",
      "state": {
       "description_width": "",
       "font_size": null,
       "text_color": null
      }
     },
     "f4f0c7575e4a4bedb8ae8a0b7a2b356c": {
      "model_module": "@jupyter-widgets/controls",
      "model_module_version": "2.0.0",
      "model_name": "ProgressStyleModel",
      "state": {
       "description_width": ""
      }
     },
     "f5a89cb69b9b4bcfbabc795b36aecc8c": {
      "model_module": "@jupyter-widgets/controls",
      "model_module_version": "2.0.0",
      "model_name": "HTMLModel",
      "state": {
       "layout": "IPY_MODEL_2e6d2e25403048bdbba8af3b937a7fb4",
       "style": "IPY_MODEL_0a2d493891174c7f8917d0c54dd49e6e",
       "value": "scaler.pt: 100%"
      }
     },
     "f6cd1a28822f497fadcb98d5d9889c8f": {
      "model_module": "@jupyter-widgets/base",
      "model_module_version": "2.0.0",
      "model_name": "LayoutModel",
      "state": {}
     },
     "f7002b1a326141408dabcb4d0bd26130": {
      "model_module": "@jupyter-widgets/controls",
      "model_module_version": "2.0.0",
      "model_name": "FloatProgressModel",
      "state": {
       "bar_style": "success",
       "layout": "IPY_MODEL_3cb8d77dbfc14b5aa10df2f8e46f15b9",
       "max": 1064,
       "style": "IPY_MODEL_f4f0c7575e4a4bedb8ae8a0b7a2b356c",
       "value": 1064
      }
     },
     "fa5054e2068e452088c96c1cfaf199bd": {
      "model_module": "@jupyter-widgets/base",
      "model_module_version": "2.0.0",
      "model_name": "LayoutModel",
      "state": {}
     },
     "fed822385ee54e9590707db0d743be51": {
      "model_module": "@jupyter-widgets/controls",
      "model_module_version": "2.0.0",
      "model_name": "HTMLModel",
      "state": {
       "layout": "IPY_MODEL_233dc1867e9842f8a2b2a4f05b7c496d",
       "style": "IPY_MODEL_680618c0ecd64a4ca4fa4bf90b3677e4",
       "value": " 7.39k/7.39k [00:00&lt;00:00, 231kB/s]"
      }
     },
     "ff60ebc5a43047d3a2654ebf47fc4756": {
      "model_module": "@jupyter-widgets/controls",
      "model_module_version": "2.0.0",
      "model_name": "HTMLModel",
      "state": {
       "layout": "IPY_MODEL_972799af433343a88c21f96d5fc225cb",
       "style": "IPY_MODEL_a26d6b0fecfd4ed2867a437dd58061a6",
       "value": " 1.06k/1.06k [00:00&lt;00:00, 13.6kB/s]"
      }
     },
     "ff618268cb7c4a9eae64a37bd342211f": {
      "model_module": "@jupyter-widgets/controls",
      "model_module_version": "2.0.0",
      "model_name": "HTMLStyleModel",
      "state": {
       "description_width": "",
       "font_size": null,
       "text_color": null
      }
     }
    },
    "version_major": 2,
    "version_minor": 0
   }
  }
 },
 "nbformat": 4,
 "nbformat_minor": 4
}
