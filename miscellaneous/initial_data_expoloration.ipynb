{
 "cells": [
  {
   "cell_type": "markdown",
   "metadata": {},
   "source": [
    "# SEC EDGAR API Example Notebook\n",
    "\n",
    "This notebook provides examples for interacting with the SEC EDGAR API. This is using Apple as an example."
   ]
  },
  {
   "cell_type": "markdown",
   "metadata": {},
   "source": [
    "## Submissions Endpoint\n",
    "\n",
    "The submissions endpoint returns a company’s filing history based on their 10-digit CIK."
   ]
  },
  {
   "cell_type": "code",
   "execution_count": 21,
   "metadata": {},
   "outputs": [
    {
     "name": "stdout",
     "output_type": "stream",
     "text": [
      "Submissions data retrieved and saved to apple_filings.json\n"
     ]
    }
   ],
   "source": [
    "import requests\n",
    "import json\n",
    "\n",
    "SEC_EDGAR = \"data/SEC_EDGAR\"\n",
    "\n",
    "# Set the User-Agent header to identify the requesting party.\n",
    "headers = {\n",
    "    \"User-Agent\": \"Zain Ali (zali@sandiego.edu)\",\n",
    "    \"Accept-Encoding\": \"gzip, deflate\",\n",
    "    \"Host\": \"data.sec.gov\"\n",
    "}\n",
    "\n",
    "# Example: Retrieve filing history for Apple Inc.\n",
    "cik = \"0000320193\"  # Apple's 10-digit CIK (padded with zeros if necessary)\n",
    "url = f\"https://data.sec.gov/submissions/CIK{cik}.json\"\n",
    "\n",
    "response = requests.get(url, headers=headers)\n",
    "\n",
    "if response.status_code == 200:\n",
    "    filings_data = response.json()\n",
    "    # Optionally, save the data to a file\n",
    "    with open(SEC_EDGAR+\"/apple_filings.json\", \"w\") as f:\n",
    "        json.dump(filings_data, f, indent=4)\n",
    "    print(\"Submissions data retrieved and saved to apple_filings.json\")\n",
    "else:\n",
    "    print(f\"Error retrieving submissions data: {response.status_code}\")"
   ]
  },
  {
   "cell_type": "markdown",
   "metadata": {},
   "source": [
    "## XBRL CompanyConcept Endpoint\n",
    "\n",
    "This endpoint returns disclosures for a specified company and concept according to the given taxonomy."
   ]
  },
  {
   "cell_type": "code",
   "execution_count": 22,
   "metadata": {},
   "outputs": [
    {
     "name": "stdout",
     "output_type": "stream",
     "text": [
      "Company concept data retrieved and saved to apple_accounts_payable_current.json\n"
     ]
    }
   ],
   "source": [
    "headers = {\n",
    "    \"User-Agent\": \"Zain Ali (zali@sandiego.edu)\",\n",
    "    \"Accept-Encoding\": \"gzip, deflate\",\n",
    "    \"Host\": \"data.sec.gov\"\n",
    "}\n",
    "\n",
    "# Example: Retrieve the XBRL disclosure for \"AccountsPayableCurrent\" under \"us-gaap\" for Apple Inc.\n",
    "cik = \"0000320193\"\n",
    "taxonomy = \"us-gaap\"\n",
    "concept = \"AccountsPayableCurrent\"\n",
    "\n",
    "url = f\"https://data.sec.gov/api/xbrl/companyconcept/CIK{cik}/{taxonomy}/{concept}.json\"\n",
    "\n",
    "response = requests.get(url, headers=headers)\n",
    "\n",
    "if response.status_code == 200:\n",
    "    concept_data = response.json()\n",
    "    with open(SEC_EDGAR+\"/apple_accounts_payable_current.json\", \"w\") as f:\n",
    "        json.dump(concept_data, f, indent=4)\n",
    "    print(\"Company concept data retrieved and saved to apple_accounts_payable_current.json\")\n",
    "else:\n",
    "    print(f\"Error retrieving company concept data: {response.status_code}\")"
   ]
  },
  {
   "cell_type": "markdown",
   "metadata": {},
   "source": [
    "## XBRL CompanyFacts Endpoint\n",
    "\n",
    "This endpoint aggregates all company XBRL concept data into a single JSON object."
   ]
  },
  {
   "cell_type": "code",
   "execution_count": 23,
   "metadata": {},
   "outputs": [
    {
     "name": "stdout",
     "output_type": "stream",
     "text": [
      "Company facts data retrieved and saved to apple_company_facts.json\n"
     ]
    }
   ],
   "source": [
    "headers = {\n",
    "    \"User-Agent\": \"Zain Ali (zali@sandiego.edu)\",\n",
    "    \"Accept-Encoding\": \"gzip, deflate\",\n",
    "    \"Host\": \"data.sec.gov\"\n",
    "}\n",
    "\n",
    "# Example: Retrieve complete XBRL facts data for Apple Inc.\n",
    "cik = \"0000320193\"\n",
    "url = f\"https://data.sec.gov/api/xbrl/companyfacts/CIK{cik}.json\"\n",
    "\n",
    "response = requests.get(url, headers=headers)\n",
    "\n",
    "if response.status_code == 200:\n",
    "    company_facts = response.json()\n",
    "    with open(SEC_EDGAR+\"/apple_company_facts.json\", \"w\") as f:\n",
    "        json.dump(company_facts, f, indent=4)\n",
    "    print(\"Company facts data retrieved and saved to apple_company_facts.json\")\n",
    "else:\n",
    "    print(f\"Error retrieving company facts data: {response.status_code}\")"
   ]
  },
  {
   "cell_type": "markdown",
   "metadata": {},
   "source": [
    "## XBRL Frames Endpoint\n",
    "\n",
    "This endpoint returns frame data by aggregating one fact per filing for a specific concept and period."
   ]
  },
  {
   "cell_type": "code",
   "execution_count": 24,
   "metadata": {},
   "outputs": [
    {
     "name": "stdout",
     "output_type": "stream",
     "text": [
      "Frame data retrieved and saved to accounts_payable_frame.json\n"
     ]
    }
   ],
   "source": [
    "headers = {\n",
    "    \"User-Agent\": \"Zain Ali (zali@sandiego.edu)\",\n",
    "    \"Accept-Encoding\": \"gzip, deflate\",\n",
    "    \"Host\": \"data.sec.gov\"\n",
    "}\n",
    "\n",
    "# Example: Retrieve frame data for \"AccountsPayableCurrent\" (us-gaap) in USD for period CY2019Q1I.\n",
    "taxonomy = \"us-gaap\"\n",
    "concept = \"AccountsPayableCurrent\"\n",
    "unit = \"USD\"\n",
    "period = \"CY2019Q1I\"  # Instantaneous data for Q1 of 2019\n",
    "\n",
    "url = f\"https://data.sec.gov/api/xbrl/frames/{taxonomy}/{concept}/{unit}/{period}.json\"\n",
    "\n",
    "response = requests.get(url, headers=headers)\n",
    "\n",
    "if response.status_code == 200:\n",
    "    frame_data = response.json()\n",
    "    with open(SEC_EDGAR+\"/accounts_payable_frame.json\", \"w\") as f:\n",
    "        json.dump(frame_data, f, indent=4)\n",
    "    print(\"Frame data retrieved and saved to accounts_payable_frame.json\")\n",
    "else:\n",
    "    print(f\"Error retrieving frame data: {response.status_code}\")"
   ]
  },
  {
   "cell_type": "markdown",
   "metadata": {},
   "source": [
    "# federalregister.gov Docs"
   ]
  },
  {
   "cell_type": "code",
   "execution_count": 25,
   "metadata": {},
   "outputs": [
    {
     "name": "stdout",
     "output_type": "stream",
     "text": [
      "Performing test: environment_search with search term: environment\n",
      "API call successful.\n",
      "Response saved to data/federalregister/environment_search/response_20250121_001825.json\n",
      "Performing test: health_search with search term: healthcare\n",
      "API call successful.\n",
      "Response saved to data/federalregister/health_search/response_20250121_001825.json\n"
     ]
    }
   ],
   "source": [
    "import os\n",
    "import requests\n",
    "import json\n",
    "import datetime\n",
    "\n",
    "\n",
    "federalregister = \"data/federalregister\"\n",
    "\n",
    "def save_response_to_file(test_name, data):\n",
    "    \"\"\"\n",
    "    Saves the JSON data to a file in a directory named after the test.\n",
    "    Each file is timestamped.\n",
    "    \"\"\"\n",
    "    # Define the base directory\n",
    "    base_dir = federalregister\n",
    "    # Create a test-specific directory\n",
    "    test_dir = os.path.join(base_dir, test_name)\n",
    "    os.makedirs(test_dir, exist_ok=True)\n",
    "    \n",
    "    # Create a filename using the current timestamp\n",
    "    timestamp = datetime.datetime.now().strftime(\"%Y%m%d_%H%M%S\")\n",
    "    filename = os.path.join(test_dir, f\"response_{timestamp}.json\")\n",
    "    \n",
    "    # Save the data as a JSON file\n",
    "    with open(filename, \"w\") as f:\n",
    "        json.dump(data, f, indent=2)\n",
    "    \n",
    "    print(f\"Response saved to {filename}\")\n",
    "\n",
    "def query_federal_register(search_term, per_page=5):\n",
    "    \"\"\"\n",
    "    Queries the Federal Register API using a search term.\n",
    "    Adjusted to avoid invalid parameters.\n",
    "    \"\"\"\n",
    "    base_url = \"https://www.federalregister.gov/api/v1/documents.json\"\n",
    "    \n",
    "    # Use 'q' for a general text search instead of using conditions[topics][] \n",
    "    params = {\n",
    "        \"q\": search_term,\n",
    "        \"per_page\": per_page,\n",
    "        \"order\": \"newest\"\n",
    "    }\n",
    "    \n",
    "    try:\n",
    "        response = requests.get(base_url, params=params)\n",
    "        response.raise_for_status()  # Raises an error for status codes 4xx/5xx\n",
    "        data = response.json()\n",
    "        print(\"API call successful.\")\n",
    "        return data\n",
    "        \n",
    "    except requests.HTTPError as http_err:\n",
    "        # Print HTTP error details and return an error dictionary\n",
    "        print(f\"HTTP error occurred: {http_err}\")\n",
    "        try:\n",
    "            error_data = response.json()\n",
    "        except Exception:\n",
    "            error_data = {\"error\": \"Failed to parse error details\"}\n",
    "        return error_data\n",
    "    except Exception as err:\n",
    "        # Catch any other exceptions\n",
    "        print(f\"An error occurred: {err}\")\n",
    "        return {\"error\": str(err)}\n",
    "\n",
    "if __name__ == \"__main__\":\n",
    "    # Example usage:\n",
    "    tests = [\n",
    "        {\"name\": \"environment_search\", \"search_term\": \"environment\"},\n",
    "        {\"name\": \"health_search\", \"search_term\": \"healthcare\"}\n",
    "    ]\n",
    "    \n",
    "    for test in tests:\n",
    "        print(f\"Performing test: {test['name']} with search term: {test['search_term']}\")\n",
    "        result = query_federal_register(test['search_term'], per_page=5)\n",
    "        # Save the result for this test in its own directory\n",
    "        save_response_to_file(test['name'], result)\n"
   ]
  },
  {
   "cell_type": "markdown",
   "metadata": {},
   "source": [
    "# U.S. Legal Data Retrieval Using the govinfo API\n",
    "\n",
    "**Overview:**  \n",
    "This notebook demonstrates how to programmatically retrieve legal documents and related metadata from the govinfo API.  \n",
    "\n",
    "**API Key Setup:**  \n",
    "To use the govinfo API you must register for an API key at [https://www.govinfo.gov/api-signup](https://www.govinfo.gov/api-signup). After registration, replace `<YOUR_API_KEY_HERE>` in the code with your actual API key.\n",
    "\n",
    "**Project Goals:**  \n",
    "- Automate the retrieval of U.S. legal data for compliance risk analysis.  \n",
    "- Collect and store data to support automated identification of missing clauses, ambiguous language, or other compliance risks.\n",
    "\n",
    "**Non-Goals:**  \n",
    "- The notebook does not generate legal documents or replace legal professionals’ judgment.\n",
    "\n",
    "**Data Storage:**  \n",
    "Downloaded files are saved in a structured directory under `data/` for further preprocessing and ML analysis.\n",
    "\n",
    "## Utility Functions\n",
    "\n",
    "Create directories if they do not exist and save JSON data with timestamped filenames."
   ]
  },
  {
   "cell_type": "code",
   "execution_count": 29,
   "metadata": {},
   "outputs": [],
   "source": [
    "govinfo = \"data/govinfo\"\n",
    "\n",
    "def ensure_dir(directory):\n",
    "    \"\"\"Ensure that a directory exists.\"\"\"\n",
    "    if not os.path.exists(directory):\n",
    "        os.makedirs(directory)\n",
    "\n",
    "def save_data(output_dir, data, filename_prefix):\n",
    "    \"\"\"Save JSON data into a file with a timestamp in the filename.\"\"\"\n",
    "    ensure_dir(output_dir)\n",
    "    timestamp = datetime.now().strftime(\"%Y%m%d_%H%M%S\")\n",
    "    filepath = os.path.join(output_dir, f\"{filename_prefix}_{timestamp}.json\")\n",
    "    with open(filepath, 'w', encoding='utf-8') as f:\n",
    "        json.dump(data, f, indent=4)\n",
    "    print(f\"Data saved to {filepath}\")"
   ]
  },
  {
   "cell_type": "markdown",
   "metadata": {},
   "source": [
    "## API Key Setup\n",
    "\n",
    "Replace `<YOUR_API_KEY_HERE>` with your actual API key.\n",
    "\n",
    "**Getting an API Key:**  \n",
    "Visit [https://www.govinfo.gov/api-signup](https://www.govinfo.gov/api-signup) and follow the instructions to sign up. Once you receive your API key, update the code below.\n"
   ]
  },
  {
   "cell_type": "code",
   "execution_count": 11,
   "metadata": {},
   "outputs": [],
   "source": [
    "API_KEY = \"\""
   ]
  },
  {
   "cell_type": "markdown",
   "metadata": {},
   "source": [
    "\n",
    "## Sample 1: Retrieve Collections\n",
    "\n",
    "The govinfo API allows you to retrieve a list of collections. For example, the **Collections Service** endpoint returns all available collections along with metadata such as `collectionCode`, `collectionName`, `packageCount`, and `granuleCount`.\n",
    "\n",
    "**Example request:**  \n",
    "```\n",
    "https://api.govinfo.gov/collections?api_key=API_KEY\n",
    "```"
   ]
  },
  {
   "cell_type": "code",
   "execution_count": 31,
   "metadata": {},
   "outputs": [
    {
     "name": "stdout",
     "output_type": "stream",
     "text": [
      "Fetching collections list...\n",
      "Data saved to data/govinfo/collections/collections_20250121_002155.json\n"
     ]
    }
   ],
   "source": [
    "import os\n",
    "import requests\n",
    "import json\n",
    "import time\n",
    "import datetime  # Import the full datetime module\n",
    "\n",
    "def ensure_dir(directory):\n",
    "    \"\"\"Ensure that a directory exists.\"\"\"\n",
    "    if not os.path.exists(directory):\n",
    "        os.makedirs(directory)\n",
    "\n",
    "def save_data(output_dir, data, filename_prefix):\n",
    "    \"\"\"Save JSON data into a file with a timestamp in the filename.\"\"\"\n",
    "    ensure_dir(output_dir)\n",
    "    timestamp = datetime.datetime.now().strftime(\"%Y%m%d_%H%M%S\")\n",
    "    filepath = os.path.join(output_dir, f\"{filename_prefix}_{timestamp}.json\")\n",
    "    with open(filepath, 'w', encoding='utf-8') as f:\n",
    "        json.dump(data, f, indent=4)\n",
    "    print(f\"Data saved to {filepath}\")\n",
    "\n",
    "def retrieve_collections(api_key):\n",
    "    \"\"\"\n",
    "    Retrieve the list of collections available from the govinfo API.\n",
    "    \"\"\"\n",
    "    base_url = \"https://api.govinfo.gov/collections\"\n",
    "    params = {\n",
    "        \"api_key\": api_key\n",
    "    }\n",
    "    try:\n",
    "        print(\"Fetching collections list...\")\n",
    "        response = requests.get(base_url, params=params)\n",
    "        response.raise_for_status()\n",
    "        data = response.json()\n",
    "        save_data(os.path.join(govinfo,\"collections\"), data, \"collections\")\n",
    "        return data\n",
    "    except requests.RequestException as e:\n",
    "        print(f\"Error retrieving collections data: {e}\")\n",
    "        return None\n",
    "\n",
    "# Retrieve collections\n",
    "collections_data = retrieve_collections(API_KEY)\n"
   ]
  },
  {
   "cell_type": "markdown",
   "metadata": {},
   "source": [
    "\n",
    "## Sample 2: Retrieve Collection Updates (e.g., Congressional Bills)\n",
    "\n",
    "Use the Collections Service endpoint to fetch package IDs that have been added or modified. In this example, we fetch data for the **BILLS** collection with a specified start date.\n",
    "\n",
    "The URL format is:  \n",
    "```\n",
    "https://api.govinfo.gov/collections/BILLS/<lastModifiedStartDate>/[<lastModifiedEndDate>?]offsetMark=*&pageSize=<pageSize>&api_key=API_KEY\n",
    "```\n",
    "\n",
    "We will use the `offsetMark` for pagination. The initial value is `*` and each response provides the `nextPage` offsetMark.\n"
   ]
  },
  {
   "cell_type": "code",
   "execution_count": 33,
   "metadata": {},
   "outputs": [
    {
     "name": "stdout",
     "output_type": "stream",
     "text": [
      "Fetching page 1 for collection 'BILLS'...\n",
      "Fetching page 2 for collection 'BILLS'...\n",
      "Error on page 2: 500 Server Error: Internal Server Error for url: https://api.govinfo.gov/collections/BILLS/2023-01-01T00:00:00Z?offsetMark=https%3A%2F%2Fapi.govinfo.gov%2Fcollections%2FBILLS%2F2023-01-01T00%3A00%3A00Z%3FoffsetMark%3DAoJw2qnltJQDMkJJTExTLTExOGhyMTAzNjNpaA%253D%253D%26pageSize%3D100&pageSize=100&api_key=C5a4DywZ0kYJYQheZQLalaRhgaPTz4fyaiap1WOG\n",
      "Data saved to data/govinfo/collection_updates/BILLS/BILLS_updates_20250121_002345.json\n"
     ]
    }
   ],
   "source": [
    "import os\n",
    "import requests\n",
    "import json\n",
    "import time\n",
    "import datetime  # Import the full datetime module\n",
    "\n",
    "def ensure_dir(directory):\n",
    "    \"\"\"Ensure that a directory exists.\"\"\"\n",
    "    if not os.path.exists(directory):\n",
    "        os.makedirs(directory)\n",
    "\n",
    "def save_data(output_dir, data, filename_prefix):\n",
    "    \"\"\"Save JSON data into a file with a timestamp in the filename.\"\"\"\n",
    "    ensure_dir(output_dir)\n",
    "    timestamp = datetime.datetime.now().strftime(\"%Y%m%d_%H%M%S\")\n",
    "    filepath = os.path.join(output_dir, f\"{filename_prefix}_{timestamp}.json\")\n",
    "    with open(filepath, 'w', encoding='utf-8') as f:\n",
    "        json.dump(data, f, indent=4)\n",
    "    print(f\"Data saved to {filepath}\")\n",
    "\n",
    "def retrieve_collection_updates(collection_code, start_date, end_date=None, page_size=100):\n",
    "    \"\"\"\n",
    "    Retrieve package IDs for a specific collection (e.g., BILLS) updated after start_date.\n",
    "    You can optionally provide an end_date.\n",
    "    \n",
    "    Parameters:\n",
    "    - collection_code: e.g., \"BILLS\"\n",
    "    - start_date: in ISO8601 format, e.g., \"2023-01-01T00:00:00Z\"\n",
    "    - end_date: in ISO8601 format or None\n",
    "    - page_size: number of records per request (max 1000)\n",
    "    \"\"\"\n",
    "    base_url = f\"https://api.govinfo.gov/collections/{collection_code}\"\n",
    "    \n",
    "    # Build the URL based on whether end_date is provided\n",
    "    if end_date:\n",
    "        base_url = f\"{base_url}/{start_date}/{end_date}\"\n",
    "    else:\n",
    "        base_url = f\"{base_url}/{start_date}\"\n",
    "    \n",
    "    offset_mark = \"*\"\n",
    "    all_packages = []\n",
    "    iteration = 0\n",
    "    \n",
    "    while offset_mark:\n",
    "        params = {\n",
    "            \"offsetMark\": offset_mark,\n",
    "            \"pageSize\": page_size,\n",
    "            \"api_key\": API_KEY\n",
    "        }\n",
    "        try:\n",
    "            iteration += 1\n",
    "            print(f\"Fetching page {iteration} for collection '{collection_code}'...\")\n",
    "            response = requests.get(base_url, params=params)\n",
    "            response.raise_for_status()\n",
    "            data = response.json()\n",
    "            \n",
    "            # Append package data to the list (assumes data might be under a 'packages' key)\n",
    "            if \"packages\" in data:\n",
    "                all_packages.extend(data[\"packages\"])\n",
    "            else:\n",
    "                all_packages.append(data)\n",
    "                \n",
    "            # Get the next offsetMark from the response if available\n",
    "            next_offset = data.get(\"nextPage\")\n",
    "            if next_offset and next_offset != offset_mark:\n",
    "                offset_mark = next_offset\n",
    "            else:\n",
    "                offset_mark = None\n",
    "\n",
    "            # Respect rate limits: slight sleep between requests.\n",
    "            time.sleep(1)\n",
    "        except requests.RequestException as e:\n",
    "            print(f\"Error on page {iteration}: {e}\")\n",
    "            break\n",
    "\n",
    "    # Save collected updates to data/collection_updates/{collection_code}\n",
    "    output_dir = os.path.join(govinfo, \"collection_updates\", collection_code)\n",
    "    save_data(output_dir, all_packages, f\"{collection_code}_updates\")\n",
    "    return all_packages\n",
    "\n",
    "\n",
    "# Example: Retrieve updates for Congressional Bills (BILLS) starting from January 1, 2023\n",
    "bills_updates = retrieve_collection_updates(\"BILLS\", \"2023-01-01T00:00:00Z\")\n"
   ]
  },
  {
   "cell_type": "markdown",
   "metadata": {},
   "source": [
    "\n",
    "## Sample 3: Retrieve Package Summaries\n",
    "\n",
    "Once you have a package ID (for example, from the previous collection update), you can retrieve detailed metadata for that package using the **Packages Service**.\n",
    "\n",
    "**Example URL:**  \n",
    "```\n",
    "https://api.govinfo.gov/packages/BILLS-115hr1625enr/summary?api_key=API_KEY\n",
    "```\n",
    "\n",
    "The function below retrieves a package summary for a given package ID."
   ]
  },
  {
   "cell_type": "code",
   "execution_count": 32,
   "metadata": {},
   "outputs": [
    {
     "name": "stdout",
     "output_type": "stream",
     "text": [
      "Fetching summary for package: BILLS-115hr1625enr\n",
      "Data saved to data/govinfo/package_summaries/BILLS-115hr1625enr/package_summary_20250121_002224.json\n"
     ]
    }
   ],
   "source": [
    "def retrieve_package_summary(package_id):\n",
    "    \"\"\"\n",
    "    Retrieve package summary for the given package_id.\n",
    "    \"\"\"\n",
    "    base_url = f\"https://api.govinfo.gov/packages/{package_id}/summary\"\n",
    "    params = {\n",
    "        \"api_key\": API_KEY\n",
    "    }\n",
    "    try:\n",
    "        print(f\"Fetching summary for package: {package_id}\")\n",
    "        response = requests.get(base_url, params=params)\n",
    "        response.raise_for_status()\n",
    "        data = response.json()\n",
    "        \n",
    "        # Save package summary into its own folder\n",
    "        output_dir = os.path.join(govinfo, f\"package_summaries/{package_id}\")\n",
    "        save_data(output_dir, data, \"package_summary\")\n",
    "        return data\n",
    "    except requests.RequestException as e:\n",
    "        print(f\"Error retrieving summary for {package_id}: {e}\")\n",
    "        return None\n",
    "\n",
    "# Retrieve a package summary example.\n",
    "# Replace 'BILLS-115hr1625enr' with an actual package id obtained from the collection updates if available.\n",
    "package_summary = retrieve_package_summary(\"BILLS-115hr1625enr\")\n"
   ]
  }
 ],
 "metadata": {
  "kernelspec": {
   "display_name": "Python 3",
   "language": "python",
   "name": "python3"
  },
  "language_info": {
   "codemirror_mode": {
    "name": "ipython",
    "version": 3
   },
   "file_extension": ".py",
   "mimetype": "text/x-python",
   "name": "python",
   "nbconvert_exporter": "python",
   "pygments_lexer": "ipython3",
   "version": "3.9.6"
  }
 },
 "nbformat": 4,
 "nbformat_minor": 4
}
