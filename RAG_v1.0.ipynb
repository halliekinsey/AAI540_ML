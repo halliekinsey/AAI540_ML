{
 "cells": [
  {
   "cell_type": "code",
   "execution_count": 1,
   "metadata": {},
   "outputs": [],
   "source": [
    "# Manually setting keys while env is acting up - REMOVE BEFORE PUSH \n",
    "import os\n",
    "\n",
    "os.environ[\"OPENAI_API_KEY\"] = \"HOLDER\"\n",
    "os.environ[\"PINECONE_API_KEY\"] = \"HOLDER\""
   ]
  },
  {
   "cell_type": "code",
   "execution_count": 2,
   "metadata": {},
   "outputs": [
    {
     "name": "stdout",
     "output_type": "stream",
     "text": [
      "Loaded 7 markdown files.\n",
      "Sample document: {'file_name': 'w9.md', 'content': '# Instructions for the Internal Revenue Service\\n\\n# Requester of Form W-9 (Rev. March 2024)\\n\\n# Request for Taxpayer Identification Number and Certification\\n\\nSection references are to the Internal Revenue Code unless otherwise noted.\\n\\n# Future Developments\\n\\nFor the latest developments related to Form W-9 and its instructions, such as legislation enacted after they were published, go to IRS.gov/FormW9.\\n\\n# What’s New\\n\\nLine 3a. We clarified that a Limited Liability Company (LLC) that is a disregarded entity should fill out line 3a by checking the appropriate box for the tax classification of its owner in the first row on line 3a. We also added guidance that provides clarity for disregarded entities completing lines 1 and 2. For proper processing, information for disregarded entities is reported as the owner’s name on line 1, and the disregarded entity’s name is entered on line 2.\\n\\nFor an LLC that is not disregarded, line 3a has a single box to check and available entry space for the LLC to notate the proper tax classification as corporation, S corporation, or partnership (C, S, or P).\\n\\nWe updated the Note in line 3a to emphasize this distinction for LLCs.\\n\\nLine 3b. A new line has been added for partnerships (including limited liability companies (LLCs) classified as partnerships for U.S. federal tax purposes), trusts, or estates to indicate if they have foreign partners, owners, or beneficiaries when providing this form to a flow-through entity in which it owns an interest. This change provides the flow-through entity with information regarding the status of its indirect foreign partners, owners, or beneficiaries, so that it can satisfy any applicable reporting requirements.\\n\\nYou are only required to verify that the box on line 3b has been properly checked if you are a flow-through entity that is otherwise required to obtain a new Form W-9 from your partner, owner, or beneficiary. You may rely on the information provided on line 3b unless you know that it is incorrect. If line 3b is completed (or if it has not been completed and you know that this is incorrect), you may be required to report on Schedules K-2 and K-3 (Form 1065) or otherwise provide the relevant information to your partner, owner, or beneficiary. See Partnership Instructions for Schedules K-2 and K-3 (Form 1065).\\n\\n# Reminders\\n\\nBackup withholding rate. The backup withholding rate is 24% for reportable payments.\\n\\nForeign Account Tax Compliance Act (FATCA) and backup withholding exemptions. FATCA requires a participating foreign financial institution (FFI) to report all U.S. account holders that are specified U.S. persons (generally individuals, partnerships, S corporations, LLCs and certain estates and trusts). Form W-9 has space to enter an Exempt payee code (if any) and Exemption from FATCA Reporting Code (if any). The references for the appropriate codes are in the Exemptions section of Form W-9, and in the Payees and Account Holders Exempt From FATCA Reporting section of these instructions.\\n\\nThe Certification section in Part II of Form W-9 includes certification relating to FATCA reporting.\\n\\nDifferences in chapter 3 and chapter 4. Withholding on certain U.S. source reportable payments under chapter 3 is different than withholding on certain withholdable payments to foreign entities that fail to report U.S. owners and account holders under chapter 4. These instructions cover the basics. A review of Pub. 515, Withholding of Tax on Nonresident Aliens and Foreign Entities, is essential to learn details associated with backup withholding not covered here.\\n\\n# Purpose\\n\\nChapter 3 provides that non-U.S. persons, whether individuals or entities, are subject to tax on their income that is effectively connected to a U.S. trade or business. A properly completed and signed Form W-9 can be relied upon to avoid backup withholding to a payee. However, a payor of certain information return reportable payments is subject to the withholding requirements under section 3406 (backup withholding), if:\\n\\n• Transfers of interests in publicly traded partnerships (PTPs) under section 1446(f);\\n\\n• Distributions made by PTPs (PTP distributions); and\\n\\nMar 11, 2024\\n\\nCat. No. 20479P\\n\\nDepartment of the Treasury\\n---\\n# 1. A payee fails to furnish a taxpayer identification number (TIN);\\n\\n# 2. IRS provides notification that a payee\\'s TIN is incorrect;\\n\\n# 3. There has been a notified payee underreporting of payments of interest or dividends; or\\n\\n# 4. There has been a payee failure to certify that the payee is not subject to backup withholding.\\n\\nA payor must deduct, withhold, and deposit with IRS 24% of reportable payments made to that payee until the cause of the backup withholding is remedied.\\n\\n# Backup withholding liability.\\n\\nIf you don’t collect backup withholding from affected payees as required, you may become liable for any uncollected amount.\\n\\n# Chapter 4.\\n\\nFor chapter 4 purposes, Form W-9 is used to withhold on payments to foreign financial institutions (FFI) and non-financial foreign entities (NFFE) if they don\\'t report all specified U.S. account holders. If an account holder fails to provide its TIN, then the withholding rate is 30%.\\n\\n# TIN matching e-services.\\n\\nThe IRS website offers TIN matching e-services for certain payors to validate name and TIN combinations. See Taxpayer Identification Number (TIN) Matching, later.\\n\\n# Background. Chapter 3\\n\\nSection 1446(f) generally requires that if a portion of a gain on any disposition of an interest in a partnership would be treated under section 864(c)(8) as effectively connected income (ECI), the transferee purchasing an interest from a non-U.S. transferor must withhold a tax equal to 10% of the amount realized, unless an exception applies. The amount of gain or loss treated as ECI is equal to the distributive share of ECI that would be allocated to the transferring partner if the partnership sold all of its assets as of the date of the transfer. (The partner is deemed to have sold its proportionate share of the assets the partnership uses in its U.S. trade or business.) If a partnership also holds one or more U.S. real property interests, at the time of the disposition of the interest, the gain or loss treated as ECI is figured under Regulations section 1.864(c)(8)-1(c).\\n\\nGenerally, a presumption of foreign status is required if a properly completed and signed Form W-9 is not received. A payee may rebut any presumption by providing reliable documentation to the withholding agent or, if applicable, to the IRS.\\n\\nIf the transferor furnishes an affidavit stating, under penalty of perjury, the transferor\\'s U.S. TIN and that the transferor is not a foreign person, then no withholding is required for a disposition. Withholding is required if the transferee has actual knowledge that the affidavit is false, or the transferee receives a notice from an agent that the statement is false, or the IRS requires the transferee to furnish a copy of the affidavit/statement and the transferee fails to furnish a copy.\\n\\nIf the transferee fails to withhold, the partnership is required to withhold from distributions to the transferee a tax (equal to the amount the transferee failed to withhold, plus interest). See generally T.D. 9926.\\n\\n# Background. Chapter 4\\n\\nU.S. persons are subject to tax on worldwide income from all sources including income generated outside of the United States. It is not illegal or improper for U.S. taxpayers to own offshore structures, accounts, or assets. However, taxpayers must comply with income tax and information reporting requirements associated with these offshore activities.\\n\\nThe Foreign Account Tax Compliance Act (FATCA) of 2010 aims at getting information regarding account holders of foreign financial institutions (FFIs), and the substantial U.S. owners of certain foreign entities (more than a 10% ownership interest). A withholding agent must withhold 30% of any withholdable payment (with certain exceptions) to an FFI or non-financial foreign entity (NFFE) that fails to provide documentation that the withholding agent may rely upon to treat the payment as exempt or that fails to provide a certification that it does not have any substantial U.S. owners. See sections 1471 through 1474.\\n\\nWith a model 1 or 2 intergovernmental agreement (IGA), reporting FFIs must identify U.S. accounts and report information about U.S. account holders.\\n\\nIf a withholding agent makes a payment to a person that is not the payee, the withholding agent will be required to determine the chapter 4 status of each intermediary or flow-through entity in the payment chain until the withholding agent is able to identify the payee. Standards for determining when a withholding agent will be considered to have reason to know that a claim of exemption from withholding is unreliable or incorrect are outlined in Regulations section 1.1471-3(e)(4).\\n\\nSee Regulations section 1.1471-3 for details regarding presumptions, valid documentation to determine payee status, and consequences for an agent that fails to withhold in accordance with the presumptions or that has actual knowledge or reason to know facts contrary to the presumptions. For information on exempt payees, see Payees and Account Holders Exempt From FATCA Reporting, later.\\n\\n# Individual Taxpayer Identification Number (ITIN)\\n\\nForm W-9 (or an acceptable substitute) is used by persons required to file information returns with the IRS to get the payee\\'s (or other person\\'s) correct name and TIN. For individuals, the TIN is generally a social security number (SSN).\\n\\nHowever, in some cases, individuals who become U.S. resident aliens for federal tax purposes are not eligible to obtain an SSN. This includes certain resident aliens who must receive information returns but who cannot obtain an SSN.\\n\\nThese individuals must apply for an ITIN on Form W-7, Application for IRS Individual Taxpayer Identification Number, unless they have an application pending for an SSN. Individuals who have an ITIN must provide it on Form W-9.\\n\\nNote. ITINs that haven’t been included on a U.S. federal tax return at least once in the last 3 consecutive tax years will expire. Expired ITINs must be renewed in order to avoid delays in processing the ITIN holder’s tax return. If the IRS deactivates the ITIN because it has expired, the ITIN may still be used on Form W-9. However, the ITIN holder will have to apply to renew the deactivated ITIN if there is a need to file a tax return. For more information, see the Instructions for Form W-7.\\n\\n# Substitute Form W-9\\n\\nYou may develop and use your own Form W-9 (a substitute Form W-9) if its content is substantially similar to the official IRS Form W-9 and it satisfies certain certification requirements.\\n\\nA valid Form W-9, or a substitute form, must contain the payee\\'s name and TIN and be signed and dated under penalties of perjury by the payee or a person authorized to sign for the payee. A foreign person, including a U.S. branch of a foreign person that is treated as a U.S. person under Regulations section 1.1441-1(b)(2)(iv) or a foreign branch of a U.S. financial institution that is a QI, may not provide a Form W-9.\\n\\nYou may incorporate a substitute Form W-9 into other business forms you customarily use, such as account signature cards. However, the certifications on the substitute Form W-9\\n---\\nmust clearly state (as shown on the official Form W-9) that under penalties of perjury:\\n\\n1. The payee\\'s TIN is correct,\\n2. The payee is not subject to backup withholding due to failure to report interest and dividend income,\\n3. The payee is a U.S. person, and\\n4. The FATCA code entered on this form (if any) indicating that the payee is exempt from FATCA reporting is correct.\\n\\nYou may provide certification instructions on a substitute Form W-9 in a manner similar to the official form. If you are not collecting a FATCA exemption code by omitting that field from the substitute Form W-9, see Payees and Account Holders Exempt From FATCA Reporting, later. Notify the payee that item 4 does not apply.\\n\\nYou may not:\\n\\n1. Use a substitute Form W-9 that requires the payee, by signing, to agree to provisions unrelated to the required certifications, or\\n2. Imply that a payee may be subject to backup withholding unless the payee agrees to provisions on the substitute form that are unrelated to the required certifications.\\n\\nA substitute Form W-9 that contains a separate signature line just for the certifications satisfies the requirement that the certifications be clearly stated.\\n\\nIf a single signature line is used for the required certifications and other provisions, the certifications must be highlighted, boxed, printed in bold-face type, or presented in some other manner that causes the language to stand out from all other information contained on the substitute form. Additionally, the following statement must be presented to stand out in the same manner as described above and must appear immediately above the single signature line:\\n\\n“The IRS does not require your consent to any provision of this document other than the certifications required to avoid backup withholding.”\\n\\nIf you use a substitute form, you are required to provide the Form W-9 instructions to the payee only if he or she requests them. However, if the IRS has notified the payee that backup withholding applies, then you must instruct the payee to strike out the language in the certification that relates to underreporting. This instruction can be given orally or in writing. See item 2 of the Certification on Form W-9. You can replace “defined below” with “defined in the instructions” in item 3 of the Certification on Form W-9 when the instructions will not be provided to the payee except upon request. For more information, see Rev. Proc. 83-89,1983-2 C.B. 613, amplified by Rev. Proc. 96-26, which is on page 22 of Internal Revenue Bulletin 1996-8, available at IRS.gov/pub/irs-irbs/irb96-08.pdf.\\n\\n# TIN Applied For\\n\\nAlternative rule. You may also elect to backup withhold during this 60-day period, after a 7-day grace period, under one of the two alternative rules discussed below.\\n\\n1. Backup withhold on any reportable payments if the payee makes a withdrawal from the account after the close of 7 business days after you receive the awaiting-TIN certificate. Treat as reportable payments all cash withdrawals in an amount up to the reportable payments made from the day after you receive the awaiting-TIN certificate to the day of withdrawal.\\n2. Backup withhold on any reportable payments made to the payee\\'s account, regardless of whether the payee makes any withdrawals, beginning no later than 7 business days after you receive the awaiting-TIN certificate.\\n\\nThe 60-day exemption from backup withholding does not apply to any payment other than interest, dividends, and certain payments relating to readily tradable instruments. Any other reportable payment, such as nonemployee compensation, is subject to backup withholding immediately, even if the payee has applied for and is awaiting a TIN.\\n\\nEven if the payee gives you an awaiting-TIN certificate, you must backup withhold on reportable interest and dividend payments if the payee does not certify, under penalties of perjury, that the payee is not subject to backup withholding. If you do not collect backup withholding from affected payees as required, you may become liable for any uncollected amount.\\n\\nFor payees exempt from backup withholding, see Payees Exempt From Backup Withholding. For payments exempt from backup withholding, see Payments Exempt From Backup Withholding.\\n\\n# How Do I Know When To Use Form W-9?\\n\\nUse Form W-9 to request the taxpayer identification number (TIN) of a U.S. person (including a resident alien) and to request certain certifications and claims for exemption. (See Purpose of Form on Form W-9.) Withholding agents, defined later, may require signed Forms W-9 from U.S. exempt recipients to overcome a presumption of foreign status. For federal tax purposes, a U.S. person includes, but is not limited to:\\n\\n- An individual who is a U.S. citizen or U.S. resident alien;\\n- A partnership, corporation, company, or association created or organized in the United States or under the laws of the United States;\\n- Any estate (other than a foreign estate); or\\n- A domestic trust (as defined in Regulations section 301.7701-7).\\n\\nSubmission of a signed Form W-9 or other certification of non-foreign status may be required from a U.S. person to avoid withholding applicable to foreign persons when:\\n\\n- A withholding agent makes a reportable payment of an amount subject to withholding under sections 1441–1443 or a withholdable payment under sections 1471–1474.\\n- A transferor disposes of a U.S. real property interest and the amount realized is subject to withholding under section 1445(a).\\n- A U.S. real property holding corporation, certain real estate investment trusts (REITs), regulated investment companies (RICs), or certain partnerships makes a distribution subject to withholding under section 1445(e).\\n- A partnership is required to withhold under section 1446(a) on a partner\\'s allocable share of the partnership\\'s effectively connected taxable income.\\n- A transferor transfers an interest in a partnership engaged in a trade or business within the United States and the amount realized is subject to withholding under section 1446(f)(1).\\n\\nInstr. for Req. of Form W-9 (Rev. 3-2024)\\n---\\nGenerally, if a Form W-9 or other certification of non-foreign status has not been received, the rules under chapters 3 and 4 require the withholding agent, transferee, or partnership (payor) to presume that the recipient, owner, transferor, or partner (payee) is subject to withholding and payment of the applicable withholding tax.\\n\\nSee Pub. 515 for more information.\\n\\nA participating foreign financial institution (PFFI) should request Form W-9 from an account holder that is a U.S. person. If an account is jointly held, the PFFI should request a Form W-9 from each holder that is a U.S. person. A recalcitrant account holder is an account holder that is not an FFI and that fails to comply with documentation or information requests from an FFI in which it holds an account. In the case of such clients, PFFIs must withhold 30% on all U.S. withholdable payments as defined by the IRS FATCA regulations.\\n\\nA partnership that receives a signed Form W-9 that has box 3b checked from any of its partners, indicating that the partner has (direct or indirect) foreign partners, owners, or beneficiaries, may be required to complete Schedules K-2 and K-3 (Form 1065).\\n\\nAdvise foreign persons to use the appropriate Form W-8 or Form 8233, Exemption From Withholding on Compensation for Independent (and Certain Dependent) Personal Services of a Nonresident Alien Individual. See Pub. 515 for a list of the W-8 forms.\\n\\n# Establishing U.S. Status for Purposes of Chapter 3 and Chapter 4 Withholding\\n\\nUnder chapters 3 and 4 of the Internal Revenue Code:\\n\\n- A withholding agent that makes a payment of an amount subject to withholding or a withholdable payment to a foreign person generally must withhold and pay a withholding tax under sections 1441–1443 or 1471–1474.\\n- A transferee of a U.S. real property interest from a foreign transferor generally must withhold and pay a withholding tax under section 1445(a).\\n- A U.S. real property holding corporation, certain REITs or RICs, and certain partnerships must withhold and pay a withholding tax under section 1445(e) on certain distributions to a foreign person.\\n- A partnership that conducts a trade or business in the United States generally must withhold and pay a withholding tax under section 1446(a) on any foreign partner\\'s allocable share of effectively connected taxable income from such business.\\n- A transferee of an interest in a partnership engaged in a trade or business within the United States from a foreign transferor generally must withhold and pay a withholding tax under section 1446(f)(1).\\n\\nIn the cases below, the following person must be the one that provides the Form W-9 to the payor for purposes of establishing its non-foreign status.\\n\\n- In the case of a disregarded entity with a U.S. owner, the U.S. owner of the disregarded entity and not the disregarded entity.\\n- In the case of a grantor trust with a U.S. grantor or other U.S. owner, generally, the U.S. grantor or other U.S. owner of the grantor trust and not the grantor trust.\\n- In the case of a U.S. trust (other than a grantor trust), the U.S. trust and not the beneficiaries of the trust.\\n\\nSee Pub. 515 for more information.\\n\\n# Electronic Submission of Forms W-9\\n\\nRequesters may establish a system for payees and payees\\' agents to submit Forms W-9 electronically, including by fax. A requester is anyone required to file an information return. A payee is anyone required to provide a taxpayer identification number (TIN) to the requester. A payee is the holder of the account except if there is a QI, or a foreign person acting as agent or intermediary for a payment.\\n\\nElectronic system. Generally, the electronic system must:\\n\\n- Ensure the information received is the information sent, and document all occasions of user access that result in the submission;\\n- Make reasonably certain that the person accessing the system and submitting the form is the person identified on Form W-9, the investment advisor, or the introducing broker;\\n- Provide the same information as the paper Form W-9;\\n- Be able to supply a hard copy of the electronic Form W-9 if the IRS requests it; and\\n- Require as the final entry in the submission an electronic signature by the payee whose name is on Form W-9 that authenticates and verifies the submission. The electronic signature must be under penalties of perjury, and the perjury statement must contain the language of the paper Form W-9.\\n\\nFor Forms W-9 that are not required to be signed, the electronic system need not provide for an electronic signature or a perjury statement.\\n\\nFor more details, see:\\n\\n- Announcement 98-27, which is on page 30 of Internal Revenue Bulletin 1998-15, available at IRS.gov/pub/irs-irbs/irb98-15.pdf.\\n- Announcement 2001-91, which is on page 221 of Internal Revenue Bulletin 2001-36 at IRS.gov/pub/irs-irbs/irb01-36.pdf.\\n\\n# Responsibility of a Withholding Agent/Qualified Intermediary (QI)/Nominee\\n\\nPayee\\'s agent. A payee\\'s agent can be an investment advisor (corporation, partnership, or individual) or an introducing broker. An investment advisor must be registered with the Securities and Exchange Commission (SEC) under the Investment Advisers Act of 1940. The introducing broker is a broker-dealer that is regulated by the SEC and the Financial Industry Regulatory Authority (FINRA), and that is not a payor. Except for a broker who acts as a payee\\'s agent for “readily tradable instruments,” the advisor or broker must show in writing to the payor that the payee authorized the advisor or broker to transmit the Form W-9 to the payor.\\n\\nA withholding agent may be an individual, corporation, partnership, trust, association, or any other entity, including (but not limited to) any foreign intermediary, foreign partnership, or U.S. branch of certain foreign banks and insurance companies. If several persons qualify as withholding agents for a single payment, the tax must only be withheld once.\\n\\nA withholding agent is any person, U.S. or foreign, in whatever capacity acting, that has the control, receipt, custody, disposal, or payment of a withholdable payment or foreign pass-through payment. Generally, a withholding agent can reliably associate a withholdable payment with valid documentation if, before the payment, it has obtained (either directly from the payee or through its agent) valid documentation appropriate to the payee\\'s chapter 4 status, it can reliably determine how much of the payment relates to the valid documentation, and it does not know (or have reason to know) that any of the information, certifications, or statements in, or associated with, the documentation are unreliable or incorrect.\\n\\nA withholding agent that is making a withholdable payment to a nonqualified intermediary, for which a withholding statement is required under chapters 3 or 4, may accept a withholding statement that meets the requirements described in Regulations section 1.1471-3(c)(3). A nonqualified intermediary (NQI) is an\\n---\\nintermediary that has not entered into any agreement with the IRS, and NQIs generally do not have any obligations other than passing up information regarding the persons for whom they receive payments so that upstream withholding agents can withhold and report as required.\\n\\nA certificate or other documentation becomes invalid on the date that the withholding agent knows (or has reason to know) that circumstances affecting the correctness of the certificate or documentation have changed. See Pub. 515 for examples. For due diligence requirements applicable to withholding agents under chapter 4, see Regulations section 1.1471-3.\\n\\nThe Qualified Intermediary (QI) system is designed to simplify withholding and reporting obligations under Regulations section 1.1441-1(e)(5) and allows an FFI, or foreign branches of a U.S. financial institution, to receive favorable documentation, reporting, and withholding tax treatment. A QI must provide a withholding agent with the Forms W-9 or disclose the names, addresses, and taxpayer identifying numbers, if known, of those U.S. non-exempt recipients for whom the QI receives reportable amounts to the extent required in the QI\\'s agreement with the IRS. See Regulations section 1.1441-1(e)(5). For additional withholding and reporting provisions applicable to QIs under chapters 3 and 4, see Rev. Proc. 2022-43, available at IRS.gov/irb/2022-52_IRB#REV-PROC-2022-43.\\n\\nFor information for QIs, nominees, and brokers carrying out transfers of an interest in a PTP, see Regulations section 1.1446(f)-4. See also Notice 2023-8, available at IRS.gov/irb/2023-02_IRB#NOT-2023-8.\\n\\n# Section 1445\\n\\nFor a disposition of a U.S. real property interest, the transferee generally is required to withhold 15% of the amount realized. See Pub. 515. For definitions of a U.S. real property interest and a U.S. real property holding company, see section 897.\\n\\n# Payees Exempt From Backup Withholding\\n\\nCertain payees are exempt from backup withholding with respect to the payments below, and should enter the corresponding exempt payee code on Form W-9. You may rely on the payee’s claim of exemption unless you have actual knowledge that the exempt payee code and/or classification selected are not valid, or if they are inconsistent with each other. In that case, you may rely on the Form W-9 for purposes of obtaining the payee’s TIN, but you must treat the payee as non-exempt. If the payee failed to enter an exempt payee code, but the classification selected indicates that the payee is exempt, you may accept the classification and treat the payee as exempt unless you have actual knowledge that the classification is not valid.\\n\\nIf the payee is not exempt, you are required to backup withhold on reportable payments if the payee does not provide a TIN in the manner required or does not sign the certification, if required. Exempt payees include:\\n\\n1. An organization exempt from tax under section 501(a), any IRA, or a custodial account under section 403(b)(7) if the account satisfies the requirements of section 401(f)(2);\\n2. The United States or any of its agencies or instrumentalities;\\n3. A state, the District of Columbia, a U.S. commonwealth or territory, or any of their political subdivisions, agencies, or instrumentalities;\\n4. A foreign government or any of its political subdivisions, agencies, or instrumentalities;\\n5. A corporation;\\n6. A dealer in securities or commodities required to register in the United States, the District of Columbia, or a U.S. commonwealth or territory;\\n7. A futures commission merchant registered with the Commodity Futures Trading Commission;\\n8. A real estate investment trust;\\n9. An entity registered at all times during the tax year under the Investment Company Act of 1940;\\n10. A common trust fund operated by a bank under section 584(a);\\n11. A financial institution as defined under section 581;\\n12. A middleman known in the investment community as a nominee or custodian; or\\n13. A trust exempt from tax under section 664 or described in section 4947.\\n\\nThe following types of payments are exempt from backup withholding as indicated for payees listed in 1 through 13 above.\\n\\n- Interest and dividend payments. All listed payees are exempt except the payee in item 7.\\n- Broker transactions. All payees listed in items 1 through 4 and 6 through 11 are exempt. Also, C corporations are exempt. A person registered under the Investment Advisers Act of 1940 who regularly acts as a broker is also exempt.\\n- Barter exchange transactions and patronage dividends. Only payees listed in items 1 through 4 are exempt.\\n- Payments reportable under sections 6041 and 6041A. Payees listed in items 1 through 5 generally are exempt. However, the following payments made to a corporation and reportable on Form 1099-MISC, Miscellaneous Information, are not exempt from backup withholding.\\n\\n- Medical and health care payments.\\n- Attorneys\\' fees (also gross proceeds paid to an attorney, reportable under section 6045(f)).\\n- Payments for services paid by a federal executive agency. (See Rev. Rul. 2003-66, which is on page 1115 of Internal Revenue Bulletin 2003-26, available at IRS.gov/pub/irs-irbs/irb03-26.pdf.)\\n- Payments made in settlement of payment card or third party network transactions. Only payees listed in items 1 through 4 are exempt.\\n\\n# Payments Exempt From Backup Withholding\\n\\nPayments that are not subject to information reporting also are not subject to backup withholding. For details, see sections 6041, 6041A, 6042, 6044, 6049, and 6050N and their regulations. The following payments generally are exempt from backup withholding.\\n\\n- Dividends and patronage dividends.\\n- Payments to nonresident aliens subject to withholding under section 1441.\\n- Payments to partnerships not engaged in a trade or business in the United States and that have at least one nonresident alien partner.\\n- Payments of patronage dividends not paid in money.\\n- Payments made by certain foreign organizations.\\n- Section 404(k) distributions made by an employee stock ownership plan (ESOP).\\n- Interest payments.\\n- Payments of interest on obligations issued by individuals. However, if you pay $600 or more of interest in the course of your trade or business to a payee, you must report the payment.\\n\\nInstr. for Req. of Form W-9 (Rev. 3-2024)\\n---\\n# Backup withholding applies to the reportable payment if the payee has not provided a TIN or has provided an incorrect TIN.\\n\\n- Payments described in section 6049(b)(5) to nonresident aliens.\\n- Payments on tax-free covenant bonds under section 1451.\\n- Payments made by certain foreign organizations.\\n- Mortgage or student loan interest paid to you.\\n\\n# Other types of payment.\\n\\n- Wages.\\n- Distributions from a pension, annuity, profit-sharing or stock bonus plan, any IRA, an owner-employee plan, or other deferred compensation plan.\\n- Distributions from a medical or health savings account and long-term care benefits.\\n- Certain surrenders of life insurance contracts.\\n- Distribution from qualified tuition programs or Coverdell Education Savings Accounts (ESAs).\\n- Gambling winnings if regular gambling winnings withholding is required under section 3402(q). However, if regular gambling winnings withholding is not required under section 3402(q), backup withholding applies if the payee fails to furnish a TIN.\\n- Real estate transactions reportable under section 6045(e).\\n- Cancelled debts reportable under section 6050P.\\n- Fish purchases for cash reportable under section 6050R.\\n\\n# Payees and Account Holders Exempt From FATCA Reporting\\n\\nReporting under chapter 4 (FATCA) with respect to U.S. persons generally applies only to non-financial foreign entities (NFFEs), and foreign financial institutions (FFIs) (including a branch of a U.S. financial institution that is treated as an FFI under an applicable intergovernmental agreement (IGA)). For information on IGAs, see the IRS website FATCA page, available at IRS.gov/FATCA. See also Pub. 5118, FATCA Online Registration User Guide, for more information.\\n\\nThus, for example, a U.S. financial institution maintaining an account in the United States does not need to collect an exemption code for FATCA reporting. If you are providing a Form W-9, you may pre-populate the FATCA exemption code with \"Not Applicable,\" \"N/A,\" or a similar indication that an exemption from FATCA reporting does not apply. Any payee that provides such a form, however, cannot be treated as exempt from FATCA reporting. See Regulations section 1.1471-3(d)(2) for when an FFI may rely on documentary evidence to treat a U.S. person as other than a specified U.S. person, and see Regulations section 1.1471-3(f)(3) for when an FFI may apply a presumption rule and treat a U.S. person as other than a specified U.S. person.\\n\\nIf you receive a Form W-9 with a FATCA exemption code and you know or have reason to know the person is a specified U.S. person, you may not rely on the Form W-9 to treat the person as exempt from FATCA reporting. However, you may still rely on an otherwise completed Form W-9 to treat a person as a specified U.S. person. An exemption from FATCA reporting (or lack thereof) does not affect backup withholding as described earlier in these instructions. The following are not specified U.S. persons under chapter 4 and are thus exempt from FATCA reporting.\\n\\n1. An organization exempt from tax under section 501(a), or any individual retirement plan as defined in section 7701(a)(37);\\n2. The United States or any of its agencies or instrumentalities;\\n3. A state, the District of Columbia, a U.S. commonwealth or territory, or any of their political subdivisions, agencies, or instrumentalities;\\n4. A corporation the stock of which is regularly traded on one or more established securities markets, as described in Regulations section 1.1472-1(c)(1)(i);\\n5. A corporation that is a member of the same expanded affiliated group as a corporation described in Regulations section 1.1472-1(c)(1)(i);\\n6. A dealer in securities, commodities, or derivative financial instruments (including notional principal contracts, futures, forwards, and options) that is registered as such under the laws of the United States or any state;\\n7. A real estate investment trust;\\n8. A regulated investment company as defined in section 851 or an entity registered at all times during the tax year under the Investment Company Act of 1940;\\n9. A common trust fund as defined in section 584(a);\\n10. A bank as defined in section 581;\\n11. A broker;\\n12. A trust exempt from tax under section 664 or described in section 4947;\\n13. A tax-exempt trust under a section 403(b) plan or section 457(g) plan.\\n\\n# Joint Foreign Payees\\n\\nUnder chapter 4, if the first payee listed on an account gives you a form within the W-8 series, or a similar statement signed under penalties of perjury, backup withholding applies unless:\\n\\n1. Every joint payee provides the statement regarding foreign status, or\\n2. Any one of the joint payees who has not established foreign status gives you a TIN.\\n\\nIf any one of the joint payees who hasn’t established foreign status gives you a TIN, use that number for purposes of backup withholding and information reporting.\\n\\nGenerally, if a withholding agent makes a payment to joint payees and cannot reliably associate the payment with valid documentation from each payee, but all of the joint payees appear to be individuals, then the payment is presumed made to an unidentified U.S. person, and backup withholding applies. However, if one of the joint payees provides a Form W-9 in accordance with the procedures described in Regulations section 31.3406(d)-1 through 31.3406(d)-5, the payment is treated as made to that payee, and no withholding is required. See Regulations sections 1.1441-1(b)(9), and 1.1471-3(f)(7).\\n\\nFor more information on foreign payees, see the Instructions for the Requester of Forms W-8BEN, W-8BEN-E, W-8ECI, W-8EXP, and W-8IMY.\\n\\n# Names and TINs To Use for Information Reporting\\n\\nShow the full name and address as provided on Form W-9 on the information return filed with the IRS and on the copy furnished to the payee. If the payee has marked their address “NEW,” you should update your records. If you made payments to more than one payee or the account is in more than one name, enter on the first name line of the information return only the name of the payee whose TIN is shown on Form W-9. You may show the names of any other individual payees in the area below the first name line on the information return. Forms W-9 showing an ITIN must have the name exactly as shown on line 1a of the Form W-7 application. If you are a PFFI reporting a U.S. account on Form 8966, FATCA Report, and the account is\\n---\\n# Notices From the IRS\\n\\nThe IRS will send you a notice if the payee\\'s name and TIN on the information return you filed don’t match the IRS\\'s records. (See Taxpayer Identification Number (TIN) Matching next.) If you receive a backup withholding notice, you may have to send a “B” notice to the payee to solicit another TIN. Pub. 1281, Backup Withholding for Missing and Incorrect Name/TIN(s), contains copies of the two types of “B” notices. If you receive a penalty notice, you may also have to send a solicitation to the payee. See Pub. 1586, Reasonable Cause Regulations & Requirements for Missing and Incorrect Name/TINs on Information Returns.\\n\\n# Taxpayer Identification Number (TIN) Matching\\n\\nTIN matching allows a payor or authorized agent who is required to file information returns to match TIN and name combinations with IRS records before submitting the forms to the IRS. TIN matching is one of the e-services products that is offered and is accessible through the IRS website. Go to the eServices Registration home page, located at IRS.gov/e-services. See also Pub. 2108A, On-Line Taxpayer Identification Number (TIN) Matching Program, for guidance. It is anticipated that payors who validate the TIN and name combinations before filing information returns will receive fewer backup withholding (CP2100) notices and penalty notices. Program participants will generally be able to rely on a verified TIN/name match as reasonable cause under section 6724(a), which will provide significant incentive for payors to check and correct payee TINs before filing information returns and payee statements. See Rev. Proc. 2003-9, which is on page 516 of Internal Revenue Bulletin 2003-8, available at IRS.gov/pub/irs-irbs/irb03-08.pdf. Any information received through the TIN matching program must be kept confidential in accordance with Regulations section 31.3406(f)-1.\\n\\n# Payment and Returns of Tax Withheld\\n\\n# Form 945\\n\\nIf you withhold or are required to withhold federal income tax (including backup withholding) from nonpayroll payments, you must file Form 945, Annual Return of Withheld Federal Income Tax. Report all federal income tax withholding from nonpayroll payments or distributions annually on one Form 945. Form 945 is used to report income tax withholding on nonpayroll payments including backup withholding and withholding on pensions, annuities, IRAs, military retirement, and gambling winnings. A payor must remit to the IRS all monies withheld from reportable payments based on a certain deposit schedule. Form 945-A, Annual Record of Federal Tax Liability, is used to report tax liability by payors who deposit nonpayroll income tax withheld on a semiweekly schedule, or whose tax liability on any day is $100,000 or more. See T.D. 8672 for details of reporting nonpayroll withheld income taxes under section 6011. See the Instructions for Form 945.\\n\\n# Form 1042\\n\\nDon\\'t report on Form 945 withholding that is required to be reported electronically on Form 1042, Annual Withholding Tax Return for U.S. Source Income of Foreign Persons. Use Form 1042 to report tax withheld under chapter 3 on certain income of foreign persons, including nonresident aliens, foreign partnerships, foreign corporations, foreign estates, and foreign trusts. Also use Form 1042 to report tax withheld under chapter 4 on withholdable payments. See the Instructions for Form 1042 for details.\\n\\n# Additional Information\\n\\nFor more information on backup withholding, see Pubs. 1281 and 515.\\n\\nInstr. for Req. of Form W-9 (Rev. 3-2024) 7'}\n"
     ]
    }
   ],
   "source": [
    "from langchain.text_splitter import RecursiveCharacterTextSplitter\n",
    "\n",
    "# Path to repo \n",
    "REPO_PATH = \"/Users/halladaykinsey/AAI540_ML\" \n",
    "\n",
    "def load_markdown_files(directory):\n",
    "    \"\"\"Load all Markdown files from a given directory and return their content as a list of documents.\"\"\"\n",
    "    documents = []\n",
    "    for filename in os.listdir(directory):\n",
    "        if filename.endswith(\".md\"):\n",
    "            with open(os.path.join(directory, filename), \"r\", encoding=\"utf-8\") as file:\n",
    "                documents.append({\"file_name\": filename, \"content\": file.read()})\n",
    "    return documents\n",
    "\n",
    "docs = load_markdown_files(REPO_PATH)\n",
    "print(f\"Loaded {len(docs)} markdown files.\")\n",
    "print(f\"Sample document: {docs[0] if docs else 'No documents found!'}\")\n"
   ]
  },
  {
   "cell_type": "code",
   "execution_count": 3,
   "metadata": {},
   "outputs": [
    {
     "name": "stdout",
     "output_type": "stream",
     "text": [
      "Sample Chunk: {'file_name': 'w9.md', 'chunk_id': 0, 'content': '# Instructions for the Internal Revenue Service\\n\\n# Requester of Form W-9 (Rev. March 2024)\\n\\n# Request for Taxpayer Identification Number and Certification\\n\\nSection references are to the Internal Revenue Code unless otherwise noted.\\n\\n# Future Developments\\n\\nFor the latest developments related to Form W-9 and its instructions, such as legislation enacted after they were published, go to IRS.gov/FormW9.\\n\\n# What’s New'}\n"
     ]
    }
   ],
   "source": [
    "# Splitting text into smaller chunks\n",
    "def chunk_text(documents, chunk_size=500, overlap=100):\n",
    "    \"\"\"Splits documents into chunks with overlap.\"\"\"\n",
    "    text_splitter = RecursiveCharacterTextSplitter(chunk_size=chunk_size, chunk_overlap=overlap)\n",
    "    chunked_docs = []\n",
    "    \n",
    "    for doc in documents:\n",
    "        chunks = text_splitter.split_text(doc[\"content\"])\n",
    "        for i, chunk in enumerate(chunks):\n",
    "            chunked_docs.append({\n",
    "                \"file_name\": doc[\"file_name\"],\n",
    "                \"chunk_id\": i,\n",
    "                \"content\": chunk\n",
    "            })\n",
    "    return chunked_docs\n",
    "\n",
    "# Processing markdown files into chunks\n",
    "chunks = chunk_text(docs)\n",
    "\n",
    "# Printing sample chunk\n",
    "print(f\"Sample Chunk: {chunks[0]}\")"
   ]
  },
  {
   "cell_type": "code",
   "execution_count": 4,
   "metadata": {},
   "outputs": [
    {
     "name": "stderr",
     "output_type": "stream",
     "text": [
      "/Users/halladaykinsey/myenv/lib/python3.12/site-packages/tqdm/auto.py:21: TqdmWarning: IProgress not found. Please update jupyter and ipywidgets. See https://ipywidgets.readthedocs.io/en/stable/user_install.html\n",
      "  from .autonotebook import tqdm as notebook_tqdm\n",
      "/Users/halladaykinsey/myenv/lib/python3.12/site-packages/transformers/tokenization_utils_base.py:1617: FutureWarning: `clean_up_tokenization_spaces` was not set. It will be set to `True` by default. This behavior will be deprecated in transformers v4.45, and will be then set to `False` by default. For more details check this issue: https://github.com/huggingface/transformers/issues/31884\n",
      "  warnings.warn(\n"
     ]
    }
   ],
   "source": [
    "from sentence_transformers import SentenceTransformer\n",
    "\n",
    "embedding_model = SentenceTransformer(\"all-MiniLM-L6-v2\")\n",
    "\n",
    "chunk_embeddings = [\n",
    "    {\n",
    "        \"file_name\": chunk[\"file_name\"],\n",
    "        \"chunk_id\": chunk[\"chunk_id\"],\n",
    "        \"content\": chunk[\"content\"], \n",
    "        \"embedding\": embedding_model.encode(chunk[\"content\"])\n",
    "    }\n",
    "    for chunk in chunks\n",
    "]"
   ]
  },
  {
   "cell_type": "code",
   "execution_count": 5,
   "metadata": {},
   "outputs": [
    {
     "name": "stdout",
     "output_type": "stream",
     "text": [
      "Pinecone index 'tax-rag' is ready!\n"
     ]
    }
   ],
   "source": [
    "import pinecone\n",
    "\n",
    "# Initializing Pinecone \n",
    "pc = pinecone.Pinecone(api_key=os.getenv(\"PINECONE_API_KEY\"))\n",
    "\n",
    "# Setting index name\n",
    "index_name = \"tax-rag\"\n",
    "\n",
    "if index_name not in [index.name for index in pc.list_indexes()]:\n",
    "    pc.create_index(\n",
    "        name=index_name, \n",
    "        spec=pinecone.ServerlessSpec(\n",
    "            cloud=\"aws\",  \n",
    "            region=\"us-east-1\"\n",
    "        ), \n",
    "        dimension=384, \n",
    "        metric=\"cosine\"\n",
    "    )\n",
    "\n",
    "# Connecting to index \n",
    "index = pc.Index(index_name)\n",
    "\n",
    "print(f\"Pinecone index '{index_name}' is ready!\")"
   ]
  },
  {
   "cell_type": "code",
   "execution_count": 6,
   "metadata": {},
   "outputs": [],
   "source": [
    "# Preparing vectors for Pinecone\n",
    "vectors = [\n",
    "    (f\"{chunk['file_name']}_{chunk['chunk_id']}\", chunk[\"embedding\"], {\"text\": chunk[\"content\"]})\n",
    "    for chunk in chunk_embeddings\n",
    "]"
   ]
  },
  {
   "cell_type": "code",
   "execution_count": 7,
   "metadata": {},
   "outputs": [
    {
     "name": "stdout",
     "output_type": "stream",
     "text": [
      "Uploaded batch 1/38\n",
      "Uploaded batch 2/38\n",
      "Uploaded batch 3/38\n",
      "Uploaded batch 4/38\n",
      "Uploaded batch 5/38\n",
      "Uploaded batch 6/38\n",
      "Uploaded batch 7/38\n",
      "Uploaded batch 8/38\n",
      "Uploaded batch 9/38\n",
      "Uploaded batch 10/38\n",
      "Uploaded batch 11/38\n",
      "Uploaded batch 12/38\n",
      "Uploaded batch 13/38\n",
      "Uploaded batch 14/38\n",
      "Uploaded batch 15/38\n",
      "Uploaded batch 16/38\n",
      "Uploaded batch 17/38\n",
      "Uploaded batch 18/38\n",
      "Uploaded batch 19/38\n",
      "Uploaded batch 20/38\n",
      "Uploaded batch 21/38\n",
      "Uploaded batch 22/38\n",
      "Uploaded batch 23/38\n",
      "Uploaded batch 24/38\n",
      "Uploaded batch 25/38\n",
      "Uploaded batch 26/38\n",
      "Uploaded batch 27/38\n",
      "Uploaded batch 28/38\n",
      "Uploaded batch 29/38\n",
      "Uploaded batch 30/38\n",
      "Uploaded batch 31/38\n",
      "Uploaded batch 32/38\n",
      "Uploaded batch 33/38\n",
      "Uploaded batch 34/38\n",
      "Uploaded batch 35/38\n",
      "Uploaded batch 36/38\n",
      "Uploaded batch 37/38\n",
      "Uploaded batch 38/38\n",
      "✅ All embeddings successfully stored in Pinecone!\n"
     ]
    }
   ],
   "source": [
    "# Function to batch and upload embeddings\n",
    "def batch_upsert(index, vectors, batch_size=100):\n",
    "    \"\"\"Upserts embeddings in smaller batches to avoid Pinecone's request size limit.\"\"\"\n",
    "    for i in range(0, len(vectors), batch_size):\n",
    "        batch = vectors[i : i + batch_size]  # Get batch slice\n",
    "        index.upsert(batch)  # Upload batch\n",
    "        print(f\"Uploaded batch {i // batch_size + 1}/{(len(vectors) // batch_size) + 1}\")\n",
    "\n",
    "# Uploading embeddings in batches\n",
    "batch_upsert(index, vectors)\n",
    "\n",
    "print(\"✅ All embeddings successfully stored in Pinecone!\")"
   ]
  },
  {
   "cell_type": "code",
   "execution_count": 8,
   "metadata": {},
   "outputs": [],
   "source": [
    "query = \"What forms do I need to file as a self-employed individual?\"\n",
    "query_embedding = embedding_model.encode(query).tolist()"
   ]
  },
  {
   "cell_type": "code",
   "execution_count": 9,
   "metadata": {},
   "outputs": [
    {
     "name": "stdout",
     "output_type": "stream",
     "text": [
      "🔍 Top matching tax instructions:\n",
      "🔹 Score: 0.694014966\n",
      "📄 Text: your share of the applicable income, deduction, or loss. Each of you must also file a separate Schedule SE (Form 1040), Self-Employment Tax, to pay self-employment tax, as applicable.\n",
      "\n",
      "🔹 Score: 0.670240104\n",
      "📄 Text: For more information on e-filing, see E-file for Business and Self-employed Taxpayers on IRS.gov.\n",
      "\n",
      "# Waivers\n",
      "\n",
      "🔹 Score: 0.609281301\n",
      "📄 Text: |9. Enter the earned income you (and your spouse if filing jointly) received as a self-employed individual or a partner. Generally, this is your (and your spouse's if filing jointly) net earnings from self-employment if your personal services were a material income-producing factor, minus any deductions on Schedule 1, lines 15 and 16. If zero or less, enter -0-. For more details, see Pub. 590-A.| |\n",
      "|10. Add lines 8 and 9.| |\n",
      "|!|!|\n",
      "\n",
      "🔹 Score: 0.562972605\n",
      "📄 Text: You can order forms, instructions, and publications at IRS.gov/OrderForms. For any other tax information, go to IRS.gov/Help/Tax-Law-Questions.\n",
      "\n",
      "# Who must file Form W-2\n",
      "\n",
      "You must file Form(s) W-2 if you have one or more employees to whom you made payments (including noncash payments) for the employees’ services in your trade or business during 2024.\n",
      "\n",
      "Complete and file Form W-2 for each employee for whom any of the following applies (even if the employee is related to you):\n",
      "\n",
      "🔹 Score: 0.5450508\n",
      "📄 Text: # Who Must File\n",
      "\n",
      "# Domestic Partnerships\n",
      "\n",
      "Except as provided below, every domestic partnership must file Form 1065, unless it neither receives income nor incurs any expenditures treated as deductions or credits for federal income tax purposes.\n",
      "\n"
     ]
    }
   ],
   "source": [
    "# Search Pinecone for the most relevant chunks\n",
    "results = index.query(vector=query_embedding, top_k=5, include_metadata=True)\n",
    "\n",
    "# Print top results\n",
    "print(\"🔍 Top matching tax instructions:\")\n",
    "for match in results[\"matches\"]:\n",
    "    print(f\"🔹 Score: {match['score']}\")\n",
    "    print(f\"📄 Text: {match['metadata']['text']}\\n\")"
   ]
  },
  {
   "cell_type": "code",
   "execution_count": 10,
   "metadata": {},
   "outputs": [
    {
     "name": "stderr",
     "output_type": "stream",
     "text": [
      "/var/folders/8j/8zxjcfw125g4mfl6xvm5bl080000gn/T/ipykernel_37932/169048624.py:6: LangChainDeprecationWarning: The class `ChatOpenAI` was deprecated in LangChain 0.0.10 and will be removed in 1.0. An updated version of the class exists in the :class:`~langchain-openai package and should be used instead. To use it run `pip install -U :class:`~langchain-openai` and import as `from :class:`~langchain_openai import ChatOpenAI``.\n",
      "  llm = ChatOpenAI(model_name=\"gpt-4\", openai_api_key=openai_api_key)\n",
      "/var/folders/8j/8zxjcfw125g4mfl6xvm5bl080000gn/T/ipykernel_37932/169048624.py:13: LangChainDeprecationWarning: The method `BaseChatModel.predict` was deprecated in langchain-core 0.1.7 and will be removed in 1.0. Use :meth:`~invoke` instead.\n",
      "  response = llm.predict(f\"Based on the following tax instructions, answer this question:\\n\\n{context}\\n\\nQuestion: {query}\")\n"
     ]
    },
    {
     "name": "stdout",
     "output_type": "stream",
     "text": [
      "🤖 AI Response:\n",
      "As a self-employed individual, you need to file a Schedule SE (Form 1040) for Self-Employment Tax and possibly Form 1065 if you are part of a domestic partnership. If you have one or more employees, you also need to file Form(s) W-2.\n"
     ]
    }
   ],
   "source": [
    "from langchain.chat_models import ChatOpenAI\n",
    "from langchain.chains import RetrievalQA\n",
    "\n",
    "# Initializing OpenAI GPT model for testing\n",
    "openai_api_key = os.getenv(\"OPENAI_API_KEY\")\n",
    "llm = ChatOpenAI(model_name=\"gpt-4\", openai_api_key=openai_api_key)\n",
    "\n",
    "# Converting retrieved text chunks into context\n",
    "retrieved_texts = [match[\"metadata\"][\"text\"] for match in results[\"matches\"]]\n",
    "context = \"\\n\".join(retrieved_texts)\n",
    "\n",
    "# Calling GPT-4 to respond using the retrieved context\n",
    "response = llm.predict(f\"Based on the following tax instructions, answer this question:\\n\\n{context}\\n\\nQuestion: {query}\")\n",
    "\n",
    "print(\"🤖 AI Response:\")\n",
    "print(response)"
   ]
  }
 ],
 "metadata": {
  "kernelspec": {
   "display_name": "myenv",
   "language": "python",
   "name": "python3"
  },
  "language_info": {
   "codemirror_mode": {
    "name": "ipython",
    "version": 3
   },
   "file_extension": ".py",
   "mimetype": "text/x-python",
   "name": "python",
   "nbconvert_exporter": "python",
   "pygments_lexer": "ipython3",
   "version": "3.12.4"
  }
 },
 "nbformat": 4,
 "nbformat_minor": 2
}
